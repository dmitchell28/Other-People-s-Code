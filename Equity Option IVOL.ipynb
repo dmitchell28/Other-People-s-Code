{
 "cells": [
  {
   "cell_type": "markdown",
   "metadata": {},
   "source": [
    "# Equity Option Implied Volatility Analytics with Python\n",
    "\n",
    "Modified notebook from Jason Strimpel's [talk](https://github.com/jasonstrimpel/PyData-Meetup).\n"
   ]
  },
  {
   "cell_type": "markdown",
   "metadata": {},
   "source": [
    "# Important jargon\n",
    "\n",
    "\n",
    "### Terms to know\n",
    "\n",
    "* __Call option__. Derivative contract which conveys the right (not the obligation) to the buyer of the option to purchase the underlying stock at a specific price on a certain date.\n",
    "\n",
    "* __Put option__. Derivative contract which conveys the right (not the obligation) to the buyer of the option to sell the underlying stock at a specific price on a certain date.\n",
    "\n",
    "* __In the money__. Condition where the stock price is greater than the strike price for a call option or lower than the strike price for a put option\n",
    "\n",
    "* __Out the money__. Opposite of in the money.\n",
    "\n",
    "* __At the money__. The stock price is equal to the strike price.\n",
    "\n",
    "* __Implied volatility__. Volatiltiy parameter that sets the pricing model equal to the market price of the option. (Much more on this later.)\n",
    "\n",
    "### Input parameters to price options\n",
    "\n",
    "Options priced with Black-Scholes have five input variables, four of which can be observed in the market and one of which is latent (unobservable, more on this later).\n",
    "\n",
    "* __Underlying stock price ($S$)__. Price of the underlying stock upon which the option derives its value.\n",
    "\n",
    "* __Strike price ($K$)__. The price at which the owner of the option can buy the underlying in the case of a call or sell the underlying in the case of a put.\n",
    "\n",
    "* __Time to expiration ($t$)__. Time (as a fraction of a 365 day year) until the expiration of the option.\n",
    "\n",
    "* __Risk free rate ($r$)__. So-called risk free rate (this is better described as the rate of interest you would earn in a riskless security over the holding period of the option)\n",
    "\n",
    "* __Volatility ($vol$)__. Volatility (or more usually implied volatility) is a latent value not actually observed in the market.\n",
    "\n",
    "Let's import our modules and declare these variables in Python for later use."
   ]
  },
  {
   "cell_type": "code",
   "execution_count": 2,
   "metadata": {},
   "outputs": [
    {
     "name": "stdout",
     "output_type": "stream",
     "text": [
      "Numpy 1.14.0\n",
      "Matplotlib 2.1.2\n",
      "Scipy 1.0.0\n",
      "Pandas 0.22.0\n"
     ]
    }
   ],
   "source": [
    "# magic function to plot inline\n",
    "%matplotlib inline\n",
    "\n",
    "# python standard modules\n",
    "import time\n",
    "import datetime as dt\n",
    "from math import sqrt, pi\n",
    "\n",
    "\n",
    "# import numpy, pyplot and scipy\n",
    "import numpy as np\n",
    "import matplotlib as mat\n",
    "mat.style.use('ggplot')\n",
    "import matplotlib.pyplot as plt\n",
    "from mpl_toolkits.mplot3d import Axes3D\n",
    "import scipy\n",
    "from scipy.stats import norm\n",
    "from scipy.optimize import brentq\n",
    "from scipy.interpolate import interp1d\n",
    "\n",
    "# import pandas\n",
    "import pandas\n",
    "# new in 0.17.1\n",
    "from pandas_datareader import data as pd\n",
    "\n",
    "\n",
    "print ('Numpy %s\\nMatplotlib %s\\nScipy %s\\nPandas %s' % \\\n",
    "    (np.__version__, mat.__version__, scipy.__version__, pandas.__version__))"
   ]
  },
  {
   "cell_type": "markdown",
   "metadata": {},
   "source": [
    "### Jump to Yahoo fetch...\n",
    "- <a href=\"#fin\">Market Data Options Fetch</a><br>"
   ]
  },
  {
   "cell_type": "code",
   "execution_count": 3,
   "metadata": {},
   "outputs": [],
   "source": [
    "# underlying stock price\n",
    "S = 45.0\n",
    "\n",
    "# series of underlying stock prices to demonstrate a payoff profile\n",
    "S_ = np.arange(40.0, 50.0, 0.01)\n",
    "\n",
    "# strike price\n",
    "K = 45.0\n",
    "\n",
    "# time to expiration (you'll see this as T-t in the equation)\n",
    "t = 164.0/365.0\n",
    "\n",
    "# risk free rate (there's nuance to this which we'll describe later)\n",
    "r = 0.02\n",
    "\n",
    "# volatility (latent variable which is the topic of this talk)\n",
    "vol = 0.25"
   ]
  },
  {
   "cell_type": "markdown",
   "metadata": {},
   "source": [
    "# What are options?\n",
    "\n",
    "Options are standardized derivatives contracts that convey the buyer the right (but not obligation) to buy the underlying security in the case of a call option or sell the underlying security in the case of a put option at a given price before a given date (for American style options) or on a given date (European style options).\n",
    "\n",
    "We will focus on plain vanilla, european style, equity options so we can use the famous Black-Scholes pricing formula. More on Black-Scholes a bit later.\n",
    "\n",
    "Most derivatives have a payoff function which describes the value at the end of the life of the contract (expiration). For a call option, the payoff can be expressed simply as:\n",
    "\n",
    "> $$C(S, K) = max(S-K, 0)$$\n",
    "\n",
    "While the payoff for a put option can be expressed as:\n",
    "\n",
    "> $$P(K, S) = max(K-S, 0)$$\n",
    "\n",
    "Where $S$ and $K$ are defined above. In this case, $K$ remains fixed during the life of a contract while the underlying stock price, $S$, fluctuates..\n",
    "\n",
    "Across a range of potential $S$ values, we can form what is commonly known as the payoff (or risk profile or PnL chart) for an option at expiration.\n"
   ]
  },
  {
   "cell_type": "code",
   "execution_count": 4,
   "metadata": {},
   "outputs": [
    {
     "data": {
      "text/plain": [
       "[<matplotlib.lines.Line2D at 0x7a6fe200f0b8>]"
      ]
     },
     "execution_count": 4,
     "metadata": {},
     "output_type": "execute_result"
    },
    {
     "data": {
      "image/png": "[encoded data removed]",
      "text/plain": [
       "<matplotlib.figure.Figure at 0x7a6fe98e7e80>"
      ]
     },
     "metadata": {},
     "output_type": "display_data"
    },
    {
     "data": {
      "image/png": "[encoded data removed]",
      "text/plain": [
       "<matplotlib.figure.Figure at 0x7a6fe9887550>"
      ]
     },
     "metadata": {},
     "output_type": "display_data"
    }
   ],
   "source": [
    "# use a lambda for a call payoff function\n",
    "# equivelant to:\n",
    "#\n",
    "# def call_payoff(S, K):\n",
    "#     return np.maximum(S - K, 0.0)\n",
    "call_payoff = lambda S, K: np.maximum(S_ - K, 0.0)\n",
    "\n",
    "# and put payoff function\n",
    "put_payoff = lambda S, K: np.maximum(K - S_, 0.0)\n",
    "\n",
    "# plot the call payoff \n",
    "plt.figure(1)\n",
    "plt.title('Call option payoff at expiration')\n",
    "plt.xlabel('Underlying stock price, S')\n",
    "plt.plot(S_, call_payoff(S_, K))\n",
    "\n",
    "# plot the put payoff\n",
    "plt.figure(2)\n",
    "plt.title('Put option payoff at expiration')\n",
    "plt.xlabel('Underlying stock price, S')\n",
    "plt.plot(S_, put_payoff(S_, K))"
   ]
  },
  {
   "cell_type": "markdown",
   "metadata": {},
   "source": [
    "# (Some of) the math\n",
    "\n",
    "The famous Black-Scholes model:\n",
    "\n",
    "> $$\\frac{\\partial V}{\\partial t} + \\frac{1}{2}\\sigma^{2}S^{2}\\frac{\\partial^{2} V}{\\partial S^{2}}+rS\\frac{\\partial V}{\\partial S}-rV=0$$\n",
    "\n",
    "The key financial insight behind the equation is that one can perfectly hedge the option by buying and selling the underlying asset in just the right way and consequently create an arbitrage free environment. This hedge, in turn, implies that there is only one right price for the option, as returned by the Black–Scholes formula. For this dynamic hedging to work, one must continuously hedge the movement in the underlying stock with the option which in reality, is prohibitive due to transaction costs.\n",
    "\n",
    "I'll skip the derivation of the option pricing formulas from the partial differential equation but the result solves for a call option\n",
    "\n",
    "> $$C(S, t) = N(d_{1})S - N(d_{2})Ke^{-r(T-t)}$$\n",
    "\n",
    "and put option\n",
    "\n",
    "> $$P(S, t) = N(-d_{2})Ke^{-r(T-t)} - N(-d_{1})S$$\n",
    "\n",
    "where\n",
    "\n",
    "> $$d_{1} = \\frac{ln(\\frac{S}{K})+(r+\\frac{\\sigma^{2}}{2})(T-t)}{\\sigma\\sqrt{T-t}}$$\n",
    "\n",
    "and\n",
    "\n",
    "> $$d_{2} = d_{1} - \\sigma\\sqrt{T-t}$$\n",
    "\n",
    "and finally (as we discussed above)\n",
    "\n",
    "* $N(\\cdot)$ is the cumulative distribution function of the standard normal distribution\n",
    "* $T - t$ is the time to maturity (I use $t$ in the code)\n",
    "* $S$ is the spot price of the underlying asset\n",
    "* $K$ is the strike price\n",
    "* $r$ is the risk free rate (annual rate, expressed in terms of continuous compounding)\n",
    "* $\\sigma$ is the volatility of returns of the underlying asset (I use $vol$ in the code)"
   ]
  },
  {
   "cell_type": "markdown",
   "metadata": {},
   "source": [
    "# Black-Scholes formula in Python\n",
    "\n",
    "Finally, enough math and some code. We'll be using Numpy so we vectorize the function which will help us later."
   ]
  },
  {
   "cell_type": "code",
   "execution_count": 5,
   "metadata": {},
   "outputs": [],
   "source": [
    "def N(z):\n",
    "    \"\"\" Normal cumulative density function\n",
    "\n",
    "    :param z: point at which cumulative density is calculated \n",
    "    :return: cumulative density under normal curve\n",
    "    \"\"\"\n",
    "    return norm.cdf(z)\n",
    "\n",
    "\n",
    "def black_scholes_call_value(S, K, r, t, vol):\n",
    "    \"\"\" Black-Scholes call option\n",
    "\n",
    "    :param S: underlying\n",
    "    :param K: strike price\n",
    "    :param r: rate\n",
    "    :param t: time to expiration\n",
    "    :param vol: volatility\n",
    "    :return: BS call option value\n",
    "    \"\"\"\n",
    "    d1 = (1.0/(vol * np.sqrt(t))) * (np.log(S/K) + (r + 0.5 * vol**2.0) * t)\n",
    "    d2 = d1 - (vol * np.sqrt(t))\n",
    "    \n",
    "    return N(d1) * S - N(d2) * K * np.exp(-r * t)\n",
    "\n",
    "def black_scholes_put_value(S, K, r, t, vol):\n",
    "    \"\"\" Black-Scholes put option\n",
    "\n",
    "    :param S: underlying\n",
    "    :param K: strike price\n",
    "    :param r: rate\n",
    "    :param t: time to expiration\n",
    "    :param vol: volatility\n",
    "    :return: BS put option value\n",
    "    \"\"\"\n",
    "    d1 = (1.0/(vol * np.sqrt(t))) * (np.log(S/K) + (r + 0.5 * vol**2.0) * t)\n",
    "    d2 = d1 - (vol * np.sqrt(t))\n",
    "    \n",
    "    return N(-d2) * K * np.exp(-r * t) - N(-d1) * S\n"
   ]
  },
  {
   "cell_type": "code",
   "execution_count": 6,
   "metadata": {},
   "outputs": [
    {
     "name": "stdout",
     "output_type": "stream",
     "text": [
      "Black-Scholes call value 3.20\n",
      "Black-Scholes put value 2.79\n"
     ]
    }
   ],
   "source": [
    "print ('Black-Scholes call value %0.2f' % black_scholes_call_value(S, K, r, t, vol))\n",
    "print ('Black-Scholes put value %0.2f' % black_scholes_put_value(S, K, r, t, vol))"
   ]
  },
  {
   "cell_type": "markdown",
   "metadata": {},
   "source": [
    "Because we vectorized the function, we can plot the Black-Scholes call value along a range of underlying stock prices. Going back to our example of the option value at expiration, let's see what it looks like with six, three and one month left to expiration."
   ]
  },
  {
   "cell_type": "code",
   "execution_count": 7,
   "metadata": {},
   "outputs": [],
   "source": [
    "# get the value of the option with six months to expiration\n",
    "black_scholes_call_value_six_months = black_scholes_call_value(S_, K, r, 0.5, vol)\n",
    "\n",
    "# get the value of the option with three months to expiration\n",
    "black_scholes_call_value_three_months = black_scholes_call_value(S_, K, r, 0.25, vol)\n",
    "\n",
    "# get the value of the option with one month to expiration\n",
    "black_scholes_call_value_one_month = black_scholes_call_value(S_, K, r, 1.0/12.0, vol)\n",
    "\n",
    "# get payoff value at expiration\n",
    "call_payoff_at_expiration = call_payoff(S_, K)"
   ]
  },
  {
   "cell_type": "code",
   "execution_count": 8,
   "metadata": {},
   "outputs": [
    {
     "data": {
      "text/plain": [
       "<matplotlib.legend.Legend at 0x7a6fe1f5cf28>"
      ]
     },
     "execution_count": 8,
     "metadata": {},
     "output_type": "execute_result"
    },
    {
     "data": {
      "image/png": "[encoded data removed]",
      "text/plain": [
       "<matplotlib.figure.Figure at 0x7a6fe2001518>"
      ]
     },
     "metadata": {},
     "output_type": "display_data"
    }
   ],
   "source": [
    "# plot the call payoffs\n",
    "plt.figure(3)\n",
    "plt.plot(S_, black_scholes_call_value_six_months)\n",
    "plt.plot(S_, black_scholes_call_value_three_months)\n",
    "plt.plot(S_, black_scholes_call_value_one_month)\n",
    "plt.plot(S_, call_payoff_at_expiration)\n",
    "plt.title('Black-Schnoles price of option through time')\n",
    "plt.xlabel('Underlying stock price, S')\n",
    "plt.legend(['t=0.5', 't=0.25', 't=0.083', 't=0'], loc=2)"
   ]
  },
  {
   "cell_type": "markdown",
   "metadata": {},
   "source": [
    "As you can see from the plot above, as the time to expiration decreases, the value of the option collapses towards the value of the option at expiration, or the payoff value."
   ]
  },
  {
   "cell_type": "markdown",
   "metadata": {},
   "source": [
    "# The Greeks\n",
    "\n",
    "A discussion about Black-Scholes would not be complete without a discussion of the Greeks. In mathematical terms, the Greeks are simply the partial derivatives of the option pricing formula. In other words, these are the sensitivities in the movement of the option price relative to the movement of other aspects of the input variables.\n",
    "\n",
    "Because the assumptions required for the Black-Scholes model do not hold true in practice, the plain vanilla formula presented above is not usually used for pricing options for the purposes of trading. (In fact if one were to rely on Black-Scholes to manage a portfolio of options, that trader would surely lose money.) It is however, largely used for understanding the sensitivities of the option with respect to it's parameters and to hedge. The most common Greeks are as follows.\n",
    "\n",
    "* **Delta**. Partial derivative of the option value with respect to the change in the underlying stock price. Delta measures how the underlying option moves with respect to moves in the underlying stock. The formula for delta is different for calls and puts.\n",
    "\n",
    "> Call delta\n",
    "> $$\\frac{\\partial V}{\\partial S} = N(d_{1})$$\n",
    "\n",
    "> Put delta\n",
    "> $$\\frac{\\partial V}{\\partial S} = N(d_{1})-1$$\n",
    "\n",
    "* **Gamma**. Second partial derivative of the option value with respect to the change in the underlying stock price. Gamma measures movements in delta or the convexity in the value of the option with respect to the underlying.\n",
    "\n",
    "> Gamma (same for call and put)\n",
    "> $$\\frac{\\partial^2 V}{\\partial S^2} = \\frac{\\phi(d_{1})}{S\\sigma \\sqrt{T-t}}$$\n",
    "\n",
    "* **Vega**. Partial derivative of the option value with respect to the change in the volatility of the underling. Vega measures how the option price moves with respect to the volatility of the underlying. (Note vega is not a real greek letter.)\n",
    "\n",
    "> Vega (same for call and put)\n",
    "> $$\\frac{\\partial V}{\\partial \\sigma} = S\\phi(d_{1}) \\sqrt{T-t}$$\n",
    "\n",
    "* **Theta**. Partial derivative of the option value with respect to the change in time. Theta measures how the value of the option decays as time passes. This was demonstrated in the plot above.\n",
    "\n",
    "> Call theta\n",
    "> $$\\frac{\\partial V}{\\partial t} = -\\frac{S\\phi(d_{1})\\sigma}{2\\sqrt{T-t}} -rKe^{-r(T-t)}N(d_2)$$\n",
    "\n",
    "> Put theta\n",
    "> $$\\frac{\\partial V}{\\partial t} = -\\frac{S\\phi(d_{1})\\sigma}{2\\sqrt{T-t}} +rKe^{-r(T-t)}N(-d_2)$$\n",
    "\n",
    "* **Rho**. Partial derivative of the option value with respect to change in the risk-free interest rate. Rho measures how the option value changes as the interest rate changes.\n",
    "\n",
    "> Call rho\n",
    "> $$\\frac{\\partial V}{\\partial r} = K(T-t)e^{-r(T-t)}N(d_2)$$\n",
    "\n",
    "> Put rho\n",
    "> $$\\frac{\\partial V}{\\partial r} = -K(T-t)e^{-r(T-t)}N(-d_2)$$\n",
    "\n",
    "Where $\\phi$\n",
    "\n",
    "> $$\\phi(x) = \\frac{e^{-\\frac{x^2}{2}}}{\\sqrt{2\\pi}}$$\n",
    "\n",
    "and $N(\\cdot)$, $d_1$ and $d_2$ are defined above."
   ]
  },
  {
   "cell_type": "markdown",
   "metadata": {},
   "source": [
    "# The greeks in Python\n",
    "\n",
    "Although we won't be discussing the greeks any further in this talk, let's code them up for completeness."
   ]
  },
  {
   "cell_type": "code",
   "execution_count": 9,
   "metadata": {},
   "outputs": [],
   "source": [
    "def phi(x):\n",
    "    \"\"\" Phi helper function\n",
    "    \n",
    "    \"\"\"\n",
    "    return np.exp(-0.5 * x * x) / (sqrt(2.0 * pi))\n",
    "\n",
    "def call_delta(S, K, r, t, vol):\n",
    "    \"\"\" Black-Scholes call delta\n",
    "    \n",
    "    :param S: underlying\n",
    "    :param K: strike price\n",
    "    :param r: rate\n",
    "    :param t: time to expiration\n",
    "    :param vol: volatility\n",
    "    :return: call delta\n",
    "    \"\"\"\n",
    "    d1 = (1.0/(vol * np.sqrt(t))) * (np.log(S/K) + (r + 0.5 * vol**2.0) * t)\n",
    "    \n",
    "    return N(d1)\n",
    "\n",
    "def put_delta(S, K, r, t, vol):\n",
    "    \"\"\" Black-Scholes put delta\n",
    "    \n",
    "    :param S: underlying\n",
    "    :param K: strike price\n",
    "    :param r: rate\n",
    "    :param t: time to expiration\n",
    "    :param vol: volatility\n",
    "    :return: put delta\n",
    "    \"\"\"\n",
    "    d1 = (1.0/(vol * np.sqrt(t))) * (np.log(S/K) + (r + 0.5 * vol**2.0) * t)\n",
    "    \n",
    "    return N(d1) - 1.0\n",
    "\n",
    "def gamma(S, K, r, t, vol):\n",
    "    \"\"\" Black-Scholes gamma\n",
    "    \n",
    "    :param S: underlying\n",
    "    :param K: strike price\n",
    "    :param r: rate\n",
    "    :param t: time to expiration\n",
    "    :param vol: volatility\n",
    "    :return: gamma\n",
    "    \"\"\"\n",
    "    d1 = (1.0/(vol * np.sqrt(t))) * (np.log(S/K) + (r + 0.5 * vol**2.0) * t)\n",
    "    \n",
    "    return phi(d1) / (S * vol * sqrt(t))\n",
    "\n",
    "def vega(S, K, r, t, vol):\n",
    "    \"\"\" Black-Scholes vega\n",
    "    \n",
    "    :param S: underlying\n",
    "    :param K: strike price\n",
    "    :param r: rate\n",
    "    :param t: time to expiration\n",
    "    :param vol: volatility\n",
    "    :return: vega\n",
    "    \"\"\"\n",
    "    d1 = (1.0/(vol * np.sqrt(t))) * (np.log(S/K) + (r + 0.5 * vol**2.0) * t)\n",
    "    \n",
    "    return (S * phi(d1) * sqrt(t)) / 100.0\n",
    "\n",
    "def call_theta(S, K, r, t, vol):\n",
    "    \"\"\" Black-Scholes call theta\n",
    "    \n",
    "    :param S: underlying\n",
    "    :param K: strike price\n",
    "    :param r: rate\n",
    "    :param t: time to expiration\n",
    "    :param vol: volatility\n",
    "    :return: call theta\n",
    "    \"\"\"\n",
    "    d1 = (1.0/(vol * np.sqrt(t))) * (np.log(S/K) + (r + 0.5 * vol**2.0) * t)\n",
    "    d2 = d1 - (vol * np.sqrt(t))\n",
    "    \n",
    "    theta = -((S * phi(d1) * vol) / (2.0 * np.sqrt(t))) - (r * K * np.exp(-r * t) * N(d2))\n",
    "    return theta / 365.0\n",
    "\n",
    "def put_theta(S, K, r, t, vol):\n",
    "    \"\"\" Black-Scholes put theta\n",
    "    \n",
    "    :param S: underlying\n",
    "    :param K: strike price\n",
    "    :param r: rate\n",
    "    :param t: time to expiration\n",
    "    :param vol: volatility\n",
    "    :return: put theta\n",
    "    \"\"\"\n",
    "    d1 = (1.0/(vol * np.sqrt(t))) * (np.log(S/K) + (r + 0.5 * vol**2.0) * t)\n",
    "    d2 = d1 - (vol * np.sqrt(t))\n",
    "    \n",
    "    theta = -((S * phi(d1) * vol) / (2.0 * np.sqrt(t))) + (r * K * np.exp(-r * t) * N(-d2))\n",
    "    return theta / 365.0\n",
    "\n",
    "def call_rho(S, K, r, t, vol):\n",
    "    \"\"\" Black-Scholes call rho\n",
    "    \n",
    "    :param S: underlying\n",
    "    :param K: strike price\n",
    "    :param r: rate\n",
    "    :param t: time to expiration\n",
    "    :param vol: volatility\n",
    "    :return: call rho\n",
    "    \"\"\"\n",
    "    d1 = (1.0/(vol * np.sqrt(t))) * (np.log(S/K) + (r + 0.5 * vol**2.0) * t)\n",
    "    d2 = d1 - (vol * np.sqrt(t))\n",
    "    \n",
    "    rho = K * t * np.exp(-r * t) * N(d2)\n",
    "    return rho / 100.0\n",
    "\n",
    "def put_rho(S, K, r, t, vol):\n",
    "    \"\"\" Black-Scholes put rho\n",
    "    \n",
    "    :param S: underlying\n",
    "    :param K: strike price\n",
    "    :param r: rate\n",
    "    :param t: time to expiration\n",
    "    :param vol: volatility\n",
    "    :return: put rho\n",
    "    \"\"\"\n",
    "    d1 = (1.0/(vol * np.sqrt(t))) * (np.log(S/K) + (r + 0.5 * vol**2.0) * t)\n",
    "    d2 = d1 - (vol * np.sqrt(t))\n",
    "    \n",
    "    rho = -K * t * np.exp(-r * t) * N(-d2)\n",
    "    return rho / 100.0"
   ]
  },
  {
   "cell_type": "code",
   "execution_count": 10,
   "metadata": {},
   "outputs": [
    {
     "name": "stdout",
     "output_type": "stream",
     "text": [
      "Black-Scholes call delta 0.5546\n",
      "Black-Scholes put delta -0.4454\n",
      "Black-Scholes gamma 0.0524\n",
      "Black-Scholes vega 0.1192\n",
      "Black-Scholes call theta -0.0103\n",
      "Black-Scholes put theta -0.0078\n",
      "Black-Scholes call rho 0.0978\n",
      "Black-Scholes put rho -0.1026\n"
     ]
    }
   ],
   "source": [
    "# print each of the results\n",
    "print ('Black-Scholes call delta %0.4f' % call_delta(S, K, r, t, vol))\n",
    "print ('Black-Scholes put delta %0.4f' % put_delta(S, K, r, t, vol))\n",
    "print ('Black-Scholes gamma %0.4f' % gamma(S, K, r, t, vol))\n",
    "print ('Black-Scholes vega %0.4f' % vega(S, K, r, t, vol))\n",
    "print ('Black-Scholes call theta %0.4f' % call_theta(S, K, r, t, vol))\n",
    "print ('Black-Scholes put theta %0.4f' % put_theta(S, K, r, t, vol))\n",
    "print ('Black-Scholes call rho %0.4f' % call_rho(S, K, r, t, vol))\n",
    "print ('Black-Scholes put rho %0.4f' % put_rho(S, K, r, t, vol))"
   ]
  },
  {
   "cell_type": "markdown",
   "metadata": {},
   "source": [
    "# Implied volatility\n",
    "\n",
    "The Black-Scholes pricing formula is usually used to solve for implied volatility. Quite simply, this means setting the Black-Scholes pricing formula equal to the market observed price and using a root finding algorithm to solve for the volatility parameter which sets the difference (between model and market price) to zero.\n",
    "\n",
    "The implied volatility is generally used for making trading decisions, calibrating other more exotic securities and researching market anomolies. For example, many traders use the so called volatility skew to understand the relative value of an option to other options trading in the market. We'll see examples of the skew later.\n",
    "\n",
    "In the first of a two part [blog](http://www.bespokeoptions.com/blog/2015/10/06/implied-volatility-with-c-and-python-pt-1) series, I've discussed how to use C++ to find implied volatility. Here, we will use pure Python.\n",
    "\n",
    "First we create an objective function which we'll pass to the Scipy implementation of the [Brentq algorithm](http://docs.scipy.org/doc/scipy-0.14.0/reference/generated/scipy.optimize.brentq.html). Then we'll create an implied volatilty function to return the volatility parameter that sets the observed market price to the model price."
   ]
  },
  {
   "cell_type": "code",
   "execution_count": 11,
   "metadata": {},
   "outputs": [],
   "source": [
    "def call_implied_volatility_objective_function(S, K, r, t, vol, call_option_market_price):\n",
    "    \"\"\" Objective function which sets market and model prices to zero\n",
    "    \n",
    "    :param S: underlying\n",
    "    :param K: strike price\n",
    "    :param r: rate\n",
    "    :param t: time to expiration\n",
    "    :param vol: volatility\n",
    "    :param call_option_market_price: market observed option price\n",
    "    :return: error between market and model price\n",
    "    \"\"\"\n",
    "    return call_option_market_price - black_scholes_call_value(S, K, r, t, vol)\n",
    "\n",
    "def call_implied_volatility(S, K, r, t, call_option_market_price, a=-2.0, b=2.0, xtol=1e-6):\n",
    "    \"\"\" Call implied volatility function\n",
    "    \n",
    "    :param S: underlying\n",
    "    :param K: strike price\n",
    "    :param r: rate\n",
    "    :param t: time to expiration\n",
    "    :param call_option_market_price: market observed option price\n",
    "    :param a: lower bound for brentq method\n",
    "    :param b: upper gound for brentq method\n",
    "    :param xtol: tolerance which is considered good enough\n",
    "    :return: volatility to sets the difference between market and model price to zero\n",
    "    \n",
    "    \"\"\"\n",
    "    # avoid mirroring outer scope  \n",
    "    _S, _K, _r, _t, _call_option_market_price = S, K, r, t, call_option_market_price\n",
    "    \n",
    "    # define a nested function that takes our target param as the input\n",
    "    def fcn(vol):\n",
    "        \n",
    "        # returns the difference between market and model price at given volatility\n",
    "        return call_implied_volatility_objective_function(_S, _K, _r, _t, vol, _call_option_market_price)\n",
    "    \n",
    "    # first we try to return the results from the brentq algorithm\n",
    "    try:\n",
    "        result = brentq(fcn, a=a, b=b, xtol=xtol)\n",
    "        \n",
    "        # if the results are *too* small, sent to np.nan so we can later interpolate\n",
    "        return np.nan if result <= 1.0e-6 else result\n",
    "    \n",
    "    # if it fails then we return np.nan so we can later interpolate the results\n",
    "    except ValueError:\n",
    "        return np.nan\n",
    "\n",
    "def put_implied_volatility_objective_function(S, K, r, t, vol, put_option_market_price):\n",
    "    \"\"\" Objective function which sets market and model prices to zero\n",
    "    \n",
    "    :param S: underlying\n",
    "    :param K: strike price\n",
    "    :param r: rate\n",
    "    :param t: time to expiration\n",
    "    :param vol: volatility\n",
    "    :param call_option_market_price: market observed option price\n",
    "    :return: error between market and model price\n",
    "    \"\"\"\n",
    "    return put_option_market_price - black_scholes_put_value(S, K, r, t, vol)\n",
    "\n",
    "def put_implied_volatility(S, K, r, t, put_option_market_price, a=-2.0, b=2.0, xtol=1e-6):\n",
    "    \"\"\" Put implied volatility function\n",
    "    \n",
    "    :param S: underlying\n",
    "    :param K: strike price\n",
    "    :param r: rate\n",
    "    :param t: time to expiration\n",
    "    :param call_option_market_price: market observed option price\n",
    "    :param a: lower bound for brentq method\n",
    "    :param b: upper gound for brentq method\n",
    "    :param xtol: tolerance which is considered good enough\n",
    "    :return: volatility to sets the difference between market and model price to zero\n",
    "    \n",
    "    \"\"\"\n",
    "    \n",
    "    # avoid mirroring out scope  \n",
    "    _S, _K, _r, _t, _put_option_market_price = S, K, r, t, put_option_market_price\n",
    "    \n",
    "    # define a nsted function that takes our target param as the input\n",
    "    def fcn(vol):\n",
    "        \n",
    "        # returns the difference between market and model price at given volatility\n",
    "        return put_implied_volatility_objective_function(_S, _K, _r, _t, vol, _put_option_market_price)\n",
    "    \n",
    "    # first we try to return the results from the brentq algorithm\n",
    "    try:\n",
    "        result = brentq(fcn, a=a, b=b, xtol=xtol)\n",
    "        \n",
    "        # if the results are *too* small, sent to np.nan so we can later interpolate\n",
    "        return np.nan if result <= 1.0e-6 else result\n",
    "    \n",
    "    # if it fails then we return np.nan so we can later interpolate the results\n",
    "    except ValueError:\n",
    "        return np.nan"
   ]
  },
  {
   "cell_type": "code",
   "execution_count": 12,
   "metadata": {},
   "outputs": [
    {
     "name": "stdout",
     "output_type": "stream",
     "text": [
      "Call implied volatility if market and model were equal (should be close to 0.25) 0.250000\n",
      "Put implied volatility if market and model were equal (should be close to 0.25) 0.250000\n"
     ]
    }
   ],
   "source": [
    "# get the call and put values to test the implied volatility output\n",
    "call_model_price = black_scholes_call_value(S, K, r, t, vol)\n",
    "print ('Call implied volatility if market and model were equal (should be close to 0.25) %0.6f' % call_implied_volatility(S, K, r, t, call_model_price))\n",
    "\n",
    "put_model_price = black_scholes_put_value(S, K, r, t, vol)\n",
    "print ('Put implied volatility if market and model were equal (should be close to 0.25) %0.6f' % put_implied_volatility(S, K, r, t, put_model_price))"
   ]
  },
  {
   "cell_type": "code",
   "execution_count": null,
   "metadata": {},
   "outputs": [],
   "source": []
  },
  {
   "cell_type": "markdown",
   "metadata": {},
   "source": [
    "<p><a name=\"fin\"></a></p>\n",
    "# Getting real options market data\n",
    "\n",
    "With the excellent [Pandas](http://pandas.pydata.org/) library (you are using Pandas, right?) we can grab entire options chains directly from Yahoo!. This is slow (it has to scrape several pages), but very useful. Chains include all options of all strikes for and expirations for a particular underlying stock.\n",
    "\n",
    "The chains are returned in a `MultiIndex pandas.DataFrame` object."
   ]
  },
  {
   "cell_type": "code",
   "execution_count": 17,
   "metadata": {},
   "outputs": [],
   "source": [
    "import fix_yahoo_finance as yf\n",
    "yf.pdr_override()"
   ]
  },
  {
   "cell_type": "code",
   "execution_count": 21,
   "metadata": {},
   "outputs": [],
   "source": [
    "# define a stock symbol\n",
    "#underlying_symbol = 'TSLA'\n",
    "\n",
    "# define a Options object\n",
    "# __from pandas_datareader import data as pd__\n",
    "\n",
    "#options_obj = pd.Options('TSLA', 'google')\n",
    "\n",
    "# request all chains for the underlying symbol\n",
    "# ***WARNING THIS TAKES A WHILE***\n",
    "#options_frame_live = options_obj.get_all_data()\n",
    "\n",
    "# let's pickle the dataframe so we don't have to hit the network every time\n",
    "#options_frame_live.to_pickle('options_frame.pickle')"
   ]
  },
  {
   "cell_type": "code",
   "execution_count": 22,
   "metadata": {},
   "outputs": [
    {
     "ename": "FileNotFoundError",
     "evalue": "[Errno 2] No such file or directory: 'options_frame.pickle'",
     "output_type": "error",
     "traceback": [
      "\u001b[0;31m---------------------------------------------------------------------------\u001b[0m",
      "\u001b[0;31mFileNotFoundError\u001b[0m                         Traceback (most recent call last)",
      "\u001b[0;32m/usr/local/conda3/lib/python3.6/site-packages/pandas/io/pickle.py\u001b[0m in \u001b[0;36mtry_read\u001b[0;34m(path, encoding)\u001b[0m\n\u001b[1;32m     98\u001b[0m         \u001b[0;32mtry\u001b[0m\u001b[0;34m:\u001b[0m\u001b[0;34m\u001b[0m\u001b[0m\n\u001b[0;32m---> 99\u001b[0;31m             \u001b[0;32mreturn\u001b[0m \u001b[0mread_wrapper\u001b[0m\u001b[0;34m(\u001b[0m\u001b[0;32mlambda\u001b[0m \u001b[0mf\u001b[0m\u001b[0;34m:\u001b[0m \u001b[0mpkl\u001b[0m\u001b[0;34m.\u001b[0m\u001b[0mload\u001b[0m\u001b[0;34m(\u001b[0m\u001b[0mf\u001b[0m\u001b[0;34m)\u001b[0m\u001b[0;34m)\u001b[0m\u001b[0;34m\u001b[0m\u001b[0m\n\u001b[0m\u001b[1;32m    100\u001b[0m         \u001b[0;32mexcept\u001b[0m \u001b[0mException\u001b[0m\u001b[0;34m:\u001b[0m\u001b[0;34m\u001b[0m\u001b[0m\n",
      "\u001b[0;32m/usr/local/conda3/lib/python3.6/site-packages/pandas/io/pickle.py\u001b[0m in \u001b[0;36mread_wrapper\u001b[0;34m(func)\u001b[0m\n\u001b[1;32m     81\u001b[0m                             \u001b[0mcompression\u001b[0m\u001b[0;34m=\u001b[0m\u001b[0minferred_compression\u001b[0m\u001b[0;34m,\u001b[0m\u001b[0;34m\u001b[0m\u001b[0m\n\u001b[0;32m---> 82\u001b[0;31m                             is_text=False)\n\u001b[0m\u001b[1;32m     83\u001b[0m         \u001b[0;32mtry\u001b[0m\u001b[0;34m:\u001b[0m\u001b[0;34m\u001b[0m\u001b[0m\n",
      "\u001b[0;32m/usr/local/conda3/lib/python3.6/site-packages/pandas/io/common.py\u001b[0m in \u001b[0;36m_get_handle\u001b[0;34m(path_or_buf, mode, encoding, compression, memory_map, is_text)\u001b[0m\n\u001b[1;32m    395\u001b[0m             \u001b[0;31m# Python 3 and binary mode\u001b[0m\u001b[0;34m\u001b[0m\u001b[0;34m\u001b[0m\u001b[0m\n\u001b[0;32m--> 396\u001b[0;31m             \u001b[0mf\u001b[0m \u001b[0;34m=\u001b[0m \u001b[0mopen\u001b[0m\u001b[0;34m(\u001b[0m\u001b[0mpath_or_buf\u001b[0m\u001b[0;34m,\u001b[0m \u001b[0mmode\u001b[0m\u001b[0;34m)\u001b[0m\u001b[0;34m\u001b[0m\u001b[0m\n\u001b[0m\u001b[1;32m    397\u001b[0m         \u001b[0mhandles\u001b[0m\u001b[0;34m.\u001b[0m\u001b[0mappend\u001b[0m\u001b[0;34m(\u001b[0m\u001b[0mf\u001b[0m\u001b[0;34m)\u001b[0m\u001b[0;34m\u001b[0m\u001b[0m\n",
      "\u001b[0;31mFileNotFoundError\u001b[0m: [Errno 2] No such file or directory: 'options_frame.pickle'",
      "\nDuring handling of the above exception, another exception occurred:\n",
      "\u001b[0;31mFileNotFoundError\u001b[0m                         Traceback (most recent call last)",
      "\u001b[0;32m/usr/local/conda3/lib/python3.6/site-packages/pandas/io/pickle.py\u001b[0m in \u001b[0;36mtry_read\u001b[0;34m(path, encoding)\u001b[0m\n\u001b[1;32m    103\u001b[0m                 return read_wrapper(\n\u001b[0;32m--> 104\u001b[0;31m                     lambda f: pc.load(f, encoding=encoding, compat=False))\n\u001b[0m\u001b[1;32m    105\u001b[0m             \u001b[0;31m# compat pickle\u001b[0m\u001b[0;34m\u001b[0m\u001b[0;34m\u001b[0m\u001b[0m\n",
      "\u001b[0;32m/usr/local/conda3/lib/python3.6/site-packages/pandas/io/pickle.py\u001b[0m in \u001b[0;36mread_wrapper\u001b[0;34m(func)\u001b[0m\n\u001b[1;32m     81\u001b[0m                             \u001b[0mcompression\u001b[0m\u001b[0;34m=\u001b[0m\u001b[0minferred_compression\u001b[0m\u001b[0;34m,\u001b[0m\u001b[0;34m\u001b[0m\u001b[0m\n\u001b[0;32m---> 82\u001b[0;31m                             is_text=False)\n\u001b[0m\u001b[1;32m     83\u001b[0m         \u001b[0;32mtry\u001b[0m\u001b[0;34m:\u001b[0m\u001b[0;34m\u001b[0m\u001b[0m\n",
      "\u001b[0;32m/usr/local/conda3/lib/python3.6/site-packages/pandas/io/common.py\u001b[0m in \u001b[0;36m_get_handle\u001b[0;34m(path_or_buf, mode, encoding, compression, memory_map, is_text)\u001b[0m\n\u001b[1;32m    395\u001b[0m             \u001b[0;31m# Python 3 and binary mode\u001b[0m\u001b[0;34m\u001b[0m\u001b[0;34m\u001b[0m\u001b[0m\n\u001b[0;32m--> 396\u001b[0;31m             \u001b[0mf\u001b[0m \u001b[0;34m=\u001b[0m \u001b[0mopen\u001b[0m\u001b[0;34m(\u001b[0m\u001b[0mpath_or_buf\u001b[0m\u001b[0;34m,\u001b[0m \u001b[0mmode\u001b[0m\u001b[0;34m)\u001b[0m\u001b[0;34m\u001b[0m\u001b[0m\n\u001b[0m\u001b[1;32m    397\u001b[0m         \u001b[0mhandles\u001b[0m\u001b[0;34m.\u001b[0m\u001b[0mappend\u001b[0m\u001b[0;34m(\u001b[0m\u001b[0mf\u001b[0m\u001b[0;34m)\u001b[0m\u001b[0;34m\u001b[0m\u001b[0m\n",
      "\u001b[0;31mFileNotFoundError\u001b[0m: [Errno 2] No such file or directory: 'options_frame.pickle'",
      "\nDuring handling of the above exception, another exception occurred:\n",
      "\u001b[0;31mFileNotFoundError\u001b[0m                         Traceback (most recent call last)",
      "\u001b[0;32m/usr/local/conda3/lib/python3.6/site-packages/pandas/io/pickle.py\u001b[0m in \u001b[0;36mread_pickle\u001b[0;34m(path, compression)\u001b[0m\n\u001b[1;32m    109\u001b[0m     \u001b[0;32mtry\u001b[0m\u001b[0;34m:\u001b[0m\u001b[0;34m\u001b[0m\u001b[0m\n\u001b[0;32m--> 110\u001b[0;31m         \u001b[0;32mreturn\u001b[0m \u001b[0mtry_read\u001b[0m\u001b[0;34m(\u001b[0m\u001b[0mpath\u001b[0m\u001b[0;34m)\u001b[0m\u001b[0;34m\u001b[0m\u001b[0m\n\u001b[0m\u001b[1;32m    111\u001b[0m     \u001b[0;32mexcept\u001b[0m\u001b[0;34m:\u001b[0m\u001b[0;34m\u001b[0m\u001b[0m\n",
      "\u001b[0;32m/usr/local/conda3/lib/python3.6/site-packages/pandas/io/pickle.py\u001b[0m in \u001b[0;36mtry_read\u001b[0;34m(path, encoding)\u001b[0m\n\u001b[1;32m    107\u001b[0m                 return read_wrapper(\n\u001b[0;32m--> 108\u001b[0;31m                     lambda f: pc.load(f, encoding=encoding, compat=True))\n\u001b[0m\u001b[1;32m    109\u001b[0m     \u001b[0;32mtry\u001b[0m\u001b[0;34m:\u001b[0m\u001b[0;34m\u001b[0m\u001b[0m\n",
      "\u001b[0;32m/usr/local/conda3/lib/python3.6/site-packages/pandas/io/pickle.py\u001b[0m in \u001b[0;36mread_wrapper\u001b[0;34m(func)\u001b[0m\n\u001b[1;32m     81\u001b[0m                             \u001b[0mcompression\u001b[0m\u001b[0;34m=\u001b[0m\u001b[0minferred_compression\u001b[0m\u001b[0;34m,\u001b[0m\u001b[0;34m\u001b[0m\u001b[0m\n\u001b[0;32m---> 82\u001b[0;31m                             is_text=False)\n\u001b[0m\u001b[1;32m     83\u001b[0m         \u001b[0;32mtry\u001b[0m\u001b[0;34m:\u001b[0m\u001b[0;34m\u001b[0m\u001b[0m\n",
      "\u001b[0;32m/usr/local/conda3/lib/python3.6/site-packages/pandas/io/common.py\u001b[0m in \u001b[0;36m_get_handle\u001b[0;34m(path_or_buf, mode, encoding, compression, memory_map, is_text)\u001b[0m\n\u001b[1;32m    395\u001b[0m             \u001b[0;31m# Python 3 and binary mode\u001b[0m\u001b[0;34m\u001b[0m\u001b[0;34m\u001b[0m\u001b[0m\n\u001b[0;32m--> 396\u001b[0;31m             \u001b[0mf\u001b[0m \u001b[0;34m=\u001b[0m \u001b[0mopen\u001b[0m\u001b[0;34m(\u001b[0m\u001b[0mpath_or_buf\u001b[0m\u001b[0;34m,\u001b[0m \u001b[0mmode\u001b[0m\u001b[0;34m)\u001b[0m\u001b[0;34m\u001b[0m\u001b[0m\n\u001b[0m\u001b[1;32m    397\u001b[0m         \u001b[0mhandles\u001b[0m\u001b[0;34m.\u001b[0m\u001b[0mappend\u001b[0m\u001b[0;34m(\u001b[0m\u001b[0mf\u001b[0m\u001b[0;34m)\u001b[0m\u001b[0;34m\u001b[0m\u001b[0m\n",
      "\u001b[0;31mFileNotFoundError\u001b[0m: [Errno 2] No such file or directory: 'options_frame.pickle'",
      "\nDuring handling of the above exception, another exception occurred:\n",
      "\u001b[0;31mFileNotFoundError\u001b[0m                         Traceback (most recent call last)",
      "\u001b[0;32m/usr/local/conda3/lib/python3.6/site-packages/pandas/io/pickle.py\u001b[0m in \u001b[0;36mtry_read\u001b[0;34m(path, encoding)\u001b[0m\n\u001b[1;32m     98\u001b[0m         \u001b[0;32mtry\u001b[0m\u001b[0;34m:\u001b[0m\u001b[0;34m\u001b[0m\u001b[0m\n\u001b[0;32m---> 99\u001b[0;31m             \u001b[0;32mreturn\u001b[0m \u001b[0mread_wrapper\u001b[0m\u001b[0;34m(\u001b[0m\u001b[0;32mlambda\u001b[0m \u001b[0mf\u001b[0m\u001b[0;34m:\u001b[0m \u001b[0mpkl\u001b[0m\u001b[0;34m.\u001b[0m\u001b[0mload\u001b[0m\u001b[0;34m(\u001b[0m\u001b[0mf\u001b[0m\u001b[0;34m)\u001b[0m\u001b[0;34m)\u001b[0m\u001b[0;34m\u001b[0m\u001b[0m\n\u001b[0m\u001b[1;32m    100\u001b[0m         \u001b[0;32mexcept\u001b[0m \u001b[0mException\u001b[0m\u001b[0;34m:\u001b[0m\u001b[0;34m\u001b[0m\u001b[0m\n",
      "\u001b[0;32m/usr/local/conda3/lib/python3.6/site-packages/pandas/io/pickle.py\u001b[0m in \u001b[0;36mread_wrapper\u001b[0;34m(func)\u001b[0m\n\u001b[1;32m     81\u001b[0m                             \u001b[0mcompression\u001b[0m\u001b[0;34m=\u001b[0m\u001b[0minferred_compression\u001b[0m\u001b[0;34m,\u001b[0m\u001b[0;34m\u001b[0m\u001b[0m\n\u001b[0;32m---> 82\u001b[0;31m                             is_text=False)\n\u001b[0m\u001b[1;32m     83\u001b[0m         \u001b[0;32mtry\u001b[0m\u001b[0;34m:\u001b[0m\u001b[0;34m\u001b[0m\u001b[0m\n",
      "\u001b[0;32m/usr/local/conda3/lib/python3.6/site-packages/pandas/io/common.py\u001b[0m in \u001b[0;36m_get_handle\u001b[0;34m(path_or_buf, mode, encoding, compression, memory_map, is_text)\u001b[0m\n\u001b[1;32m    395\u001b[0m             \u001b[0;31m# Python 3 and binary mode\u001b[0m\u001b[0;34m\u001b[0m\u001b[0;34m\u001b[0m\u001b[0m\n\u001b[0;32m--> 396\u001b[0;31m             \u001b[0mf\u001b[0m \u001b[0;34m=\u001b[0m \u001b[0mopen\u001b[0m\u001b[0;34m(\u001b[0m\u001b[0mpath_or_buf\u001b[0m\u001b[0;34m,\u001b[0m \u001b[0mmode\u001b[0m\u001b[0;34m)\u001b[0m\u001b[0;34m\u001b[0m\u001b[0m\n\u001b[0m\u001b[1;32m    397\u001b[0m         \u001b[0mhandles\u001b[0m\u001b[0;34m.\u001b[0m\u001b[0mappend\u001b[0m\u001b[0;34m(\u001b[0m\u001b[0mf\u001b[0m\u001b[0;34m)\u001b[0m\u001b[0;34m\u001b[0m\u001b[0m\n",
      "\u001b[0;31mFileNotFoundError\u001b[0m: [Errno 2] No such file or directory: 'options_frame.pickle'",
      "\nDuring handling of the above exception, another exception occurred:\n",
      "\u001b[0;31mFileNotFoundError\u001b[0m                         Traceback (most recent call last)",
      "\u001b[0;32m/usr/local/conda3/lib/python3.6/site-packages/pandas/io/pickle.py\u001b[0m in \u001b[0;36mtry_read\u001b[0;34m(path, encoding)\u001b[0m\n\u001b[1;32m    103\u001b[0m                 return read_wrapper(\n\u001b[0;32m--> 104\u001b[0;31m                     lambda f: pc.load(f, encoding=encoding, compat=False))\n\u001b[0m\u001b[1;32m    105\u001b[0m             \u001b[0;31m# compat pickle\u001b[0m\u001b[0;34m\u001b[0m\u001b[0;34m\u001b[0m\u001b[0m\n",
      "\u001b[0;32m/usr/local/conda3/lib/python3.6/site-packages/pandas/io/pickle.py\u001b[0m in \u001b[0;36mread_wrapper\u001b[0;34m(func)\u001b[0m\n\u001b[1;32m     81\u001b[0m                             \u001b[0mcompression\u001b[0m\u001b[0;34m=\u001b[0m\u001b[0minferred_compression\u001b[0m\u001b[0;34m,\u001b[0m\u001b[0;34m\u001b[0m\u001b[0m\n\u001b[0;32m---> 82\u001b[0;31m                             is_text=False)\n\u001b[0m\u001b[1;32m     83\u001b[0m         \u001b[0;32mtry\u001b[0m\u001b[0;34m:\u001b[0m\u001b[0;34m\u001b[0m\u001b[0m\n",
      "\u001b[0;32m/usr/local/conda3/lib/python3.6/site-packages/pandas/io/common.py\u001b[0m in \u001b[0;36m_get_handle\u001b[0;34m(path_or_buf, mode, encoding, compression, memory_map, is_text)\u001b[0m\n\u001b[1;32m    395\u001b[0m             \u001b[0;31m# Python 3 and binary mode\u001b[0m\u001b[0;34m\u001b[0m\u001b[0;34m\u001b[0m\u001b[0m\n\u001b[0;32m--> 396\u001b[0;31m             \u001b[0mf\u001b[0m \u001b[0;34m=\u001b[0m \u001b[0mopen\u001b[0m\u001b[0;34m(\u001b[0m\u001b[0mpath_or_buf\u001b[0m\u001b[0;34m,\u001b[0m \u001b[0mmode\u001b[0m\u001b[0;34m)\u001b[0m\u001b[0;34m\u001b[0m\u001b[0m\n\u001b[0m\u001b[1;32m    397\u001b[0m         \u001b[0mhandles\u001b[0m\u001b[0;34m.\u001b[0m\u001b[0mappend\u001b[0m\u001b[0;34m(\u001b[0m\u001b[0mf\u001b[0m\u001b[0;34m)\u001b[0m\u001b[0;34m\u001b[0m\u001b[0m\n",
      "\u001b[0;31mFileNotFoundError\u001b[0m: [Errno 2] No such file or directory: 'options_frame.pickle'",
      "\nDuring handling of the above exception, another exception occurred:\n",
      "\u001b[0;31mFileNotFoundError\u001b[0m                         Traceback (most recent call last)",
      "\u001b[0;32m<ipython-input-22-4a0883eccee2>\u001b[0m in \u001b[0;36m<module>\u001b[0;34m()\u001b[0m\n\u001b[1;32m      1\u001b[0m \u001b[0;31m# read the original frame in from cache (pickle)\u001b[0m\u001b[0;34m\u001b[0m\u001b[0;34m\u001b[0m\u001b[0m\n\u001b[0;32m----> 2\u001b[0;31m \u001b[0moptions_frame\u001b[0m \u001b[0;34m=\u001b[0m \u001b[0mpandas\u001b[0m\u001b[0;34m.\u001b[0m\u001b[0mread_pickle\u001b[0m\u001b[0;34m(\u001b[0m\u001b[0;34m'options_frame.pickle'\u001b[0m\u001b[0;34m)\u001b[0m\u001b[0;34m\u001b[0m\u001b[0m\n\u001b[0m",
      "\u001b[0;32m/usr/local/conda3/lib/python3.6/site-packages/pandas/io/pickle.py\u001b[0m in \u001b[0;36mread_pickle\u001b[0;34m(path, compression)\u001b[0m\n\u001b[1;32m    111\u001b[0m     \u001b[0;32mexcept\u001b[0m\u001b[0;34m:\u001b[0m\u001b[0;34m\u001b[0m\u001b[0m\n\u001b[1;32m    112\u001b[0m         \u001b[0;32mif\u001b[0m \u001b[0mPY3\u001b[0m\u001b[0;34m:\u001b[0m\u001b[0;34m\u001b[0m\u001b[0m\n\u001b[0;32m--> 113\u001b[0;31m             \u001b[0;32mreturn\u001b[0m \u001b[0mtry_read\u001b[0m\u001b[0;34m(\u001b[0m\u001b[0mpath\u001b[0m\u001b[0;34m,\u001b[0m \u001b[0mencoding\u001b[0m\u001b[0;34m=\u001b[0m\u001b[0;34m'latin1'\u001b[0m\u001b[0;34m)\u001b[0m\u001b[0;34m\u001b[0m\u001b[0m\n\u001b[0m\u001b[1;32m    114\u001b[0m         \u001b[0;32mraise\u001b[0m\u001b[0;34m\u001b[0m\u001b[0m\n\u001b[1;32m    115\u001b[0m \u001b[0;34m\u001b[0m\u001b[0m\n",
      "\u001b[0;32m/usr/local/conda3/lib/python3.6/site-packages/pandas/io/pickle.py\u001b[0m in \u001b[0;36mtry_read\u001b[0;34m(path, encoding)\u001b[0m\n\u001b[1;32m    106\u001b[0m             \u001b[0;32mexcept\u001b[0m\u001b[0;34m:\u001b[0m\u001b[0;34m\u001b[0m\u001b[0m\n\u001b[1;32m    107\u001b[0m                 return read_wrapper(\n\u001b[0;32m--> 108\u001b[0;31m                     lambda f: pc.load(f, encoding=encoding, compat=True))\n\u001b[0m\u001b[1;32m    109\u001b[0m     \u001b[0;32mtry\u001b[0m\u001b[0;34m:\u001b[0m\u001b[0;34m\u001b[0m\u001b[0m\n\u001b[1;32m    110\u001b[0m         \u001b[0;32mreturn\u001b[0m \u001b[0mtry_read\u001b[0m\u001b[0;34m(\u001b[0m\u001b[0mpath\u001b[0m\u001b[0;34m)\u001b[0m\u001b[0;34m\u001b[0m\u001b[0m\n",
      "\u001b[0;32m/usr/local/conda3/lib/python3.6/site-packages/pandas/io/pickle.py\u001b[0m in \u001b[0;36mread_wrapper\u001b[0;34m(func)\u001b[0m\n\u001b[1;32m     80\u001b[0m         f, fh = _get_handle(path, 'rb',\n\u001b[1;32m     81\u001b[0m                             \u001b[0mcompression\u001b[0m\u001b[0;34m=\u001b[0m\u001b[0minferred_compression\u001b[0m\u001b[0;34m,\u001b[0m\u001b[0;34m\u001b[0m\u001b[0m\n\u001b[0;32m---> 82\u001b[0;31m                             is_text=False)\n\u001b[0m\u001b[1;32m     83\u001b[0m         \u001b[0;32mtry\u001b[0m\u001b[0;34m:\u001b[0m\u001b[0;34m\u001b[0m\u001b[0m\n\u001b[1;32m     84\u001b[0m             \u001b[0;32mreturn\u001b[0m \u001b[0mfunc\u001b[0m\u001b[0;34m(\u001b[0m\u001b[0mf\u001b[0m\u001b[0;34m)\u001b[0m\u001b[0;34m\u001b[0m\u001b[0m\n",
      "\u001b[0;32m/usr/local/conda3/lib/python3.6/site-packages/pandas/io/common.py\u001b[0m in \u001b[0;36m_get_handle\u001b[0;34m(path_or_buf, mode, encoding, compression, memory_map, is_text)\u001b[0m\n\u001b[1;32m    394\u001b[0m         \u001b[0;32melse\u001b[0m\u001b[0;34m:\u001b[0m\u001b[0;34m\u001b[0m\u001b[0m\n\u001b[1;32m    395\u001b[0m             \u001b[0;31m# Python 3 and binary mode\u001b[0m\u001b[0;34m\u001b[0m\u001b[0;34m\u001b[0m\u001b[0m\n\u001b[0;32m--> 396\u001b[0;31m             \u001b[0mf\u001b[0m \u001b[0;34m=\u001b[0m \u001b[0mopen\u001b[0m\u001b[0;34m(\u001b[0m\u001b[0mpath_or_buf\u001b[0m\u001b[0;34m,\u001b[0m \u001b[0mmode\u001b[0m\u001b[0;34m)\u001b[0m\u001b[0;34m\u001b[0m\u001b[0m\n\u001b[0m\u001b[1;32m    397\u001b[0m         \u001b[0mhandles\u001b[0m\u001b[0;34m.\u001b[0m\u001b[0mappend\u001b[0m\u001b[0;34m(\u001b[0m\u001b[0mf\u001b[0m\u001b[0;34m)\u001b[0m\u001b[0;34m\u001b[0m\u001b[0m\n\u001b[1;32m    398\u001b[0m \u001b[0;34m\u001b[0m\u001b[0m\n",
      "\u001b[0;31mFileNotFoundError\u001b[0m: [Errno 2] No such file or directory: 'options_frame.pickle'"
     ]
    }
   ],
   "source": [
    "# read the original frame in from cache (pickle)\n",
    "options_frame = pandas.read_pickle('options_frame.pickle')"
   ]
  },
  {
   "cell_type": "code",
   "execution_count": null,
   "metadata": {},
   "outputs": [],
   "source": [
    "# take a quick look at the DataFrame that returned\n",
    "options_frame.info()"
   ]
  },
  {
   "cell_type": "code",
   "execution_count": null,
   "metadata": {},
   "outputs": [],
   "source": [
    "# and the first ten records\n",
    "options_frame.head(n=30)"
   ]
  },
  {
   "cell_type": "markdown",
   "metadata": {},
   "source": [
    "We're going to do some work to the `DataFrame` so that we can apply the Black-Scholes price and implied volatility to each of the options. So first let's do some clean up."
   ]
  },
  {
   "cell_type": "code",
   "execution_count": null,
   "metadata": {},
   "outputs": [],
   "source": [
    "# reset the index so the strike and expiration become columns\n",
    "options_frame.reset_index(inplace=True)\n",
    "options_frame.head(n=10)"
   ]
  },
  {
   "cell_type": "code",
   "execution_count": null,
   "metadata": {},
   "outputs": [],
   "source": [
    "# remove PctChg and IV - we'll calculate our own\n",
    "del options_frame['PctChg']\n",
    "del options_frame['IV']\n",
    "\n",
    "# rename the columns for consistency\n",
    "columns = {'Expiry': 'Expiration',\n",
    "           'Type': 'OptionType',\n",
    "           'Symbol': 'OptionSymbol',\n",
    "           'Vol': 'Volume',\n",
    "           'Open_Int': 'OpenInterest',\n",
    "           'Underlying_Price': 'UnderlyingPrice',\n",
    "           'Quote_Time': 'QuoteDatetime',\n",
    "           'Underlying': 'UnderlyingSymbol',\n",
    "           'Chg': 'OptionChange'}\n",
    "\n",
    "options_frame.rename(columns=columns, inplace=True)"
   ]
  },
  {
   "cell_type": "markdown",
   "metadata": {},
   "source": [
    "Let's define some helper functions that we will apply to the `DataFrame`. These will provide some of the inputs to the option valuation functions."
   ]
  },
  {
   "cell_type": "code",
   "execution_count": null,
   "metadata": {},
   "outputs": [],
   "source": [
    "def _get_days_until_expiration(series):\n",
    "    \"\"\" Return the number of days until expiration\n",
    "\n",
    "    :param series: row of the dataframe, accessible by label\n",
    "    :return: days until expiration\n",
    "\n",
    "    \"\"\"\n",
    "    \n",
    "    expiration = series['Expiration']\n",
    "    \n",
    "    # add the hours to the expiration date so we get the math correct\n",
    "    date_str = expiration.strftime('%Y-%m-%d') + ' 23:59:59'\n",
    "    \n",
    "    # convert date string into datetime object\n",
    "    expiry = dt.datetime.strptime(date_str, \"%Y-%m-%d %H:%M:%S\")\n",
    "    \n",
    "    # get today\n",
    "    today = dt.datetime.today()\n",
    "    \n",
    "    # return the difference and add one to count for today\n",
    "    return (expiry - today).days + 1\n",
    "\n",
    "def _get_time_fraction_until_expiration(series):\n",
    "    \"\"\" Return the fraction of a year until expiration\n",
    "\n",
    "    :param series: row of the dataframe, accessible by label\n",
    "    :return: fraction of a year until expiration\n",
    "\n",
    "    \"\"\"\n",
    "\n",
    "    expiration = series['Expiration']\n",
    "\n",
    "    # add the hours to the expiration date so we get the math correct\n",
    "    date_str = expiration.strftime('%Y-%m-%d') + ' 23:59:59'\n",
    "    \n",
    "    # convert date string into datetime object\n",
    "    time_tuple = time.strptime(date_str, \"%Y-%m-%d %H:%M:%S\")\n",
    "    \n",
    "    # get the number of seconds from the epoch until expiration\n",
    "    expiry_in_seconds_from_epoch = time.mktime(time_tuple)\n",
    "    \n",
    "    # get the number of seconds from the epoch to right now\n",
    "    right_now_in_seconds_from_epoch = time.time()\n",
    "    \n",
    "    # get the total number of seconds to expiration\n",
    "    seconds_until_expiration = expiry_in_seconds_from_epoch - right_now_in_seconds_from_epoch\n",
    "    \n",
    "    # seconds in year\n",
    "    seconds_in_year = 31536000.0\n",
    "    \n",
    "    # fraction of seconds to expiration to total in year, rounded\n",
    "    return max(seconds_until_expiration / seconds_in_year, 1e-10)\n",
    "\n",
    "# define terms and associated rates, these should coincide with our options\n",
    "terms = [30, 3 * 30, 6 * 30, 12 * 30, 24 * 30, 36 * 30, 60 * 30]\n",
    "rates = [0.0001, 0.0009, 0.0032, 0.0067, 0.0097, 0.0144, 0.0184]\n",
    "\n",
    "def _get_rate(series):\n",
    "    \"\"\" Interpolate rates out to 30 years\n",
    "        Note computing rates like this is not strictly theoretically \n",
    "        correct but works for illustrative purposes\n",
    "    \n",
    "    :param series: row of the dataframe, accessable by label\n",
    "    :return interpolated interest rate based on term structure\n",
    "\n",
    "    \"\"\"\n",
    "    days = series['DaysUntilExpiration']\n",
    "    \n",
    "    # generate terms for every thirty days up until our longest expiration\n",
    "    new_terms = [i for i in range(30, (60 * 30) + 1)]\n",
    "    \n",
    "    # create linear interpolation model\n",
    "    f = interp1d(terms, rates, kind='linear')\n",
    "    \n",
    "    # interpolate the values based on the new terms we created above\n",
    "    ff = f(new_terms)\n",
    "    \n",
    "    # return the interpolated rate given the days to expiration\n",
    "    return round(ff[max(days, 30) - 30], 8)\n",
    "\n",
    "def _get_mid(series):\n",
    "    \"\"\" Get the mid price between bid and ask\n",
    "    \n",
    "    :param series: row of the dataframe, accessable by label\n",
    "    :return mid price\n",
    "\n",
    "    \"\"\"\n",
    "    bid = series['Bid']\n",
    "    ask = series['Ask']\n",
    "    last = series['Last']\n",
    "    \n",
    "    # if the bid or ask doesn't exist, return 0.0\n",
    "    if np.isnan(ask) or np.isnan(bid):\n",
    "        return 0.0\n",
    "    \n",
    "    # if the bid or ask are 0.0, return the last traded price\n",
    "    elif ask == 0.0 or bid == 0.0:\n",
    "        return last\n",
    "    else:\n",
    "        return (ask + bid) / 2.0"
   ]
  },
  {
   "cell_type": "markdown",
   "metadata": {},
   "source": [
    "We can apply these functions to each row of the `DataFrame` by setting the `axis` argument to `1` `apply` method."
   ]
  },
  {
   "cell_type": "code",
   "execution_count": null,
   "metadata": {},
   "outputs": [],
   "source": [
    "# use the apply method to pass each row as a series to the various methods, returns a series in this case\n",
    "options_frame['DaysUntilExpiration'] = options_frame.apply(_get_days_until_expiration, axis=1)\n",
    "options_frame['TimeUntilExpiration'] = options_frame.apply(_get_time_fraction_until_expiration, axis=1)\n",
    "options_frame['InterestRate'] = options_frame.apply(_get_rate, axis=1)\n",
    "options_frame['Mid'] = options_frame.apply(_get_mid, axis=1)"
   ]
  },
  {
   "cell_type": "markdown",
   "metadata": {},
   "source": [
    "Let's see what we've done."
   ]
  },
  {
   "cell_type": "code",
   "execution_count": null,
   "metadata": {},
   "outputs": [],
   "source": [
    "options_frame.info()"
   ]
  },
  {
   "cell_type": "code",
   "execution_count": null,
   "metadata": {
    "scrolled": true
   },
   "outputs": [],
   "source": [
    "options_frame.head()"
   ]
  },
  {
   "cell_type": "markdown",
   "metadata": {},
   "source": [
    "# Applying implied volatility"
   ]
  },
  {
   "cell_type": "markdown",
   "metadata": {},
   "source": [
    "We now have all the input parameters we need to follow the same procedure to add the Black-Scholes price and the associated greeks. We'll begin as before by defining the functions we'll apply. Note that we have to compute the implied volatiltiy first which we'll use as the $vol$ input to the Black-Scholes formula. It is common practice to use the Black-Scholes formula to compute the implied volalatility then to use that result to compute the greeks.\n",
    "\n",
    "We'll take the mid price (price between bid and ask) as this is generally considered the most representative price to use. As we'll see, there will be issues with the result which we'll have to clean."
   ]
  },
  {
   "cell_type": "code",
   "execution_count": null,
   "metadata": {},
   "outputs": [],
   "source": [
    "def _get_implied_vol_mid(series):\n",
    "    \"\"\"\n",
    "\n",
    "    \"\"\"\n",
    "    option_type = series['OptionType']\n",
    "    S = series['UnderlyingPrice']\n",
    "    K = series['Strike']\n",
    "    r = series['InterestRate']\n",
    "    t = series['TimeUntilExpiration']\n",
    "    mid = series['Mid']\n",
    "    \n",
    "    # build method name\n",
    "    meth_name = '{0}_implied_volatility'.format(option_type)\n",
    "    \n",
    "    # call from globals()\n",
    "    return float(globals().get(meth_name)(S, K, r, t, mid))\n"
   ]
  },
  {
   "cell_type": "code",
   "execution_count": null,
   "metadata": {},
   "outputs": [],
   "source": [
    "# apply the function to the dataframe rowwise\n",
    "options_frame['ImpliedVolatilityMid'] = options_frame.apply(_get_implied_vol_mid, axis=1)"
   ]
  },
  {
   "cell_type": "code",
   "execution_count": null,
   "metadata": {},
   "outputs": [],
   "source": [
    "# again, let's take a look\n",
    "options_frame.info()"
   ]
  },
  {
   "cell_type": "code",
   "execution_count": null,
   "metadata": {},
   "outputs": [],
   "source": [
    "options_frame.head()"
   ]
  },
  {
   "cell_type": "markdown",
   "metadata": {},
   "source": [
    "# Interpolating missing and bad implied volatility values\n",
    "\n",
    "In the `call_implied_volatility` and `put_implied_volatility` functions we test for the Brentq solver blowing up. The solver will blow up if the option's mid price leads to a negative implied volatility. This happens with deep in or out of the money options where market makers keep the bid-ask spread wide.\n",
    "\n",
    "Let's find the options where the implied volatility is `np.nan`."
   ]
  },
  {
   "cell_type": "code",
   "execution_count": null,
   "metadata": {},
   "outputs": [],
   "source": [
    "bad_iv = options_frame[np.isnan(options_frame['ImpliedVolatilityMid'])]"
   ]
  },
  {
   "cell_type": "code",
   "execution_count": null,
   "metadata": {},
   "outputs": [],
   "source": [
    "# map the count function to each strike where there is a nan implied volatility\n",
    "bad_iv.groupby(['Strike']).count()['Expiration']"
   ]
  },
  {
   "cell_type": "markdown",
   "metadata": {},
   "source": [
    "Now we'll interpolate the missing implied volatility values. There are *much* more sophisticated ways of doing this (see [here](http://blog.nag.com/2013/10/implied-volatility-using-pythons-pandas.html) for example) but we'll use simple linear interpolation to prove the technique.\n",
    "\n",
    "First we'll define the function which we'll pass the frame to."
   ]
  },
  {
   "cell_type": "code",
   "execution_count": null,
   "metadata": {},
   "outputs": [],
   "source": [
    "def _interp_implied_volatility(options_frame):\n",
    "    \"\"\" Interpolate missing (np.nan) values of implied volatility\n",
    "    We first need to split the chains into expiration and type because we cannot\n",
    "    interpolate across the entire chain, rather within these two groups\n",
    "    \n",
    "    :param options_frame: DataFrame containing options data\n",
    "    :return original DataFrame with ImpliedVolatilityMid column containing interpolated values\n",
    "\n",
    "    \"\"\"\n",
    "    # create a MultiIndex with Expiration, OptionType, the Strike as index, then sort\n",
    "    frame = options_frame.set_index(['Expiration', 'OptionType', 'Strike']).sort_index()\n",
    "    \n",
    "    # pivot the vame with ImpliedVolatilityMid as the values within the table\n",
    "    # this has Strikes along the rows and Expirations along the columns\n",
    "    # the level=1 unstack pivots on Expiration and level=0 unstack pivots on OptionType\n",
    "    unstacked = frame['ImpliedVolatilityMid'].unstack(level=1).unstack(level=0)\n",
    "    \n",
    "    # this line does three things:\n",
    "    #    first interpolates across each Expiration date down the strikes for np.nan values\n",
    "    #    second forward fills values which keeps the last interpolated value as the value to fill\n",
    "    #    third back fills values which keeps the first interpolated value as the value to fill\n",
    "    unstacked_interp = unstacked.interpolate().ffill().bfill()\n",
    "    \n",
    "    # restack into shape of original DataFrame\n",
    "    unstacked_interp_indexed = unstacked_interp.stack(level=0).stack(level=0).reset_index()\n",
    "    \n",
    "    # replace old column with the new column with interpolated and filled values\n",
    "    frame['ImpliedVolatilityMid'] = unstacked_interp_indexed.set_index(['Expiration', 'OptionType', 'Strike'])\n",
    "    \n",
    "    # give our index back\n",
    "    frame.reset_index(inplace=True)\n",
    "    \n",
    "    # return\n",
    "    return frame"
   ]
  },
  {
   "cell_type": "code",
   "execution_count": null,
   "metadata": {},
   "outputs": [],
   "source": [
    "# get the completed frame\n",
    "options_frame = _interp_implied_volatility(options_frame)"
   ]
  },
  {
   "cell_type": "code",
   "execution_count": null,
   "metadata": {},
   "outputs": [],
   "source": [
    "# check to see if there are any np.nans\n",
    "bad_iv_post = options_frame[np.isnan(options_frame['ImpliedVolatilityMid'])]"
   ]
  },
  {
   "cell_type": "code",
   "execution_count": null,
   "metadata": {},
   "outputs": [],
   "source": [
    "bad_iv_post.groupby(['Strike']).count()['Expiration']"
   ]
  },
  {
   "cell_type": "markdown",
   "metadata": {},
   "source": [
    "# Applying Black-Scholes and the greeks\n",
    "\n",
    "Before we take a look at the implied volatility, let's apply the Black-Scholes formula and the associated greeks. First we define the functions we'll apply to the frame."
   ]
  },
  {
   "cell_type": "code",
   "execution_count": null,
   "metadata": {},
   "outputs": [],
   "source": [
    "def _get_option_value(series):\n",
    "    \"\"\" Return the option value given the OptionType\n",
    "\n",
    "    :param series: row of the dataframe, accessible by label\n",
    "    :return: Black-Scholes option value\n",
    "\n",
    "    \"\"\"\n",
    "    option_type = series['OptionType']\n",
    "    S = series['UnderlyingPrice']\n",
    "    K = series['Strike']\n",
    "    r = series['InterestRate']\n",
    "    t = series['TimeUntilExpiration']\n",
    "    vol = series['ImpliedVolatilityMid']\n",
    "\n",
    "    meth_name = 'black_scholes_{0}_value'.format(option_type)\n",
    "    return float(globals().get(meth_name)(S, K, r, t, vol))\n",
    "\n",
    "def _get_delta(series):\n",
    "    \"\"\" Return the option delta given the OptionType\n",
    "\n",
    "    :param series: row of the dataframe, accessible by label\n",
    "    :return: option delta\n",
    "\n",
    "    \"\"\"\n",
    "    option_type = series['OptionType']\n",
    "    S = series['UnderlyingPrice']\n",
    "    K = series['Strike']\n",
    "    r = series['InterestRate']\n",
    "    t = series['TimeUntilExpiration']\n",
    "    vol = series['ImpliedVolatilityMid']\n",
    "\n",
    "    meth_name = '{0}_delta'.format(option_type)\n",
    "    return float(globals().get(meth_name)(S, K, r, t, vol))\n",
    "\n",
    "def _get_gamma(series):\n",
    "    \"\"\" Return the option gamma\n",
    "\n",
    "    :param series: row of the dataframe, accessible by label\n",
    "    :return: option gamma\n",
    "\n",
    "    \"\"\"\n",
    "    S = series['UnderlyingPrice']\n",
    "    K = series['Strike']\n",
    "    r = series['InterestRate']\n",
    "    t = series['TimeUntilExpiration']\n",
    "    vol = series['ImpliedVolatilityMid']\n",
    "\n",
    "    return float(gamma(S, K, r, t, vol))\n",
    "\n",
    "def _get_vega(series):\n",
    "    \"\"\" Return the option vega\n",
    "\n",
    "    :param series: row of the dataframe, accessible by label\n",
    "    :return: option vega\n",
    "\n",
    "    \"\"\"\n",
    "    S = series['UnderlyingPrice']\n",
    "    K = series['Strike']\n",
    "    r = series['InterestRate']\n",
    "    t = series['TimeUntilExpiration']\n",
    "    vol = series['ImpliedVolatilityMid']\n",
    "\n",
    "    return float(vega(S, K, r, t, vol))\n",
    "\n",
    "def _get_theta(series):\n",
    "    \"\"\" Return the option theta given the OptionType\n",
    "\n",
    "    :param series: row of the dataframe, accessible by label\n",
    "    :return: option theta\n",
    "\n",
    "    \"\"\"\n",
    "    option_type = series['OptionType']\n",
    "    S = series['UnderlyingPrice']\n",
    "    K = series['Strike']\n",
    "    r = series['InterestRate']\n",
    "    t = series['TimeUntilExpiration']\n",
    "    vol = series['ImpliedVolatilityMid']\n",
    "\n",
    "    meth_name = '{0}_theta'.format(option_type)\n",
    "    return float(globals().get(meth_name)(S, K, r, t, vol))\n",
    "\n",
    "def _get_rho(series):\n",
    "    \"\"\" Return the option rho given the OptionType\n",
    "\n",
    "    :param series: row of the dataframe, accessible by label\n",
    "    :return: option rho\n",
    "\n",
    "    \"\"\"\n",
    "    option_type = series['OptionType']\n",
    "    S = series['UnderlyingPrice']\n",
    "    K = series['Strike']\n",
    "    r = series['InterestRate']\n",
    "    t = series['TimeUntilExpiration']\n",
    "    vol = series['ImpliedVolatilityMid']\n",
    "\n",
    "    meth_name = '{0}_rho'.format(option_type)\n",
    "    return float(globals().get(meth_name)(S, K, r, t, vol))\n",
    "\n",
    "def _get_model_error(series):\n",
    "    \"\"\" Return the error between mid price and model price\n",
    "\n",
    "    :param series: row of the dataframe, accessible by label\n",
    "    :return: error between mid price and model price\n",
    "\n",
    "    \"\"\"\n",
    "    option_mid = series['Mid']\n",
    "\n",
    "    return option_mid - _get_option_value(series)"
   ]
  },
  {
   "cell_type": "code",
   "execution_count": null,
   "metadata": {},
   "outputs": [],
   "source": [
    "# use the apply method to pass each row as a series to the various methods, returns a series in this case\n",
    "options_frame['TheoreticalValue'] = options_frame.apply(_get_option_value, axis=1)\n",
    "options_frame['Delta'] = options_frame.apply(_get_delta, axis=1)\n",
    "options_frame['Gamma'] = options_frame.apply(_get_gamma, axis=1)\n",
    "options_frame['Vega'] = options_frame.apply(_get_vega, axis=1)\n",
    "options_frame['Theta'] = options_frame.apply(_get_theta, axis=1)\n",
    "options_frame['Rho'] = options_frame.apply(_get_rho, axis=1)\n",
    "options_frame['ModelError'] = options_frame.apply(_get_model_error, axis=1)"
   ]
  },
  {
   "cell_type": "code",
   "execution_count": null,
   "metadata": {},
   "outputs": [],
   "source": [
    "options_frame.info()"
   ]
  },
  {
   "cell_type": "code",
   "execution_count": null,
   "metadata": {},
   "outputs": [],
   "source": [
    "options_frame.head()"
   ]
  },
  {
   "cell_type": "markdown",
   "metadata": {},
   "source": [
    "# Analyzing the model error\n"
   ]
  },
  {
   "cell_type": "markdown",
   "metadata": {
    "collapsed": true
   },
   "source": [
    "It's useful to visualize some of the data we've created. A quantitative analyst has to essentially be a full stack analyst/developer understanding the implications of the valuation models and metrics. Three years ago this was called quantitative research. Now it's called data science.\n",
    "\n",
    "We'll start by simply ploting the model error. Because we computed implied volatility from the Black-Scholes formula then used that result to price the option, you may expect there to be no model error.\n",
    "\n",
    "As you can see from the histogram, this is not the case. In fact there are several occasions where the model error is relatively large."
   ]
  },
  {
   "cell_type": "code",
   "execution_count": null,
   "metadata": {},
   "outputs": [],
   "source": [
    "# plot the model error\n",
    "options_frame['ModelError'].hist()\n"
   ]
  },
  {
   "cell_type": "markdown",
   "metadata": {},
   "source": [
    "What's the explanation?\n",
    "\n",
    "Based on some of my comments above, our hypothesis should be that deep in or out of the money options largely have wide bid-ask spreads leading to mis-pricing of the options. Let's plot strike v. model error."
   ]
  },
  {
   "cell_type": "code",
   "execution_count": null,
   "metadata": {},
   "outputs": [],
   "source": [
    "# grab the index of the 50 largest abs(errors)\n",
    "sorted_errors_idx = options_frame['ModelError'].map(abs).sort_values(ascending=False).head(50)\n",
    "\n",
    "# get the rest of the details from the frame\n",
    "errors_20_largest_by_strike = options_frame.ix[sorted_errors_idx.index]\n",
    "\n",
    "# plot model error against strike\n",
    "errors_20_largest_by_strike[['Strike', 'ModelError']].sort_values(by='Strike').plot(kind='bar', x='Strike')\n"
   ]
  },
  {
   "cell_type": "markdown",
   "metadata": {},
   "source": [
    "We can also explore how the bid-ask spread contributes to model error."
   ]
  },
  {
   "cell_type": "code",
   "execution_count": null,
   "metadata": {},
   "outputs": [],
   "source": [
    "# add a new column\n",
    "options_frame['BidAskSpread'] = options_frame['Ask'] - options_frame['Bid']\n",
    "\n",
    "# plot model error by bid-ask spread\n",
    "errors_20_largest_by_spread = options_frame.ix[sorted_errors_idx.index]\n",
    "\n",
    "# plot model error against strike, many expirations included\n",
    "errors_20_largest_by_spread[['BidAskSpread', 'ModelError']].sort_values(by='BidAskSpread').plot(kind='bar', x='BidAskSpread')"
   ]
  },
  {
   "cell_type": "markdown",
   "metadata": {},
   "source": [
    "Finally, let's take a look at the relationship between model error and bid-ask spread."
   ]
  },
  {
   "cell_type": "code",
   "execution_count": null,
   "metadata": {},
   "outputs": [],
   "source": [
    "# plot a scatter plot of all errors > 1.0e-4\n",
    "options_frame[abs(options_frame['ModelError']) >= 1.0e-4].plot(kind='scatter', x='BidAskSpread', y='ModelError')"
   ]
  },
  {
   "cell_type": "markdown",
   "metadata": {},
   "source": [
    "There are not enough samples to get any sort of statistical relationship but we can clearly see that as the bid-ask spread increases the model error increases as well."
   ]
  },
  {
   "cell_type": "markdown",
   "metadata": {},
   "source": [
    "# Analyzing implied volatility\n",
    "\n",
    "First we'll look at the so-called implied volatility skew. This plots implied volatility for one expiration across strike prices. Given all else equal, an option with a higher implied volatility will be more expensive. Generally deep in and out of the money strikes command higher prices (and by extension higher implied volatilites) than the Black-Scholes formula implies. This skew only began to appear after the crash of US stocks in October 1987. It is assumed that this is a result of assumptions in the underlying distribution assumption having \"fat tails\" rather than being completely normal.\n",
    "\n",
    "Let's take a look."
   ]
  },
  {
   "cell_type": "code",
   "execution_count": null,
   "metadata": {},
   "outputs": [],
   "source": [
    "# select an expiration to plot\n",
    "iv = options_frame[options_frame['Expiration'] == '2016-03-18']\n",
    "\n",
    "# get the call options\n",
    "iv_call = iv[iv['OptionType'] == 'call']\n",
    "\n",
    "# set the strike as the index so pandas plots nicely\n",
    "iv_call[['Strike', 'ImpliedVolatilityMid']].set_index('Strike').plot(title='Implied volatility skew')"
   ]
  },
  {
   "cell_type": "markdown",
   "metadata": {
    "collapsed": true
   },
   "source": [
    "The curve shows that at the money strikes have a higher implied volatiltiy out the money srikes. This is a bit unusual but very likely due to the general state of market volitlity. Traders are pricing at the money call options much more expensive than out the money call options as a result of the demand for call options at the $130 strike.\n",
    "\n",
    "In a professional setting, traders would use proprietary models (not simple linear interpolation) to rebuild the curves. If the proprietary model resulted in an implied volatility that was higher than the market, a trade would be executed to exploit the anomaly. In our case, we're simply visualizing the prevailing market state.\n",
    "\n",
    "Another interesting analysis is to look at the multi-expiration skew chart."
   ]
  },
  {
   "cell_type": "code",
   "execution_count": null,
   "metadata": {},
   "outputs": [],
   "source": [
    "# get the monthly expirations\n",
    "expirations = options_frame['Expiration'].unique()[-5:]\n",
    "\n",
    "# get all the rows where expiration is in our list of expirations\n",
    "iv_multi = options_frame[options_frame['Expiration'].isin(expirations)]\n",
    "\n",
    "# get the call options\n",
    "iv_multi_call = iv_multi[iv_multi['OptionType'] == 'call']\n",
    "\n",
    "# pivot the data frame to put expiration dates as columns\n",
    "iv_pivoted = iv_multi_call[['DaysUntilExpiration', 'Strike', 'ImpliedVolatilityMid']].pivot(index='Strike', columns='DaysUntilExpiration', values='ImpliedVolatilityMid').dropna()\n",
    "\n",
    "# plot\n",
    "iv_pivoted.plot()\n"
   ]
  },
  {
   "cell_type": "markdown",
   "metadata": {},
   "source": [
    "We'll take a look now at the term structure of volatility. This measures implied volatility at a given strike (usually an at the money strike) but across expirations. Similar to the concept of backwardization and contango in the futures markets, the term structure gives an idea of the demand for options at a particular time in the future."
   ]
  },
  {
   "cell_type": "code",
   "execution_count": null,
   "metadata": {},
   "outputs": [],
   "source": [
    "# select a strike to plot\n",
    "iv = options_frame[options_frame['Strike'] == 130.0]\n",
    "\n",
    "# get the call options\n",
    "iv_call = iv[iv['OptionType'] == 'call']\n",
    "\n",
    "# set the strike as the index so pandas plots nicely\n",
    "iv_call[['Expiration', 'ImpliedVolatilityMid']].set_index('Expiration').plot()"
   ]
  },
  {
   "cell_type": "markdown",
   "metadata": {
    "collapsed": true
   },
   "source": [
    "This is a clear demonstration of a violation of the Black-Scholes model assuptions. A flat volatility term structure does not exist in the markets and we have the empirical evidence to prove it.\n",
    "\n",
    "At the $130 strike, implied is very high at very near expirations. This is a result of the recent market volatility which has increased demand for this option.\n",
    "\n",
    "One last thing to do is plot the famous volatility surface. This gives a three dimentional representation of the implied volatility against strike price and expiration. While it is sometimes hard to glean any tradeable insight from the surface directly, building surfaces is important to value other derivatives that may not have an exact strike and expiration. This usually happens in the institutional setting however so professional traders can devise their own volatility models and use the implied volatility surface to understand if options are cheap or expensive."
   ]
  },
  {
   "cell_type": "code",
   "execution_count": null,
   "metadata": {},
   "outputs": [],
   "source": [
    "# pivot the dataframe\n",
    "iv_pivoted_surface = iv_multi_call[['DaysUntilExpiration', 'Strike', 'ImpliedVolatilityMid']].pivot(index='Strike', columns='DaysUntilExpiration', values='ImpliedVolatilityMid').dropna()\n",
    "\n",
    "# create the figure object\n",
    "fig = plt.figure()\n",
    "\n",
    "# add the subplot with projection argument\n",
    "ax = fig.add_subplot(111, projection='3d')\n",
    "\n",
    "# get the 1d values from the pivoted dataframe\n",
    "x, y, z = iv_pivoted_surface.columns.values, iv_pivoted_surface.index.values, iv_pivoted_surface.values\n",
    "\n",
    "# return coordinate matrices from coordinate vectors\n",
    "X, Y = np.meshgrid(x, y)\n",
    "\n",
    "# set labels\n",
    "ax.set_xlabel('Days to expiration')\n",
    "ax.set_ylabel('Strike price')\n",
    "ax.set_zlabel('Implied volatility')\n",
    "ax.set_title('Implied volatility surface')\n",
    "\n",
    "# plot\n",
    "ax.plot_surface(X, Y, z, rstride=4, cstride=4, color='b')\n"
   ]
  },
  {
   "cell_type": "markdown",
   "metadata": {},
   "source": [
    "# Conlusion\n",
    "\n",
    "In addition to the theory and math behind the models, we learned how to code it all in Python relying heavily on `Pandas` to gather and manipulate data and `NumPy` and `SciPy` to implement some of the models."
   ]
  },
  {
   "cell_type": "markdown",
   "metadata": {},
   "source": [
    "# References\n",
    "\n",
    "* http://pandas.pydata.org/pandas-docs/stable/index.html\n",
    "* http://docs.scipy.org/doc/scipy-0.14.0/reference/generated/scipy.optimize.brentq.html\n",
    "* http://docs.scipy.org/doc/scipy-0.14.0/reference/generated/scipy.interpolate.interp1d.html\n",
    "* http://docs.scipy.org/doc/numpy-1.10.0/reference/generated/numpy.meshgrid.html\n",
    "* http://matplotlib.org/mpl_toolkits/mplot3d/tutorial.html\n",
    "* http://nbviewer.ipython.org/github/quantopian/qgrid/blob/master/qgrid_demo.ipynb\n",
    "* http://daringfireball.net/projects/markdown/syntax\n",
    "* http://www.codecogs.com/latex/eqneditor.php\n",
    "* http://www.bespokeoptions.com/blog/2015/10/06/implied-volatility-with-c-and-python-pt-1\n",
    "* http://blog.nag.com/2013/10/implied-volatility-using-pythons-pandas.html\n",
    "* http://www.888options.com\n",
    "* https://en.wikipedia.org/wiki/Black%E2%80%93Scholes_model\n",
    "* https://en.wikipedia.org/wiki/Greeks_(finance)\n",
    "* https://en.wikipedia.org/wiki/Volatility_smile\n",
    "* http://pythonpodcast.com/scott-sanderson-algorithmic-trading.html\n",
    "* http://pythonpodcast.com/yves-hilpisch-quant-finance.html"
   ]
  },
  {
   "cell_type": "code",
   "execution_count": null,
   "metadata": {},
   "outputs": [],
   "source": []
  }
 ],
 "metadata": {
  "kernelspec": {
   "display_name": "Python 3",
   "language": "python",
   "name": "python3"
  },
  "language_info": {
   "codemirror_mode": {
    "name": "ipython",
    "version": 3
   },
   "file_extension": ".py",
   "mimetype": "text/x-python",
   "name": "python",
   "nbconvert_exporter": "python",
   "pygments_lexer": "ipython3",
   "version": "3.6.4"
  }
 },
 "nbformat": 4,
 "nbformat_minor": 1
}
