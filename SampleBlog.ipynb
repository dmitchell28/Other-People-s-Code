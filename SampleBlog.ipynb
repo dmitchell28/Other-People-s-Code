{
 "cells": [
  {
   "cell_type": "code",
   "execution_count": 39,
   "metadata": {},
   "outputs": [
    {
     "data": {
      "text/plain": [
       "'C:\\\\Users\\\\traveler'"
      ]
     },
     "execution_count": 39,
     "metadata": {},
     "output_type": "execute_result"
    }
   ],
   "source": [
    "pwd\n"
   ]
  },
  {
   "cell_type": "code",
   "execution_count": 40,
   "metadata": {
    "scrolled": true
   },
   "outputs": [
    {
     "data": {
      "text/html": [
       "<iframe src=http://www.stat.washington.edu/~hoytak/blog/whypython.html width=800 height=350></iframe>"
      ],
      "text/plain": [
       "<IPython.core.display.HTML object>"
      ]
     },
     "execution_count": 40,
     "metadata": {},
     "output_type": "execute_result"
    }
   ],
   "source": [
    "from IPython.core.display import HTML\n",
    "HTML(\"<iframe src=http://www.stat.washington.edu/~hoytak/blog/whypython.html width=800 height=350></iframe>\")"
   ]
  },
  {
   "cell_type": "code",
   "execution_count": 41,
   "metadata": {
    "scrolled": true
   },
   "outputs": [
    {
     "data": {
      "text/html": [
       "<iframe src=https://www.bnymellon.com/_global-assets/pdf/our-thinking/business-insights/big-data-and-investment-mangement.pdf width=800 height=350></iframe>"
      ],
      "text/plain": [
       "<IPython.core.display.HTML object>"
      ]
     },
     "execution_count": 41,
     "metadata": {},
     "output_type": "execute_result"
    }
   ],
   "source": [
    "#Big Data\n",
    "HTML(\"<iframe src=https://www.bnymellon.com/_global-assets/pdf/our-thinking/business-insights/big-data-and-investment-mangement.pdf width=800 height=350></iframe>\")\n"
   ]
  },
  {
   "cell_type": "code",
   "execution_count": 42,
   "metadata": {},
   "outputs": [
    {
     "data": {
      "text/html": [
       "<iframe src=https://www.crisil.com/pdf/global-offshoring/big-data-in-asset-management.pdf width=800 height=350></iframe>"
      ],
      "text/plain": [
       "<IPython.core.display.HTML object>"
      ]
     },
     "execution_count": 42,
     "metadata": {},
     "output_type": "execute_result"
    }
   ],
   "source": [
    "HTML(\"<iframe src=https://www.crisil.com/pdf/global-offshoring/big-data-in-asset-management.pdf width=800 height=350></iframe>\")"
   ]
  },
  {
   "cell_type": "code",
   "execution_count": null,
   "metadata": {},
   "outputs": [
    {
     "data": {
      "text/html": [
       "<iframe src=https://s3-eu-west-1.amazonaws.com/ea-pdf-items/Alternative_Data_Report_Version_2.pdf width=800 height=350></iframe>"
      ],
      "text/plain": [
       "<IPython.core.display.HTML object>"
      ]
     },
     "execution_count": 43,
     "metadata": {},
     "output_type": "execute_result"
    }
   ],
   "source": [
    "#Alternative Data\n",
    "HTML(\"<iframe src=https://s3-eu-west-1.amazonaws.com/ea-pdf-items/Alternative_Data_Report_Version_2.pdf width=800 height=350></iframe>\")"
   ]
  },
  {
   "cell_type": "code",
   "execution_count": null,
   "metadata": {},
   "outputs": [],
   "source": [
    "from IPython.display import YouTubeVideo\n",
    "# a talk about bqplot fro PyDataSeattle2017 \n",
    "# Video credit: Dhruv Madeka.\n",
    "# demo code at https://github.com/dmadeka/PydataSeattle2017\n",
    "YouTubeVideo('iWHzPTCs9fQ')"
   ]
  },
  {
   "cell_type": "code",
   "execution_count": null,
   "metadata": {
    "scrolled": true
   },
   "outputs": [],
   "source": [
    "from IPython.display import YouTubeVideo\n",
    "# a talk about ScikitLearn fro PyDataSeattle2015 \n",
    "# Video credit: Jake Van de Plas.\n",
    "# demo code at https://github.com/jakevdp/sklearn_pydata2015\n",
    "#\n",
    "# go to https://www.youtube.com/watch?time_continue=1096&v=HjAB45qsx_c\n",
    "# for an even longer video on the topic or by his book.\n",
    "YouTubeVideo('HC0J_SPm9co')\n"
   ]
  },
  {
   "cell_type": "code",
   "execution_count": null,
   "metadata": {
    "scrolled": true
   },
   "outputs": [],
   "source": [
    "HTML(\"<iframe src=https://github.com/DataTau/datascience-anthology-pydata width=800 height=350></iframe>\")"
   ]
  },
  {
   "cell_type": "code",
   "execution_count": null,
   "metadata": {},
   "outputs": [],
   "source": [
    "from IPython.display import YouTubeVideo\n",
    "# a talk about Reinforcement Learning\n",
    "# Video credit: Jeff Conway.\n",
    "# presentation http://c.ymcdn.com/sites/www.sqa-us.org/resource/resmgr/Shane_Conway.pdf\n",
    "#\n",
    "YouTubeVideo('xa6AHMoND6E')\n"
   ]
  },
  {
   "cell_type": "code",
   "execution_count": null,
   "metadata": {
    "collapsed": true
   },
   "outputs": [],
   "source": [
    "#Probably Approximately Correct\n",
    "HTML(\"<iframe src=http://c.ymcdn.com/sites/www.sqa-us.org/resource/resmgr/Shane_Conway.pdf width=800 height=350></iframe>\")"
   ]
  },
  {
   "cell_type": "code",
   "execution_count": null,
   "metadata": {
    "collapsed": true
   },
   "outputs": [],
   "source": []
  }
 ],
 "metadata": {
  "kernelspec": {
   "display_name": "Python 3",
   "language": "python",
   "name": "python3"
  },
  "language_info": {
   "codemirror_mode": {
    "name": "ipython",
    "version": 3
   },
   "file_extension": ".py",
   "mimetype": "text/x-python",
   "name": "python",
   "nbconvert_exporter": "python",
   "pygments_lexer": "ipython3",
   "version": "3.5.3"
  }
 },
 "nbformat": 4,
 "nbformat_minor": 2
}
