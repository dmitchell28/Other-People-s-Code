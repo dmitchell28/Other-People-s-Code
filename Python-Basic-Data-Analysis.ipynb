{
 "cells": [
  {
   "cell_type": "markdown",
   "metadata": {},
   "source": [
    "# Data Analysis with Python"
   ]
  },
  {
   "cell_type": "code",
   "execution_count": 2,
   "metadata": {},
   "outputs": [],
   "source": [
    "# 1. import relevant libraries\n",
    "import numpy as np\n",
    "import pandas as pd\n",
    "import matplotlib.pyplot as plt\n",
    "import pandas_datareader as pdr\n",
    "%matplotlib inline\n"
   ]
  },
  {
   "cell_type": "code",
   "execution_count": 3,
   "metadata": {},
   "outputs": [],
   "source": [
    "# 2.  Download stock price data, store in dataframe\n",
    "msft = pdr.get_data_google('MSFT', start='2016-08-03')"
   ]
  },
  {
   "cell_type": "code",
   "execution_count": 5,
   "metadata": {},
   "outputs": [
    {
     "data": {
      "text/html": [
       "<div>\n",
       "<table border=\"1\" class=\"dataframe\">\n",
       "  <thead>\n",
       "    <tr style=\"text-align: right;\">\n",
       "      <th></th>\n",
       "      <th>Open</th>\n",
       "      <th>High</th>\n",
       "      <th>Low</th>\n",
       "      <th>Close</th>\n",
       "      <th>Volume</th>\n",
       "    </tr>\n",
       "    <tr>\n",
       "      <th>Date</th>\n",
       "      <th></th>\n",
       "      <th></th>\n",
       "      <th></th>\n",
       "      <th></th>\n",
       "      <th></th>\n",
       "    </tr>\n",
       "  </thead>\n",
       "  <tbody>\n",
       "    <tr>\n",
       "      <th>2017-11-17</th>\n",
       "      <td>83.12</td>\n",
       "      <td>83.12</td>\n",
       "      <td>82.24</td>\n",
       "      <td>82.40</td>\n",
       "      <td>22078993</td>\n",
       "    </tr>\n",
       "    <tr>\n",
       "      <th>2017-11-20</th>\n",
       "      <td>82.40</td>\n",
       "      <td>82.59</td>\n",
       "      <td>82.25</td>\n",
       "      <td>82.53</td>\n",
       "      <td>16314978</td>\n",
       "    </tr>\n",
       "    <tr>\n",
       "      <th>2017-11-21</th>\n",
       "      <td>82.74</td>\n",
       "      <td>83.84</td>\n",
       "      <td>82.74</td>\n",
       "      <td>83.72</td>\n",
       "      <td>21237454</td>\n",
       "    </tr>\n",
       "    <tr>\n",
       "      <th>2017-11-22</th>\n",
       "      <td>83.83</td>\n",
       "      <td>83.90</td>\n",
       "      <td>83.04</td>\n",
       "      <td>83.11</td>\n",
       "      <td>20553089</td>\n",
       "    </tr>\n",
       "    <tr>\n",
       "      <th>2017-11-24</th>\n",
       "      <td>83.01</td>\n",
       "      <td>83.43</td>\n",
       "      <td>82.78</td>\n",
       "      <td>83.26</td>\n",
       "      <td>7425603</td>\n",
       "    </tr>\n",
       "  </tbody>\n",
       "</table>\n",
       "</div>"
      ],
      "text/plain": [
       "             Open   High    Low  Close    Volume\n",
       "Date                                            \n",
       "2017-11-17  83.12  83.12  82.24  82.40  22078993\n",
       "2017-11-20  82.40  82.59  82.25  82.53  16314978\n",
       "2017-11-21  82.74  83.84  82.74  83.72  21237454\n",
       "2017-11-22  83.83  83.90  83.04  83.11  20553089\n",
       "2017-11-24  83.01  83.43  82.78  83.26   7425603"
      ]
     },
     "execution_count": 5,
     "metadata": {},
     "output_type": "execute_result"
    }
   ],
   "source": [
    "# 3. Take a look at the data\n",
    "msft.tail()"
   ]
  },
  {
   "cell_type": "code",
   "execution_count": 6,
   "metadata": {
    "collapsed": true
   },
   "outputs": [],
   "source": [
    "# 4. Get just the data we are interested in\n",
    "msft_close = msft['Close']"
   ]
  },
  {
   "cell_type": "code",
   "execution_count": 6,
   "metadata": {},
   "outputs": [
    {
     "data": {
      "text/plain": [
       "pandas.core.series.Series"
      ]
     },
     "execution_count": 6,
     "metadata": {},
     "output_type": "execute_result"
    }
   ],
   "source": [
    "# 5. Verify data \n",
    "type(amzn_close.head())"
   ]
  },
  {
   "cell_type": "code",
   "execution_count": 7,
   "metadata": {},
   "outputs": [
    {
     "data": {
      "text/plain": [
       "Date\n",
       "2016-08-03         NaN\n",
       "2016-08-04    0.809026\n",
       "2016-08-05    0.682498\n",
       "2016-08-08    0.075691\n",
       "2016-08-09    0.228032\n",
       "Name: Close, dtype: float64"
      ]
     },
     "execution_count": 7,
     "metadata": {},
     "output_type": "execute_result"
    }
   ],
   "source": [
    "# 6. Convert close-to-close dollar change into instantaneous rate of return, verify transformation\n",
    "amzn_percent_change = np.log(amzn_close / amzn_close.shift(1)) * 100\n",
    "amzn_percent_change.head()"
   ]
  },
  {
   "cell_type": "code",
   "execution_count": 8,
   "metadata": {},
   "outputs": [
    {
     "data": {
      "text/plain": [
       "count    252.000000\n",
       "mean       0.106487\n",
       "std        1.194826\n",
       "min       -5.273753\n",
       "25%       -0.484134\n",
       "50%        0.117312\n",
       "75%        0.811309\n",
       "max        3.881057\n",
       "Name: Close, dtype: float64"
      ]
     },
     "execution_count": 8,
     "metadata": {},
     "output_type": "execute_result"
    }
   ],
   "source": [
    "# 7. Pandas describe function gives descriptive statistics, default assumes you are dealing with a sample\n",
    "# Pandas also deals with missing values by ommitting them \n",
    "amzn_percent_change.describe()"
   ]
  },
  {
   "cell_type": "code",
   "execution_count": 10,
   "metadata": {},
   "outputs": [
    {
     "data": {
      "text/plain": [
       "DescribeResult(nobs=252, minmax=(-5.2737531271995062, 3.8810569610031007), mean=0.10648736829713538, variance=1.4276100656074371, skewness=-0.5610474712532317, kurtosis=2.3600263221846784)"
      ]
     },
     "execution_count": 10,
     "metadata": {},
     "output_type": "execute_result"
    }
   ],
   "source": [
    "# 8. An alternative more comprehensive table of descriptives can be generated using scipy stats, assumes a sample\n",
    "from scipy import stats\n",
    "stats.describe(amzn_percent_change[1:])"
   ]
  },
  {
   "cell_type": "code",
   "execution_count": 12,
   "metadata": {},
   "outputs": [
    {
     "data": {
      "text/plain": [
       "DescribeResult(nobs=252, minmax=(-3.530203911382729, 3.0549917950041023), mean=0.18017895760082278, variance=1.364946888190105, skewness=-0.05145305633122407, kurtosis=-0.1534361303525733)"
      ]
     },
     "execution_count": 12,
     "metadata": {},
     "output_type": "execute_result"
    }
   ],
   "source": [
    "# 9. for comparision generate random numbers that follow normal distribution\n",
    "x = np.random.normal(.1064,1.1948, 252)\n",
    "stats.describe(x)"
   ]
  },
  {
   "cell_type": "code",
   "execution_count": 13,
   "metadata": {},
   "outputs": [
    {
     "name": "stdout",
     "output_type": "stream",
     "text": [
      "x:  KurtosistestResult(statistic=-0.33790480941260126, pvalue=0.73543492313774006)\n",
      "amzn:  KurtosistestResult(statistic=4.2481322914200996, pvalue=2.1556009784047011e-05)\n"
     ]
    }
   ],
   "source": [
    "# 10. use scipy stats to test the kurtosis, the null hypothesis is that the sample is drawn from a population \n",
    "# where the underlying kurtosis is that of a normally distributed variable\n",
    "print(\"x: \", stats.kurtosistest(x))\n",
    "print(\"amzn: \", stats.kurtosistest(amzn_percent_change[1:]) )"
   ]
  },
  {
   "cell_type": "code",
   "execution_count": 19,
   "metadata": {},
   "outputs": [
    {
     "data": {
      "text/plain": [
       "[<matplotlib.lines.Line2D at 0x115a03e80>]"
      ]
     },
     "execution_count": 19,
     "metadata": {},
     "output_type": "execute_result"
    },
    {
     "data": {
      "image/png": "[encoded data removed]",
      "text/plain": [
       "<matplotlib.figure.Figure at 0x1157af748>"
      ]
     },
     "metadata": {},
     "output_type": "display_data"
    }
   ],
   "source": [
    "# 11. plot histogram of price changes with normal curve overlay\n",
    "import matplotlib.mlab as mlab\n",
    "\n",
    "plt.hist(amzn_percent_change[1:], edgecolor='black', normed=True)\n",
    "\n",
    "# overlay normal curve\n",
    "mean = float(np.mean(amzn_percent_change))\n",
    "sd = float(np.std(amzn_percent_change, ddof=1))\n",
    "min_chng = float(np.min(amzn_percent_change))\n",
    "max_chng = float(np.max(amzn_percent_change))\n",
    "a = np.linspace(min_chng, max_chng,100)\n",
    "plt.plot(a,mlab.normpdf(a,mean,sd))\n"
   ]
  },
  {
   "cell_type": "code",
   "execution_count": 20,
   "metadata": {},
   "outputs": [
    {
     "data": {
      "image/png": "[encoded data removed]",
      "text/plain": [
       "<matplotlib.figure.Figure at 0x1158ea668>"
      ]
     },
     "metadata": {},
     "output_type": "display_data"
    }
   ],
   "source": [
    "# 12. compare to sample drawn from a normally distributed population with same attributes as amzn price change\n",
    "plt.hist(x, normed=True)\n",
    "\n",
    "mean = float(np.mean(x))\n",
    "sd = float(np.std(x))\n",
    "b = np.linspace(np.min(x), np.max(x), 100)\n",
    "plt.plot(b,mlab.normpdf(b, mean, sd))\n",
    "plt.show()"
   ]
  },
  {
   "cell_type": "code",
   "execution_count": null,
   "metadata": {
    "collapsed": true
   },
   "outputs": [],
   "source": []
  }
 ],
 "metadata": {
  "kernelspec": {
   "display_name": "Python 3",
   "language": "python",
   "name": "python3"
  },
  "language_info": {
   "codemirror_mode": {
    "name": "ipython",
    "version": 3
   },
   "file_extension": ".py",
   "mimetype": "text/x-python",
   "name": "python",
   "nbconvert_exporter": "python",
   "pygments_lexer": "ipython3",
   "version": "3.5.3"
  }
 },
 "nbformat": 4,
 "nbformat_minor": 2
}
