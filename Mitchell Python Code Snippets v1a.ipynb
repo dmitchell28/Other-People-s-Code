{
 "cells": [
  {
   "cell_type": "markdown",
   "metadata": {},
   "source": [
    "# <p><a name=\"sections\"></a></p>\n",
    "\n",
    "\n",
    "# Sections\n",
    "- <a href=\"#basic\">Basic Help and Information</a><br>\n",
    "- <a href=\"#eda\">Exploratory Data Analysis</a><br>\n",
    "- <a href=\"#fin\">Financial Data ETL</a><br>\n",
    " - <a href=\"#finance1\">PDR to Fetch Financial Data</a><br>\n",
    " - <a href=\"#finance2\">Yahoo Data with PDR and YF</a><br>\n",
    " - <a href=\"#finance3\">Alternate Yahoo Fetch</a><br>\n",
    " - <a href=\"#finance4\">Quandl</a><br>\n",
    " - <a href=\"#finance5\">__Bloomberg Data using pdblp__</a><br>\n",
    "- <a href=\"#os\">Directory and Files</a><br>\n",
    "- <a href=\"#cleaning\">Data Cleaning & Wrangling</a><br>\n",
    "- <a href=\"#pivot\">Pivot Tables</a><br>\n",
    "- <a href=\"#embed\">Embedding Objects</a><br>\n",
    "- <a href=\"#math\">Math & Stats</a><br>\n",
    "- <a href=\"#misc\">Miscellaneous</a><br>\n",
    " - <a href=\"#misc\">Selection & Indexing</a><br>\n",
    " - <a href=\"#misc\">List Comprehensions</a><br>\n",
    "- <a href=\"#viz\">Data Vis</a><br>\n",
    "- <a href=\"#scrape\">Web Scraping</a><br>\n",
    "- <a href=\"#end\">End</a><br>"
   ]
  },
  {
   "cell_type": "markdown",
   "metadata": {},
   "source": [
    "<p><a name=\"basic\"></a></p>\n",
    "# Basic Help and Information\n",
    "Commands like: <br>\n",
    "`help(arg)`, `dir(arg)`, and others"
   ]
  },
  {
   "cell_type": "code",
   "execution_count": 3,
   "metadata": {},
   "outputs": [
    {
     "name": "stdout",
     "output_type": "stream",
     "text": [
      "Help on built-in function len in module builtins:\n",
      "\n",
      "len(obj, /)\n",
      "    Return the number of items in a container.\n",
      "\n"
     ]
    }
   ],
   "source": [
    "help(len)\n"
   ]
  },
  {
   "cell_type": "code",
   "execution_count": 4,
   "metadata": {
    "collapsed": true
   },
   "outputs": [],
   "source": [
    "#len? # help on function"
   ]
  },
  {
   "cell_type": "code",
   "execution_count": 5,
   "metadata": {
    "collapsed": true
   },
   "outputs": [],
   "source": [
    "L = [1,2,3]\n",
    "#help(L.sort)\n"
   ]
  },
  {
   "cell_type": "code",
   "execution_count": 6,
   "metadata": {},
   "outputs": [
    {
     "data": {
      "text/plain": [
       "['__add__',\n",
       " '__class__',\n",
       " '__contains__',\n",
       " '__delattr__',\n",
       " '__delitem__',\n",
       " '__dir__',\n",
       " '__doc__',\n",
       " '__eq__',\n",
       " '__format__',\n",
       " '__ge__',\n",
       " '__getattribute__',\n",
       " '__getitem__',\n",
       " '__gt__',\n",
       " '__hash__',\n",
       " '__iadd__',\n",
       " '__imul__',\n",
       " '__init__',\n",
       " '__iter__',\n",
       " '__le__',\n",
       " '__len__',\n",
       " '__lt__',\n",
       " '__mul__',\n",
       " '__ne__',\n",
       " '__new__',\n",
       " '__reduce__',\n",
       " '__reduce_ex__',\n",
       " '__repr__',\n",
       " '__reversed__',\n",
       " '__rmul__',\n",
       " '__setattr__',\n",
       " '__setitem__',\n",
       " '__sizeof__',\n",
       " '__str__',\n",
       " '__subclasshook__',\n",
       " 'append',\n",
       " 'clear',\n",
       " 'copy',\n",
       " 'count',\n",
       " 'extend',\n",
       " 'index',\n",
       " 'insert',\n",
       " 'pop',\n",
       " 'remove',\n",
       " 'reverse',\n",
       " 'sort']"
      ]
     },
     "execution_count": 6,
     "metadata": {},
     "output_type": "execute_result"
    }
   ],
   "source": [
    "dir(L)   # list all the methods and attributes for the object"
   ]
  },
  {
   "cell_type": "code",
   "execution_count": 7,
   "metadata": {},
   "outputs": [
    {
     "data": {
      "application/json": {
       "cell": {
        "!": "OSMagics",
        "HTML": "Other",
        "SVG": "Other",
        "bash": "Other",
        "capture": "ExecutionMagics",
        "cmd": "Other",
        "debug": "ExecutionMagics",
        "file": "Other",
        "html": "DisplayMagics",
        "javascript": "DisplayMagics",
        "js": "DisplayMagics",
        "latex": "DisplayMagics",
        "perl": "Other",
        "prun": "ExecutionMagics",
        "pypy": "Other",
        "python": "Other",
        "python2": "Other",
        "python3": "Other",
        "ruby": "Other",
        "script": "ScriptMagics",
        "sh": "Other",
        "svg": "DisplayMagics",
        "sx": "OSMagics",
        "system": "OSMagics",
        "time": "ExecutionMagics",
        "timeit": "ExecutionMagics",
        "writefile": "OSMagics"
       },
       "line": {
        "alias": "OSMagics",
        "alias_magic": "BasicMagics",
        "autocall": "AutoMagics",
        "automagic": "AutoMagics",
        "autosave": "KernelMagics",
        "bookmark": "OSMagics",
        "cd": "OSMagics",
        "clear": "KernelMagics",
        "cls": "KernelMagics",
        "colors": "BasicMagics",
        "config": "ConfigMagics",
        "connect_info": "KernelMagics",
        "copy": "Other",
        "ddir": "Other",
        "debug": "ExecutionMagics",
        "dhist": "OSMagics",
        "dirs": "OSMagics",
        "doctest_mode": "BasicMagics",
        "echo": "Other",
        "ed": "Other",
        "edit": "KernelMagics",
        "env": "OSMagics",
        "gui": "BasicMagics",
        "hist": "Other",
        "history": "HistoryMagics",
        "killbgscripts": "ScriptMagics",
        "ldir": "Other",
        "less": "KernelMagics",
        "load": "CodeMagics",
        "load_ext": "ExtensionMagics",
        "loadpy": "CodeMagics",
        "logoff": "LoggingMagics",
        "logon": "LoggingMagics",
        "logstart": "LoggingMagics",
        "logstate": "LoggingMagics",
        "logstop": "LoggingMagics",
        "ls": "Other",
        "lsmagic": "BasicMagics",
        "macro": "ExecutionMagics",
        "magic": "BasicMagics",
        "matplotlib": "PylabMagics",
        "mkdir": "Other",
        "more": "KernelMagics",
        "notebook": "BasicMagics",
        "page": "BasicMagics",
        "pastebin": "CodeMagics",
        "pdb": "ExecutionMagics",
        "pdef": "NamespaceMagics",
        "pdoc": "NamespaceMagics",
        "pfile": "NamespaceMagics",
        "pinfo": "NamespaceMagics",
        "pinfo2": "NamespaceMagics",
        "popd": "OSMagics",
        "pprint": "BasicMagics",
        "precision": "BasicMagics",
        "profile": "BasicMagics",
        "prun": "ExecutionMagics",
        "psearch": "NamespaceMagics",
        "psource": "NamespaceMagics",
        "pushd": "OSMagics",
        "pwd": "OSMagics",
        "pycat": "OSMagics",
        "pylab": "PylabMagics",
        "qtconsole": "KernelMagics",
        "quickref": "BasicMagics",
        "recall": "HistoryMagics",
        "rehashx": "OSMagics",
        "reload_ext": "ExtensionMagics",
        "ren": "Other",
        "rep": "Other",
        "rerun": "HistoryMagics",
        "reset": "NamespaceMagics",
        "reset_selective": "NamespaceMagics",
        "rmdir": "Other",
        "run": "ExecutionMagics",
        "save": "CodeMagics",
        "sc": "OSMagics",
        "set_env": "OSMagics",
        "store": "StoreMagics",
        "sx": "OSMagics",
        "system": "OSMagics",
        "tb": "ExecutionMagics",
        "time": "ExecutionMagics",
        "timeit": "ExecutionMagics",
        "unalias": "OSMagics",
        "unload_ext": "ExtensionMagics",
        "who": "NamespaceMagics",
        "who_ls": "NamespaceMagics",
        "whos": "NamespaceMagics",
        "xdel": "NamespaceMagics",
        "xmode": "BasicMagics"
       }
      },
      "text/plain": [
       "Available line magics:\n",
       "%alias  %alias_magic  %autocall  %automagic  %autosave  %bookmark  %cd  %clear  %cls  %colors  %config  %connect_info  %copy  %ddir  %debug  %dhist  %dirs  %doctest_mode  %echo  %ed  %edit  %env  %gui  %hist  %history  %killbgscripts  %ldir  %less  %load  %load_ext  %loadpy  %logoff  %logon  %logstart  %logstate  %logstop  %ls  %lsmagic  %macro  %magic  %matplotlib  %mkdir  %more  %notebook  %page  %pastebin  %pdb  %pdef  %pdoc  %pfile  %pinfo  %pinfo2  %popd  %pprint  %precision  %profile  %prun  %psearch  %psource  %pushd  %pwd  %pycat  %pylab  %qtconsole  %quickref  %recall  %rehashx  %reload_ext  %ren  %rep  %rerun  %reset  %reset_selective  %rmdir  %run  %save  %sc  %set_env  %store  %sx  %system  %tb  %time  %timeit  %unalias  %unload_ext  %who  %who_ls  %whos  %xdel  %xmode\n",
       "\n",
       "Available cell magics:\n",
       "%%!  %%HTML  %%SVG  %%bash  %%capture  %%cmd  %%debug  %%file  %%html  %%javascript  %%js  %%latex  %%perl  %%prun  %%pypy  %%python  %%python2  %%python3  %%ruby  %%script  %%sh  %%svg  %%sx  %%system  %%time  %%timeit  %%writefile\n",
       "\n",
       "Automagic is ON, % prefix IS NOT needed for line magics."
      ]
     },
     "execution_count": 7,
     "metadata": {},
     "output_type": "execute_result"
    }
   ],
   "source": [
    "%lsmagic   #list of magic commands"
   ]
  },
  {
   "cell_type": "markdown",
   "metadata": {},
   "source": [
    "## References and Cool Repos\n",
    "\n",
    "#### Jake Van Der Plas\n",
    "Book (Python for Data Science): https://jakevdp.github.io/PythonDataScienceHandbook/  <br>\n",
    "Code Repo on Github: https://github.com/jakevdp/PythonDataScienceHandbook/tree/master/notebooks <br>\n",
    "Youtube Seminar:  <br>\n",
    "\n",
    "\n",
    "#### Quentin Caudron\n",
    "Code Repo on Github: https://github.com/QCaudron/pydata_pandas <br>\n",
    "Youtube Seminar: https://youtu.be/F7sCL61Zqss <br>\n",
    "\n",
    "#### Practical Python\n",
    "Blog: http://pbpython.com/ <br>\n",
    "Code Repo on Github: https://github.com/chris1610/pbpython <br>\n",
    "\n"
   ]
  },
  {
   "cell_type": "markdown",
   "metadata": {},
   "source": [
    "<p><a name=\"eda\"></a></p>\n",
    "# Basic EDA\n",
    "<a href=\"#sections\">Top</a><br>\n",
    "\n",
    "__Datasets to use for practice:__ <br>\n",
    "Titanic: `titanic = sns.load_dataset('titanic')` <br>\n",
    "Tips: `tips = sns.load_dataset('tips')` <br>\n",
    "Iris: `iris = sns.load_dataset(\"iris\")` <br>\n",
    "Planets: `planets = sns.load_dataset('planets')` <br>\n",
    "<br>\n",
    "Old Finance Data: `url_adjusted = 'https://graderdata.s3.amazonaws.com/prices-split-adjusted.csv'` <br>"
   ]
  },
  {
   "cell_type": "code",
   "execution_count": 8,
   "metadata": {
    "collapsed": true
   },
   "outputs": [],
   "source": [
    "#!type titanic2.csv\n"
   ]
  },
  {
   "cell_type": "markdown",
   "metadata": {},
   "source": [
    "attributes: info, types, dtypes, shape, index, colunmns  <br>\n",
    "methods: describe(), head(), copy(), str(), apply & applymap()\n",
    "\n",
    "column-level methods: value_counts()"
   ]
  },
  {
   "cell_type": "code",
   "execution_count": 9,
   "metadata": {
    "collapsed": true
   },
   "outputs": [],
   "source": [
    "import pandas as pd\n",
    "import seaborn as sns\n",
    "titanic = sns.load_dataset('titanic')\n",
    "#titanic = pd.read_csv('titanic2.csv', sep='\\t')"
   ]
  },
  {
   "cell_type": "code",
   "execution_count": 10,
   "metadata": {
    "collapsed": true
   },
   "outputs": [],
   "source": [
    "#titanic.info"
   ]
  },
  {
   "cell_type": "code",
   "execution_count": 11,
   "metadata": {},
   "outputs": [
    {
     "name": "stderr",
     "output_type": "stream",
     "text": [
      "C:\\Users\\traveler\\Anaconda3\\envs\\py35\\lib\\site-packages\\numpy\\lib\\function_base.py:4291: RuntimeWarning: Invalid value encountered in percentile\n",
      "  interpolation=interpolation)\n"
     ]
    },
    {
     "data": {
      "text/html": [
       "<div>\n",
       "<table border=\"1\" class=\"dataframe\">\n",
       "  <thead>\n",
       "    <tr style=\"text-align: right;\">\n",
       "      <th></th>\n",
       "      <th>survived</th>\n",
       "      <th>pclass</th>\n",
       "      <th>sex</th>\n",
       "      <th>age</th>\n",
       "      <th>sibsp</th>\n",
       "      <th>parch</th>\n",
       "      <th>fare</th>\n",
       "      <th>embarked</th>\n",
       "      <th>class</th>\n",
       "      <th>who</th>\n",
       "      <th>adult_male</th>\n",
       "      <th>deck</th>\n",
       "      <th>embark_town</th>\n",
       "      <th>alive</th>\n",
       "      <th>alone</th>\n",
       "    </tr>\n",
       "  </thead>\n",
       "  <tbody>\n",
       "    <tr>\n",
       "      <th>count</th>\n",
       "      <td>891.000000</td>\n",
       "      <td>891.000000</td>\n",
       "      <td>891</td>\n",
       "      <td>714.000000</td>\n",
       "      <td>891.000000</td>\n",
       "      <td>891.000000</td>\n",
       "      <td>891.000000</td>\n",
       "      <td>889</td>\n",
       "      <td>891</td>\n",
       "      <td>891</td>\n",
       "      <td>891</td>\n",
       "      <td>203</td>\n",
       "      <td>889</td>\n",
       "      <td>891</td>\n",
       "      <td>891</td>\n",
       "    </tr>\n",
       "    <tr>\n",
       "      <th>unique</th>\n",
       "      <td>NaN</td>\n",
       "      <td>NaN</td>\n",
       "      <td>2</td>\n",
       "      <td>NaN</td>\n",
       "      <td>NaN</td>\n",
       "      <td>NaN</td>\n",
       "      <td>NaN</td>\n",
       "      <td>3</td>\n",
       "      <td>3</td>\n",
       "      <td>3</td>\n",
       "      <td>2</td>\n",
       "      <td>7</td>\n",
       "      <td>3</td>\n",
       "      <td>2</td>\n",
       "      <td>2</td>\n",
       "    </tr>\n",
       "    <tr>\n",
       "      <th>top</th>\n",
       "      <td>NaN</td>\n",
       "      <td>NaN</td>\n",
       "      <td>male</td>\n",
       "      <td>NaN</td>\n",
       "      <td>NaN</td>\n",
       "      <td>NaN</td>\n",
       "      <td>NaN</td>\n",
       "      <td>S</td>\n",
       "      <td>Third</td>\n",
       "      <td>man</td>\n",
       "      <td>True</td>\n",
       "      <td>C</td>\n",
       "      <td>Southampton</td>\n",
       "      <td>no</td>\n",
       "      <td>True</td>\n",
       "    </tr>\n",
       "    <tr>\n",
       "      <th>freq</th>\n",
       "      <td>NaN</td>\n",
       "      <td>NaN</td>\n",
       "      <td>577</td>\n",
       "      <td>NaN</td>\n",
       "      <td>NaN</td>\n",
       "      <td>NaN</td>\n",
       "      <td>NaN</td>\n",
       "      <td>644</td>\n",
       "      <td>491</td>\n",
       "      <td>537</td>\n",
       "      <td>537</td>\n",
       "      <td>59</td>\n",
       "      <td>644</td>\n",
       "      <td>549</td>\n",
       "      <td>537</td>\n",
       "    </tr>\n",
       "    <tr>\n",
       "      <th>mean</th>\n",
       "      <td>0.383838</td>\n",
       "      <td>2.308642</td>\n",
       "      <td>NaN</td>\n",
       "      <td>29.699118</td>\n",
       "      <td>0.523008</td>\n",
       "      <td>0.381594</td>\n",
       "      <td>32.204208</td>\n",
       "      <td>NaN</td>\n",
       "      <td>NaN</td>\n",
       "      <td>NaN</td>\n",
       "      <td>NaN</td>\n",
       "      <td>NaN</td>\n",
       "      <td>NaN</td>\n",
       "      <td>NaN</td>\n",
       "      <td>NaN</td>\n",
       "    </tr>\n",
       "    <tr>\n",
       "      <th>std</th>\n",
       "      <td>0.486592</td>\n",
       "      <td>0.836071</td>\n",
       "      <td>NaN</td>\n",
       "      <td>14.526497</td>\n",
       "      <td>1.102743</td>\n",
       "      <td>0.806057</td>\n",
       "      <td>49.693429</td>\n",
       "      <td>NaN</td>\n",
       "      <td>NaN</td>\n",
       "      <td>NaN</td>\n",
       "      <td>NaN</td>\n",
       "      <td>NaN</td>\n",
       "      <td>NaN</td>\n",
       "      <td>NaN</td>\n",
       "      <td>NaN</td>\n",
       "    </tr>\n",
       "    <tr>\n",
       "      <th>min</th>\n",
       "      <td>0.000000</td>\n",
       "      <td>1.000000</td>\n",
       "      <td>NaN</td>\n",
       "      <td>0.420000</td>\n",
       "      <td>0.000000</td>\n",
       "      <td>0.000000</td>\n",
       "      <td>0.000000</td>\n",
       "      <td>NaN</td>\n",
       "      <td>NaN</td>\n",
       "      <td>NaN</td>\n",
       "      <td>NaN</td>\n",
       "      <td>NaN</td>\n",
       "      <td>NaN</td>\n",
       "      <td>NaN</td>\n",
       "      <td>NaN</td>\n",
       "    </tr>\n",
       "    <tr>\n",
       "      <th>25%</th>\n",
       "      <td>0.000000</td>\n",
       "      <td>2.000000</td>\n",
       "      <td>NaN</td>\n",
       "      <td>NaN</td>\n",
       "      <td>0.000000</td>\n",
       "      <td>0.000000</td>\n",
       "      <td>7.910400</td>\n",
       "      <td>NaN</td>\n",
       "      <td>NaN</td>\n",
       "      <td>NaN</td>\n",
       "      <td>NaN</td>\n",
       "      <td>NaN</td>\n",
       "      <td>NaN</td>\n",
       "      <td>NaN</td>\n",
       "      <td>NaN</td>\n",
       "    </tr>\n",
       "    <tr>\n",
       "      <th>50%</th>\n",
       "      <td>0.000000</td>\n",
       "      <td>3.000000</td>\n",
       "      <td>NaN</td>\n",
       "      <td>NaN</td>\n",
       "      <td>0.000000</td>\n",
       "      <td>0.000000</td>\n",
       "      <td>14.454200</td>\n",
       "      <td>NaN</td>\n",
       "      <td>NaN</td>\n",
       "      <td>NaN</td>\n",
       "      <td>NaN</td>\n",
       "      <td>NaN</td>\n",
       "      <td>NaN</td>\n",
       "      <td>NaN</td>\n",
       "      <td>NaN</td>\n",
       "    </tr>\n",
       "    <tr>\n",
       "      <th>75%</th>\n",
       "      <td>1.000000</td>\n",
       "      <td>3.000000</td>\n",
       "      <td>NaN</td>\n",
       "      <td>NaN</td>\n",
       "      <td>1.000000</td>\n",
       "      <td>0.000000</td>\n",
       "      <td>31.000000</td>\n",
       "      <td>NaN</td>\n",
       "      <td>NaN</td>\n",
       "      <td>NaN</td>\n",
       "      <td>NaN</td>\n",
       "      <td>NaN</td>\n",
       "      <td>NaN</td>\n",
       "      <td>NaN</td>\n",
       "      <td>NaN</td>\n",
       "    </tr>\n",
       "    <tr>\n",
       "      <th>max</th>\n",
       "      <td>1.000000</td>\n",
       "      <td>3.000000</td>\n",
       "      <td>NaN</td>\n",
       "      <td>80.000000</td>\n",
       "      <td>8.000000</td>\n",
       "      <td>6.000000</td>\n",
       "      <td>512.329200</td>\n",
       "      <td>NaN</td>\n",
       "      <td>NaN</td>\n",
       "      <td>NaN</td>\n",
       "      <td>NaN</td>\n",
       "      <td>NaN</td>\n",
       "      <td>NaN</td>\n",
       "      <td>NaN</td>\n",
       "      <td>NaN</td>\n",
       "    </tr>\n",
       "  </tbody>\n",
       "</table>\n",
       "</div>"
      ],
      "text/plain": [
       "          survived      pclass   sex         age       sibsp       parch  \\\n",
       "count   891.000000  891.000000   891  714.000000  891.000000  891.000000   \n",
       "unique         NaN         NaN     2         NaN         NaN         NaN   \n",
       "top            NaN         NaN  male         NaN         NaN         NaN   \n",
       "freq           NaN         NaN   577         NaN         NaN         NaN   \n",
       "mean      0.383838    2.308642   NaN   29.699118    0.523008    0.381594   \n",
       "std       0.486592    0.836071   NaN   14.526497    1.102743    0.806057   \n",
       "min       0.000000    1.000000   NaN    0.420000    0.000000    0.000000   \n",
       "25%       0.000000    2.000000   NaN         NaN    0.000000    0.000000   \n",
       "50%       0.000000    3.000000   NaN         NaN    0.000000    0.000000   \n",
       "75%       1.000000    3.000000   NaN         NaN    1.000000    0.000000   \n",
       "max       1.000000    3.000000   NaN   80.000000    8.000000    6.000000   \n",
       "\n",
       "              fare embarked  class  who adult_male deck  embark_town alive  \\\n",
       "count   891.000000      889    891  891        891  203          889   891   \n",
       "unique         NaN        3      3    3          2    7            3     2   \n",
       "top            NaN        S  Third  man       True    C  Southampton    no   \n",
       "freq           NaN      644    491  537        537   59          644   549   \n",
       "mean     32.204208      NaN    NaN  NaN        NaN  NaN          NaN   NaN   \n",
       "std      49.693429      NaN    NaN  NaN        NaN  NaN          NaN   NaN   \n",
       "min       0.000000      NaN    NaN  NaN        NaN  NaN          NaN   NaN   \n",
       "25%       7.910400      NaN    NaN  NaN        NaN  NaN          NaN   NaN   \n",
       "50%      14.454200      NaN    NaN  NaN        NaN  NaN          NaN   NaN   \n",
       "75%      31.000000      NaN    NaN  NaN        NaN  NaN          NaN   NaN   \n",
       "max     512.329200      NaN    NaN  NaN        NaN  NaN          NaN   NaN   \n",
       "\n",
       "       alone  \n",
       "count    891  \n",
       "unique     2  \n",
       "top     True  \n",
       "freq     537  \n",
       "mean     NaN  \n",
       "std      NaN  \n",
       "min      NaN  \n",
       "25%      NaN  \n",
       "50%      NaN  \n",
       "75%      NaN  \n",
       "max      NaN  "
      ]
     },
     "execution_count": 11,
     "metadata": {},
     "output_type": "execute_result"
    }
   ],
   "source": [
    "titanic.describe(include ='all')"
   ]
  },
  {
   "cell_type": "code",
   "execution_count": 12,
   "metadata": {},
   "outputs": [
    {
     "data": {
      "text/plain": [
       "survived          int64\n",
       "pclass            int64\n",
       "sex              object\n",
       "age             float64\n",
       "sibsp             int64\n",
       "parch             int64\n",
       "fare            float64\n",
       "embarked         object\n",
       "class          category\n",
       "who              object\n",
       "adult_male         bool\n",
       "deck           category\n",
       "embark_town      object\n",
       "alive            object\n",
       "alone              bool\n",
       "dtype: object"
      ]
     },
     "execution_count": 12,
     "metadata": {},
     "output_type": "execute_result"
    }
   ],
   "source": [
    "titanic.dtypes"
   ]
  },
  {
   "cell_type": "code",
   "execution_count": 13,
   "metadata": {},
   "outputs": [
    {
     "data": {
      "text/plain": [
       "0    549\n",
       "1    342\n",
       "Name: survived, dtype: int64"
      ]
     },
     "execution_count": 13,
     "metadata": {},
     "output_type": "execute_result"
    }
   ],
   "source": [
    "titanic.survived.value_counts()\n",
    "# .sum, .smean"
   ]
  },
  {
   "cell_type": "code",
   "execution_count": 14,
   "metadata": {},
   "outputs": [
    {
     "data": {
      "text/html": [
       "<div>\n",
       "<table border=\"1\" class=\"dataframe\">\n",
       "  <thead>\n",
       "    <tr style=\"text-align: right;\">\n",
       "      <th></th>\n",
       "      <th>survived</th>\n",
       "      <th>pclass</th>\n",
       "      <th>sex</th>\n",
       "      <th>age</th>\n",
       "      <th>sibsp</th>\n",
       "      <th>parch</th>\n",
       "      <th>fare</th>\n",
       "      <th>embarked</th>\n",
       "      <th>class</th>\n",
       "      <th>who</th>\n",
       "      <th>adult_male</th>\n",
       "      <th>deck</th>\n",
       "      <th>embark_town</th>\n",
       "      <th>alive</th>\n",
       "      <th>alone</th>\n",
       "    </tr>\n",
       "  </thead>\n",
       "  <tbody>\n",
       "    <tr>\n",
       "      <th>0</th>\n",
       "      <td>0</td>\n",
       "      <td>3</td>\n",
       "      <td>male</td>\n",
       "      <td>22.0</td>\n",
       "      <td>1</td>\n",
       "      <td>0</td>\n",
       "      <td>7.2500</td>\n",
       "      <td>S</td>\n",
       "      <td>Third</td>\n",
       "      <td>man</td>\n",
       "      <td>True</td>\n",
       "      <td>NaN</td>\n",
       "      <td>Southampton</td>\n",
       "      <td>no</td>\n",
       "      <td>False</td>\n",
       "    </tr>\n",
       "    <tr>\n",
       "      <th>1</th>\n",
       "      <td>1</td>\n",
       "      <td>1</td>\n",
       "      <td>female</td>\n",
       "      <td>38.0</td>\n",
       "      <td>1</td>\n",
       "      <td>0</td>\n",
       "      <td>71.2833</td>\n",
       "      <td>C</td>\n",
       "      <td>First</td>\n",
       "      <td>woman</td>\n",
       "      <td>False</td>\n",
       "      <td>C</td>\n",
       "      <td>Cherbourg</td>\n",
       "      <td>yes</td>\n",
       "      <td>False</td>\n",
       "    </tr>\n",
       "    <tr>\n",
       "      <th>2</th>\n",
       "      <td>1</td>\n",
       "      <td>3</td>\n",
       "      <td>female</td>\n",
       "      <td>26.0</td>\n",
       "      <td>0</td>\n",
       "      <td>0</td>\n",
       "      <td>7.9250</td>\n",
       "      <td>S</td>\n",
       "      <td>Third</td>\n",
       "      <td>woman</td>\n",
       "      <td>False</td>\n",
       "      <td>NaN</td>\n",
       "      <td>Southampton</td>\n",
       "      <td>yes</td>\n",
       "      <td>True</td>\n",
       "    </tr>\n",
       "    <tr>\n",
       "      <th>3</th>\n",
       "      <td>1</td>\n",
       "      <td>1</td>\n",
       "      <td>female</td>\n",
       "      <td>35.0</td>\n",
       "      <td>1</td>\n",
       "      <td>0</td>\n",
       "      <td>53.1000</td>\n",
       "      <td>S</td>\n",
       "      <td>First</td>\n",
       "      <td>woman</td>\n",
       "      <td>False</td>\n",
       "      <td>C</td>\n",
       "      <td>Southampton</td>\n",
       "      <td>yes</td>\n",
       "      <td>False</td>\n",
       "    </tr>\n",
       "    <tr>\n",
       "      <th>4</th>\n",
       "      <td>0</td>\n",
       "      <td>3</td>\n",
       "      <td>male</td>\n",
       "      <td>35.0</td>\n",
       "      <td>0</td>\n",
       "      <td>0</td>\n",
       "      <td>8.0500</td>\n",
       "      <td>S</td>\n",
       "      <td>Third</td>\n",
       "      <td>man</td>\n",
       "      <td>True</td>\n",
       "      <td>NaN</td>\n",
       "      <td>Southampton</td>\n",
       "      <td>no</td>\n",
       "      <td>True</td>\n",
       "    </tr>\n",
       "  </tbody>\n",
       "</table>\n",
       "</div>"
      ],
      "text/plain": [
       "   survived  pclass     sex   age  sibsp  parch     fare embarked  class  \\\n",
       "0         0       3    male  22.0      1      0   7.2500        S  Third   \n",
       "1         1       1  female  38.0      1      0  71.2833        C  First   \n",
       "2         1       3  female  26.0      0      0   7.9250        S  Third   \n",
       "3         1       1  female  35.0      1      0  53.1000        S  First   \n",
       "4         0       3    male  35.0      0      0   8.0500        S  Third   \n",
       "\n",
       "     who adult_male deck  embark_town alive  alone  \n",
       "0    man       True  NaN  Southampton    no  False  \n",
       "1  woman      False    C    Cherbourg   yes  False  \n",
       "2  woman      False  NaN  Southampton   yes   True  \n",
       "3  woman      False    C  Southampton   yes  False  \n",
       "4    man       True  NaN  Southampton    no   True  "
      ]
     },
     "execution_count": 14,
     "metadata": {},
     "output_type": "execute_result"
    }
   ],
   "source": [
    "titanic.head()"
   ]
  },
  {
   "cell_type": "markdown",
   "metadata": {},
   "source": [
    "<p><a name=\"fin\"></a></p>\n",
    "# Financial Data: Extract/Transform/Load\n",
    "<a href=\"#sections\">Top</a><br>"
   ]
  },
  {
   "cell_type": "markdown",
   "metadata": {},
   "source": [
    "<p><a name=\"finance1\"></a></p>\n",
    "### Fetching financial data from the web"
   ]
  },
  {
   "cell_type": "markdown",
   "metadata": {},
   "source": [
    "### <font color=brown> Using 'DataReader' method </font>"
   ]
  },
  {
   "cell_type": "code",
   "execution_count": 15,
   "metadata": {
    "collapsed": true
   },
   "outputs": [],
   "source": [
    "import pandas_datareader.data as web  # replaced pandas.io.data"
   ]
  },
  {
   "cell_type": "code",
   "execution_count": 16,
   "metadata": {
    "collapsed": true
   },
   "outputs": [],
   "source": [
    "import datetime"
   ]
  },
  {
   "cell_type": "code",
   "execution_count": 17,
   "metadata": {
    "collapsed": true
   },
   "outputs": [],
   "source": [
    "#start = datetime.datetime(2018, 1, 1)\n",
    "#end = datetime.datetime(2018, 1, 27)"
   ]
  },
  {
   "cell_type": "code",
   "execution_count": 18,
   "metadata": {
    "collapsed": true
   },
   "outputs": [],
   "source": [
    "#f = web.DataReader('F', 'yahoo', '2018-01-01', '2018-03-01')"
   ]
  },
  {
   "cell_type": "code",
   "execution_count": 19,
   "metadata": {
    "collapsed": true
   },
   "outputs": [],
   "source": [
    "#f.tail()"
   ]
  },
  {
   "cell_type": "code",
   "execution_count": 20,
   "metadata": {
    "collapsed": true
   },
   "outputs": [],
   "source": [
    "#g = web.DataReader('F', 'yahoo', start, end)"
   ]
  },
  {
   "cell_type": "code",
   "execution_count": 21,
   "metadata": {
    "collapsed": true
   },
   "outputs": [],
   "source": [
    "#g.tail()"
   ]
  },
  {
   "cell_type": "code",
   "execution_count": 22,
   "metadata": {
    "collapsed": true
   },
   "outputs": [],
   "source": [
    "#tickers = [\"XLF\", \"JPM\", \"KO\"]"
   ]
  },
  {
   "cell_type": "code",
   "execution_count": 23,
   "metadata": {
    "collapsed": true
   },
   "outputs": [],
   "source": [
    "#tickers"
   ]
  },
  {
   "cell_type": "code",
   "execution_count": 24,
   "metadata": {
    "collapsed": true
   },
   "outputs": [],
   "source": [
    "#h = web.DataReader(tickers, 'yahoo', start, end)"
   ]
  },
  {
   "cell_type": "code",
   "execution_count": 25,
   "metadata": {
    "collapsed": true
   },
   "outputs": [],
   "source": [
    "#h"
   ]
  },
  {
   "cell_type": "code",
   "execution_count": 26,
   "metadata": {
    "collapsed": true
   },
   "outputs": [],
   "source": [
    "#df = h.to_frame()   #Convert from a Panel to a multi-index Dataframe"
   ]
  },
  {
   "cell_type": "code",
   "execution_count": 27,
   "metadata": {
    "collapsed": true
   },
   "outputs": [],
   "source": [
    "#df.tail()"
   ]
  },
  {
   "cell_type": "markdown",
   "metadata": {},
   "source": [
    "<p><a name=\"finance2\"></a></p>\n",
    "### <font color=brown> Yahoo via PDR and YF </font>\n",
    "<a href=\"#sections\">Top</a><br>"
   ]
  },
  {
   "cell_type": "markdown",
   "metadata": {},
   "source": [
    "For details go to: <br>\n",
    "https://pypi.python.org/pypi/fix-yahoo-finance"
   ]
  },
  {
   "cell_type": "code",
   "execution_count": 28,
   "metadata": {
    "collapsed": true
   },
   "outputs": [],
   "source": [
    "#! pip install fix_yahoo_finance --user"
   ]
  },
  {
   "cell_type": "code",
   "execution_count": 29,
   "metadata": {
    "collapsed": true
   },
   "outputs": [],
   "source": [
    "import fix_yahoo_finance as yf"
   ]
  },
  {
   "cell_type": "code",
   "execution_count": 30,
   "metadata": {
    "collapsed": true
   },
   "outputs": [],
   "source": [
    "yf.pdr_override()  # this command 'fixes' the get_data_yahoo method"
   ]
  },
  {
   "cell_type": "code",
   "execution_count": 31,
   "metadata": {},
   "outputs": [
    {
     "name": "stdout",
     "output_type": "stream",
     "text": [
      "[*********************100%***********************]  3 of 3 downloaded\n"
     ]
    }
   ],
   "source": [
    "# download history of tickerlist (returned as a Panel)\n",
    "from pandas_datareader import data as pdr\n",
    "histdata = pdr.get_data_yahoo([\"SPY\", \"TSLA\", \"EEM\"], start=\"2017-01-01\", end=\"2017-04-30\")"
   ]
  },
  {
   "cell_type": "code",
   "execution_count": 32,
   "metadata": {},
   "outputs": [
    {
     "data": {
      "text/plain": [
       "(6, 81, 3)"
      ]
     },
     "execution_count": 32,
     "metadata": {},
     "output_type": "execute_result"
    }
   ],
   "source": [
    "#type(data)\n",
    "#data.index\n",
    "histdata.shape"
   ]
  },
  {
   "cell_type": "code",
   "execution_count": 33,
   "metadata": {},
   "outputs": [
    {
     "data": {
      "text/plain": [
       "<class 'pandas.core.panel.Panel'>\n",
       "Dimensions: 6 (items) x 81 (major_axis) x 3 (minor_axis)\n",
       "Items axis: Open to Volume\n",
       "Major_axis axis: 2017-01-03 00:00:00 to 2017-04-28 00:00:00\n",
       "Minor_axis axis: EEM to TSLA"
      ]
     },
     "execution_count": 33,
     "metadata": {},
     "output_type": "execute_result"
    }
   ],
   "source": [
    "histdata   # information on 'histdata'"
   ]
  },
  {
   "cell_type": "markdown",
   "metadata": {},
   "source": [
    "### Pandas Ninjitsu on Fetched Data\n",
    "(yahoo format)"
   ]
  },
  {
   "cell_type": "code",
   "execution_count": 34,
   "metadata": {},
   "outputs": [
    {
     "data": {
      "text/plain": [
       "Date\n",
       "2017-04-25    40.200001\n",
       "2017-04-26    40.049999\n",
       "2017-04-27    40.000000\n",
       "2017-04-28    40.060001\n",
       "Name: EEM, dtype: float64"
      ]
     },
     "execution_count": 34,
     "metadata": {},
     "output_type": "execute_result"
    }
   ],
   "source": [
    "#slice the to get only AAPL close price Series\n",
    "aapl_close = histdata['Close',:,'EEM']  \n",
    "aapl_close.tail(n=4)"
   ]
  },
  {
   "cell_type": "code",
   "execution_count": 35,
   "metadata": {},
   "outputs": [
    {
     "data": {
      "text/plain": [
       "pandas.core.series.Series"
      ]
     },
     "execution_count": 35,
     "metadata": {},
     "output_type": "execute_result"
    }
   ],
   "source": [
    "type(aapl_close)  # type should be a Series"
   ]
  },
  {
   "cell_type": "code",
   "execution_count": 36,
   "metadata": {},
   "outputs": [
    {
     "data": {
      "text/plain": [
       "<matplotlib.axes._subplots.AxesSubplot at 0x11c9f9b0>"
      ]
     },
     "execution_count": 36,
     "metadata": {},
     "output_type": "execute_result"
    },
    {
     "data": {
      "image/png": "[encoded data removed]",
      "text/plain": [
       "<matplotlib.figure.Figure at 0x11c97f60>"
      ]
     },
     "metadata": {},
     "output_type": "display_data"
    }
   ],
   "source": [
    "#chart close prices of AAPL\n",
    "#chart close prices of AAPL\n",
    "%matplotlib inline    \n",
    "aapl_close.plot()   \n",
    "aapl_close.plot()   "
   ]
  },
  {
   "cell_type": "markdown",
   "metadata": {},
   "source": [
    "#### Convert histdata Panel to Multi-Index DataFrame"
   ]
  },
  {
   "cell_type": "code",
   "execution_count": 37,
   "metadata": {
    "collapsed": true
   },
   "outputs": [],
   "source": [
    "import pandas as pd"
   ]
  },
  {
   "cell_type": "code",
   "execution_count": 38,
   "metadata": {
    "collapsed": true
   },
   "outputs": [],
   "source": [
    "histdata_df = histdata.to_frame() "
   ]
  },
  {
   "cell_type": "code",
   "execution_count": 39,
   "metadata": {},
   "outputs": [
    {
     "data": {
      "text/plain": [
       "(243, 6)"
      ]
     },
     "execution_count": 39,
     "metadata": {},
     "output_type": "execute_result"
    }
   ],
   "source": [
    "histdata_df.shape"
   ]
  },
  {
   "cell_type": "code",
   "execution_count": 40,
   "metadata": {},
   "outputs": [
    {
     "data": {
      "text/plain": [
       "pandas.core.frame.DataFrame"
      ]
     },
     "execution_count": 40,
     "metadata": {},
     "output_type": "execute_result"
    }
   ],
   "source": [
    "type(histdata_df)"
   ]
  },
  {
   "cell_type": "code",
   "execution_count": 41,
   "metadata": {},
   "outputs": [
    {
     "data": {
      "text/html": [
       "<div>\n",
       "<table border=\"1\" class=\"dataframe\">\n",
       "  <thead>\n",
       "    <tr style=\"text-align: right;\">\n",
       "      <th></th>\n",
       "      <th></th>\n",
       "      <th>Open</th>\n",
       "      <th>High</th>\n",
       "      <th>Low</th>\n",
       "      <th>Close</th>\n",
       "      <th>Adj Close</th>\n",
       "      <th>Volume</th>\n",
       "    </tr>\n",
       "    <tr>\n",
       "      <th>Date</th>\n",
       "      <th>minor</th>\n",
       "      <th></th>\n",
       "      <th></th>\n",
       "      <th></th>\n",
       "      <th></th>\n",
       "      <th></th>\n",
       "      <th></th>\n",
       "    </tr>\n",
       "  </thead>\n",
       "  <tbody>\n",
       "    <tr>\n",
       "      <th rowspan=\"2\" valign=\"top\">2017-04-27</th>\n",
       "      <th>SPY</th>\n",
       "      <td>238.770004</td>\n",
       "      <td>238.949997</td>\n",
       "      <td>237.979996</td>\n",
       "      <td>238.600006</td>\n",
       "      <td>234.130295</td>\n",
       "      <td>57410300.0</td>\n",
       "    </tr>\n",
       "    <tr>\n",
       "      <th>TSLA</th>\n",
       "      <td>311.690002</td>\n",
       "      <td>313.089996</td>\n",
       "      <td>307.500000</td>\n",
       "      <td>308.630005</td>\n",
       "      <td>308.630005</td>\n",
       "      <td>3468600.0</td>\n",
       "    </tr>\n",
       "    <tr>\n",
       "      <th rowspan=\"3\" valign=\"top\">2017-04-28</th>\n",
       "      <th>EEM</th>\n",
       "      <td>40.040001</td>\n",
       "      <td>40.130001</td>\n",
       "      <td>39.930000</td>\n",
       "      <td>40.060001</td>\n",
       "      <td>39.279972</td>\n",
       "      <td>54519600.0</td>\n",
       "    </tr>\n",
       "    <tr>\n",
       "      <th>SPY</th>\n",
       "      <td>238.899994</td>\n",
       "      <td>238.929993</td>\n",
       "      <td>237.929993</td>\n",
       "      <td>238.080002</td>\n",
       "      <td>233.620026</td>\n",
       "      <td>53247400.0</td>\n",
       "    </tr>\n",
       "    <tr>\n",
       "      <th>TSLA</th>\n",
       "      <td>309.829987</td>\n",
       "      <td>314.799988</td>\n",
       "      <td>308.000000</td>\n",
       "      <td>314.070007</td>\n",
       "      <td>314.070007</td>\n",
       "      <td>4463400.0</td>\n",
       "    </tr>\n",
       "  </tbody>\n",
       "</table>\n",
       "</div>"
      ],
      "text/plain": [
       "                        Open        High         Low       Close   Adj Close  \\\n",
       "Date       minor                                                               \n",
       "2017-04-27 SPY    238.770004  238.949997  237.979996  238.600006  234.130295   \n",
       "           TSLA   311.690002  313.089996  307.500000  308.630005  308.630005   \n",
       "2017-04-28 EEM     40.040001   40.130001   39.930000   40.060001   39.279972   \n",
       "           SPY    238.899994  238.929993  237.929993  238.080002  233.620026   \n",
       "           TSLA   309.829987  314.799988  308.000000  314.070007  314.070007   \n",
       "\n",
       "                      Volume  \n",
       "Date       minor              \n",
       "2017-04-27 SPY    57410300.0  \n",
       "           TSLA    3468600.0  \n",
       "2017-04-28 EEM    54519600.0  \n",
       "           SPY    53247400.0  \n",
       "           TSLA    4463400.0  "
      ]
     },
     "execution_count": 41,
     "metadata": {},
     "output_type": "execute_result"
    }
   ],
   "source": [
    "histdata_df.tail()  #confirm it worked"
   ]
  },
  {
   "cell_type": "markdown",
   "metadata": {},
   "source": [
    "#### Convert to Multi-Index DF"
   ]
  },
  {
   "cell_type": "code",
   "execution_count": 42,
   "metadata": {
    "collapsed": true
   },
   "outputs": [],
   "source": [
    "df = histdata.to_frame()   #convert data Panel Object to Multi-Index Dataframe"
   ]
  },
  {
   "cell_type": "code",
   "execution_count": 43,
   "metadata": {
    "collapsed": true,
    "scrolled": true
   },
   "outputs": [],
   "source": [
    "#help(data.to_frame)"
   ]
  },
  {
   "cell_type": "code",
   "execution_count": 44,
   "metadata": {},
   "outputs": [
    {
     "data": {
      "text/html": [
       "<div>\n",
       "<table border=\"1\" class=\"dataframe\">\n",
       "  <thead>\n",
       "    <tr style=\"text-align: right;\">\n",
       "      <th></th>\n",
       "      <th></th>\n",
       "      <th>Open</th>\n",
       "      <th>High</th>\n",
       "      <th>Low</th>\n",
       "      <th>Close</th>\n",
       "      <th>Adj Close</th>\n",
       "      <th>Volume</th>\n",
       "    </tr>\n",
       "    <tr>\n",
       "      <th>Date</th>\n",
       "      <th>minor</th>\n",
       "      <th></th>\n",
       "      <th></th>\n",
       "      <th></th>\n",
       "      <th></th>\n",
       "      <th></th>\n",
       "      <th></th>\n",
       "    </tr>\n",
       "  </thead>\n",
       "  <tbody>\n",
       "    <tr>\n",
       "      <th>2017-04-25</th>\n",
       "      <th>TSLA</th>\n",
       "      <td>308.000000</td>\n",
       "      <td>313.980011</td>\n",
       "      <td>305.859985</td>\n",
       "      <td>313.790009</td>\n",
       "      <td>313.790009</td>\n",
       "      <td>6737700.0</td>\n",
       "    </tr>\n",
       "    <tr>\n",
       "      <th rowspan=\"3\" valign=\"top\">2017-04-26</th>\n",
       "      <th>EEM</th>\n",
       "      <td>40.130001</td>\n",
       "      <td>40.250000</td>\n",
       "      <td>40.000000</td>\n",
       "      <td>40.049999</td>\n",
       "      <td>39.270168</td>\n",
       "      <td>56452000.0</td>\n",
       "    </tr>\n",
       "    <tr>\n",
       "      <th>SPY</th>\n",
       "      <td>238.509995</td>\n",
       "      <td>239.529999</td>\n",
       "      <td>238.350006</td>\n",
       "      <td>238.399994</td>\n",
       "      <td>233.934036</td>\n",
       "      <td>84702500.0</td>\n",
       "    </tr>\n",
       "    <tr>\n",
       "      <th>TSLA</th>\n",
       "      <td>312.369995</td>\n",
       "      <td>314.500000</td>\n",
       "      <td>309.000000</td>\n",
       "      <td>310.170013</td>\n",
       "      <td>310.170013</td>\n",
       "      <td>4695000.0</td>\n",
       "    </tr>\n",
       "    <tr>\n",
       "      <th rowspan=\"3\" valign=\"top\">2017-04-27</th>\n",
       "      <th>EEM</th>\n",
       "      <td>40.130001</td>\n",
       "      <td>40.139999</td>\n",
       "      <td>39.880001</td>\n",
       "      <td>40.000000</td>\n",
       "      <td>39.221142</td>\n",
       "      <td>42298100.0</td>\n",
       "    </tr>\n",
       "    <tr>\n",
       "      <th>SPY</th>\n",
       "      <td>238.770004</td>\n",
       "      <td>238.949997</td>\n",
       "      <td>237.979996</td>\n",
       "      <td>238.600006</td>\n",
       "      <td>234.130295</td>\n",
       "      <td>57410300.0</td>\n",
       "    </tr>\n",
       "    <tr>\n",
       "      <th>TSLA</th>\n",
       "      <td>311.690002</td>\n",
       "      <td>313.089996</td>\n",
       "      <td>307.500000</td>\n",
       "      <td>308.630005</td>\n",
       "      <td>308.630005</td>\n",
       "      <td>3468600.0</td>\n",
       "    </tr>\n",
       "    <tr>\n",
       "      <th rowspan=\"3\" valign=\"top\">2017-04-28</th>\n",
       "      <th>EEM</th>\n",
       "      <td>40.040001</td>\n",
       "      <td>40.130001</td>\n",
       "      <td>39.930000</td>\n",
       "      <td>40.060001</td>\n",
       "      <td>39.279972</td>\n",
       "      <td>54519600.0</td>\n",
       "    </tr>\n",
       "    <tr>\n",
       "      <th>SPY</th>\n",
       "      <td>238.899994</td>\n",
       "      <td>238.929993</td>\n",
       "      <td>237.929993</td>\n",
       "      <td>238.080002</td>\n",
       "      <td>233.620026</td>\n",
       "      <td>53247400.0</td>\n",
       "    </tr>\n",
       "    <tr>\n",
       "      <th>TSLA</th>\n",
       "      <td>309.829987</td>\n",
       "      <td>314.799988</td>\n",
       "      <td>308.000000</td>\n",
       "      <td>314.070007</td>\n",
       "      <td>314.070007</td>\n",
       "      <td>4463400.0</td>\n",
       "    </tr>\n",
       "  </tbody>\n",
       "</table>\n",
       "</div>"
      ],
      "text/plain": [
       "                        Open        High         Low       Close   Adj Close  \\\n",
       "Date       minor                                                               \n",
       "2017-04-25 TSLA   308.000000  313.980011  305.859985  313.790009  313.790009   \n",
       "2017-04-26 EEM     40.130001   40.250000   40.000000   40.049999   39.270168   \n",
       "           SPY    238.509995  239.529999  238.350006  238.399994  233.934036   \n",
       "           TSLA   312.369995  314.500000  309.000000  310.170013  310.170013   \n",
       "2017-04-27 EEM     40.130001   40.139999   39.880001   40.000000   39.221142   \n",
       "           SPY    238.770004  238.949997  237.979996  238.600006  234.130295   \n",
       "           TSLA   311.690002  313.089996  307.500000  308.630005  308.630005   \n",
       "2017-04-28 EEM     40.040001   40.130001   39.930000   40.060001   39.279972   \n",
       "           SPY    238.899994  238.929993  237.929993  238.080002  233.620026   \n",
       "           TSLA   309.829987  314.799988  308.000000  314.070007  314.070007   \n",
       "\n",
       "                      Volume  \n",
       "Date       minor              \n",
       "2017-04-25 TSLA    6737700.0  \n",
       "2017-04-26 EEM    56452000.0  \n",
       "           SPY    84702500.0  \n",
       "           TSLA    4695000.0  \n",
       "2017-04-27 EEM    42298100.0  \n",
       "           SPY    57410300.0  \n",
       "           TSLA    3468600.0  \n",
       "2017-04-28 EEM    54519600.0  \n",
       "           SPY    53247400.0  \n",
       "           TSLA    4463400.0  "
      ]
     },
     "execution_count": 44,
     "metadata": {},
     "output_type": "execute_result"
    }
   ],
   "source": [
    "df.tail(n=10)"
   ]
  },
  {
   "cell_type": "code",
   "execution_count": 45,
   "metadata": {
    "scrolled": true
   },
   "outputs": [
    {
     "name": "stdout",
     "output_type": "stream",
     "text": [
      "(243, 6)\n",
      "<class 'pandas.core.frame.DataFrame'>\n",
      "MultiIndex: 243 entries, (2017-01-03 00:00:00, EEM) to (2017-04-28 00:00:00, TSLA)\n",
      "Data columns (total 6 columns):\n",
      "Open         243 non-null float64\n",
      "High         243 non-null float64\n",
      "Low          243 non-null float64\n",
      "Close        243 non-null float64\n",
      "Adj Close    243 non-null float64\n",
      "Volume       243 non-null float64\n",
      "dtypes: float64(6)\n",
      "memory usage: 13.3+ KB\n"
     ]
    }
   ],
   "source": [
    "print(df.shape)\n",
    "#print(df.index)\n",
    "df.info()"
   ]
  },
  {
   "cell_type": "code",
   "execution_count": 46,
   "metadata": {},
   "outputs": [
    {
     "data": {
      "text/plain": [
       "Date        minor\n",
       "2017-04-27  SPY      238.600006\n",
       "            TSLA     308.630005\n",
       "2017-04-28  EEM       40.060001\n",
       "            SPY      238.080002\n",
       "            TSLA     314.070007\n",
       "Name: Close, dtype: float64"
      ]
     },
     "execution_count": 46,
     "metadata": {},
     "output_type": "execute_result"
    }
   ],
   "source": [
    "#view 'Close' column\n",
    "# requires slice of one column from dataframe with MultiIndex\n",
    "newdf2=df['Close']\n",
    "newdf2.tail()\n",
    "\n",
    "#format is icky"
   ]
  },
  {
   "cell_type": "markdown",
   "metadata": {},
   "source": [
    "#### Slice AAPL Close Prices"
   ]
  },
  {
   "cell_type": "code",
   "execution_count": 47,
   "metadata": {},
   "outputs": [
    {
     "data": {
      "text/html": [
       "<div>\n",
       "<table border=\"1\" class=\"dataframe\">\n",
       "  <thead>\n",
       "    <tr style=\"text-align: right;\">\n",
       "      <th></th>\n",
       "      <th></th>\n",
       "      <th>Open</th>\n",
       "      <th>High</th>\n",
       "      <th>Low</th>\n",
       "      <th>Close</th>\n",
       "      <th>Adj Close</th>\n",
       "      <th>Volume</th>\n",
       "    </tr>\n",
       "    <tr>\n",
       "      <th>minor</th>\n",
       "      <th>Date</th>\n",
       "      <th></th>\n",
       "      <th></th>\n",
       "      <th></th>\n",
       "      <th></th>\n",
       "      <th></th>\n",
       "      <th></th>\n",
       "    </tr>\n",
       "  </thead>\n",
       "  <tbody>\n",
       "    <tr>\n",
       "      <th>TSLA</th>\n",
       "      <th>2017-04-24</th>\n",
       "      <td>309.220001</td>\n",
       "      <td>310.549988</td>\n",
       "      <td>306.019989</td>\n",
       "      <td>308.029999</td>\n",
       "      <td>308.029999</td>\n",
       "      <td>5083500.0</td>\n",
       "    </tr>\n",
       "    <tr>\n",
       "      <th>EEM</th>\n",
       "      <th>2017-04-25</th>\n",
       "      <td>40.139999</td>\n",
       "      <td>40.310001</td>\n",
       "      <td>40.099998</td>\n",
       "      <td>40.200001</td>\n",
       "      <td>39.417248</td>\n",
       "      <td>50957400.0</td>\n",
       "    </tr>\n",
       "    <tr>\n",
       "      <th>SPY</th>\n",
       "      <th>2017-04-25</th>\n",
       "      <td>237.910004</td>\n",
       "      <td>238.949997</td>\n",
       "      <td>237.809998</td>\n",
       "      <td>238.550003</td>\n",
       "      <td>234.081223</td>\n",
       "      <td>76698300.0</td>\n",
       "    </tr>\n",
       "    <tr>\n",
       "      <th>TSLA</th>\n",
       "      <th>2017-04-25</th>\n",
       "      <td>308.000000</td>\n",
       "      <td>313.980011</td>\n",
       "      <td>305.859985</td>\n",
       "      <td>313.790009</td>\n",
       "      <td>313.790009</td>\n",
       "      <td>6737700.0</td>\n",
       "    </tr>\n",
       "    <tr>\n",
       "      <th>EEM</th>\n",
       "      <th>2017-04-26</th>\n",
       "      <td>40.130001</td>\n",
       "      <td>40.250000</td>\n",
       "      <td>40.000000</td>\n",
       "      <td>40.049999</td>\n",
       "      <td>39.270168</td>\n",
       "      <td>56452000.0</td>\n",
       "    </tr>\n",
       "    <tr>\n",
       "      <th>SPY</th>\n",
       "      <th>2017-04-26</th>\n",
       "      <td>238.509995</td>\n",
       "      <td>239.529999</td>\n",
       "      <td>238.350006</td>\n",
       "      <td>238.399994</td>\n",
       "      <td>233.934036</td>\n",
       "      <td>84702500.0</td>\n",
       "    </tr>\n",
       "    <tr>\n",
       "      <th>TSLA</th>\n",
       "      <th>2017-04-26</th>\n",
       "      <td>312.369995</td>\n",
       "      <td>314.500000</td>\n",
       "      <td>309.000000</td>\n",
       "      <td>310.170013</td>\n",
       "      <td>310.170013</td>\n",
       "      <td>4695000.0</td>\n",
       "    </tr>\n",
       "    <tr>\n",
       "      <th>EEM</th>\n",
       "      <th>2017-04-27</th>\n",
       "      <td>40.130001</td>\n",
       "      <td>40.139999</td>\n",
       "      <td>39.880001</td>\n",
       "      <td>40.000000</td>\n",
       "      <td>39.221142</td>\n",
       "      <td>42298100.0</td>\n",
       "    </tr>\n",
       "    <tr>\n",
       "      <th>SPY</th>\n",
       "      <th>2017-04-27</th>\n",
       "      <td>238.770004</td>\n",
       "      <td>238.949997</td>\n",
       "      <td>237.979996</td>\n",
       "      <td>238.600006</td>\n",
       "      <td>234.130295</td>\n",
       "      <td>57410300.0</td>\n",
       "    </tr>\n",
       "    <tr>\n",
       "      <th>TSLA</th>\n",
       "      <th>2017-04-27</th>\n",
       "      <td>311.690002</td>\n",
       "      <td>313.089996</td>\n",
       "      <td>307.500000</td>\n",
       "      <td>308.630005</td>\n",
       "      <td>308.630005</td>\n",
       "      <td>3468600.0</td>\n",
       "    </tr>\n",
       "    <tr>\n",
       "      <th>EEM</th>\n",
       "      <th>2017-04-28</th>\n",
       "      <td>40.040001</td>\n",
       "      <td>40.130001</td>\n",
       "      <td>39.930000</td>\n",
       "      <td>40.060001</td>\n",
       "      <td>39.279972</td>\n",
       "      <td>54519600.0</td>\n",
       "    </tr>\n",
       "    <tr>\n",
       "      <th>SPY</th>\n",
       "      <th>2017-04-28</th>\n",
       "      <td>238.899994</td>\n",
       "      <td>238.929993</td>\n",
       "      <td>237.929993</td>\n",
       "      <td>238.080002</td>\n",
       "      <td>233.620026</td>\n",
       "      <td>53247400.0</td>\n",
       "    </tr>\n",
       "    <tr>\n",
       "      <th>TSLA</th>\n",
       "      <th>2017-04-28</th>\n",
       "      <td>309.829987</td>\n",
       "      <td>314.799988</td>\n",
       "      <td>308.000000</td>\n",
       "      <td>314.070007</td>\n",
       "      <td>314.070007</td>\n",
       "      <td>4463400.0</td>\n",
       "    </tr>\n",
       "  </tbody>\n",
       "</table>\n",
       "</div>"
      ],
      "text/plain": [
       "                        Open        High         Low       Close   Adj Close  \\\n",
       "minor Date                                                                     \n",
       "TSLA  2017-04-24  309.220001  310.549988  306.019989  308.029999  308.029999   \n",
       "EEM   2017-04-25   40.139999   40.310001   40.099998   40.200001   39.417248   \n",
       "SPY   2017-04-25  237.910004  238.949997  237.809998  238.550003  234.081223   \n",
       "TSLA  2017-04-25  308.000000  313.980011  305.859985  313.790009  313.790009   \n",
       "EEM   2017-04-26   40.130001   40.250000   40.000000   40.049999   39.270168   \n",
       "SPY   2017-04-26  238.509995  239.529999  238.350006  238.399994  233.934036   \n",
       "TSLA  2017-04-26  312.369995  314.500000  309.000000  310.170013  310.170013   \n",
       "EEM   2017-04-27   40.130001   40.139999   39.880001   40.000000   39.221142   \n",
       "SPY   2017-04-27  238.770004  238.949997  237.979996  238.600006  234.130295   \n",
       "TSLA  2017-04-27  311.690002  313.089996  307.500000  308.630005  308.630005   \n",
       "EEM   2017-04-28   40.040001   40.130001   39.930000   40.060001   39.279972   \n",
       "SPY   2017-04-28  238.899994  238.929993  237.929993  238.080002  233.620026   \n",
       "TSLA  2017-04-28  309.829987  314.799988  308.000000  314.070007  314.070007   \n",
       "\n",
       "                      Volume  \n",
       "minor Date                    \n",
       "TSLA  2017-04-24   5083500.0  \n",
       "EEM   2017-04-25  50957400.0  \n",
       "SPY   2017-04-25  76698300.0  \n",
       "TSLA  2017-04-25   6737700.0  \n",
       "EEM   2017-04-26  56452000.0  \n",
       "SPY   2017-04-26  84702500.0  \n",
       "TSLA  2017-04-26   4695000.0  \n",
       "EEM   2017-04-27  42298100.0  \n",
       "SPY   2017-04-27  57410300.0  \n",
       "TSLA  2017-04-27   3468600.0  \n",
       "EEM   2017-04-28  54519600.0  \n",
       "SPY   2017-04-28  53247400.0  \n",
       "TSLA  2017-04-28   4463400.0  "
      ]
     },
     "execution_count": 47,
     "metadata": {},
     "output_type": "execute_result"
    }
   ],
   "source": [
    "#first change order of hierarchical index\n",
    "newdf= df.swaplevel()\n",
    "newdf.tail(n=13)"
   ]
  },
  {
   "cell_type": "code",
   "execution_count": 48,
   "metadata": {},
   "outputs": [
    {
     "data": {
      "text/plain": [
       "Date\n",
       "2017-04-25    40.200001\n",
       "2017-04-26    40.049999\n",
       "2017-04-27    40.000000\n",
       "2017-04-28    40.060001\n",
       "Name: Close, dtype: float64"
      ]
     },
     "execution_count": 48,
     "metadata": {},
     "output_type": "execute_result"
    }
   ],
   "source": [
    "#slice on outer index and relevant column\n",
    "newdf= newdf.loc['EEM']['Close']   #'Security' 'Field' format similar to DAPI\n",
    "newdf.tail(n=4)"
   ]
  },
  {
   "cell_type": "code",
   "execution_count": 49,
   "metadata": {
    "collapsed": true
   },
   "outputs": [],
   "source": [
    "#### ALTERNATIVE METHOD\n",
    "# change DataFrame shape (widen it). Reduce the row index heirarchy\n",
    "newdf9 = df.unstack('minor')   #ungrouping 'minor' (aka tickers)"
   ]
  },
  {
   "cell_type": "code",
   "execution_count": 50,
   "metadata": {},
   "outputs": [
    {
     "data": {
      "text/html": [
       "<div>\n",
       "<table border=\"1\" class=\"dataframe\">\n",
       "  <thead>\n",
       "    <tr>\n",
       "      <th></th>\n",
       "      <th colspan=\"3\" halign=\"left\">Open</th>\n",
       "      <th colspan=\"3\" halign=\"left\">High</th>\n",
       "      <th colspan=\"3\" halign=\"left\">Low</th>\n",
       "      <th colspan=\"3\" halign=\"left\">Close</th>\n",
       "      <th colspan=\"3\" halign=\"left\">Adj Close</th>\n",
       "      <th colspan=\"3\" halign=\"left\">Volume</th>\n",
       "    </tr>\n",
       "    <tr>\n",
       "      <th>minor</th>\n",
       "      <th>EEM</th>\n",
       "      <th>SPY</th>\n",
       "      <th>TSLA</th>\n",
       "      <th>EEM</th>\n",
       "      <th>SPY</th>\n",
       "      <th>TSLA</th>\n",
       "      <th>EEM</th>\n",
       "      <th>SPY</th>\n",
       "      <th>TSLA</th>\n",
       "      <th>EEM</th>\n",
       "      <th>SPY</th>\n",
       "      <th>TSLA</th>\n",
       "      <th>EEM</th>\n",
       "      <th>SPY</th>\n",
       "      <th>TSLA</th>\n",
       "      <th>EEM</th>\n",
       "      <th>SPY</th>\n",
       "      <th>TSLA</th>\n",
       "    </tr>\n",
       "    <tr>\n",
       "      <th>Date</th>\n",
       "      <th></th>\n",
       "      <th></th>\n",
       "      <th></th>\n",
       "      <th></th>\n",
       "      <th></th>\n",
       "      <th></th>\n",
       "      <th></th>\n",
       "      <th></th>\n",
       "      <th></th>\n",
       "      <th></th>\n",
       "      <th></th>\n",
       "      <th></th>\n",
       "      <th></th>\n",
       "      <th></th>\n",
       "      <th></th>\n",
       "      <th></th>\n",
       "      <th></th>\n",
       "      <th></th>\n",
       "    </tr>\n",
       "  </thead>\n",
       "  <tbody>\n",
       "    <tr>\n",
       "      <th>2017-04-26</th>\n",
       "      <td>40.130001</td>\n",
       "      <td>238.509995</td>\n",
       "      <td>312.369995</td>\n",
       "      <td>40.250000</td>\n",
       "      <td>239.529999</td>\n",
       "      <td>314.500000</td>\n",
       "      <td>40.000000</td>\n",
       "      <td>238.350006</td>\n",
       "      <td>309.0</td>\n",
       "      <td>40.049999</td>\n",
       "      <td>238.399994</td>\n",
       "      <td>310.170013</td>\n",
       "      <td>39.270168</td>\n",
       "      <td>233.934036</td>\n",
       "      <td>310.170013</td>\n",
       "      <td>56452000.0</td>\n",
       "      <td>84702500.0</td>\n",
       "      <td>4695000.0</td>\n",
       "    </tr>\n",
       "    <tr>\n",
       "      <th>2017-04-27</th>\n",
       "      <td>40.130001</td>\n",
       "      <td>238.770004</td>\n",
       "      <td>311.690002</td>\n",
       "      <td>40.139999</td>\n",
       "      <td>238.949997</td>\n",
       "      <td>313.089996</td>\n",
       "      <td>39.880001</td>\n",
       "      <td>237.979996</td>\n",
       "      <td>307.5</td>\n",
       "      <td>40.000000</td>\n",
       "      <td>238.600006</td>\n",
       "      <td>308.630005</td>\n",
       "      <td>39.221142</td>\n",
       "      <td>234.130295</td>\n",
       "      <td>308.630005</td>\n",
       "      <td>42298100.0</td>\n",
       "      <td>57410300.0</td>\n",
       "      <td>3468600.0</td>\n",
       "    </tr>\n",
       "    <tr>\n",
       "      <th>2017-04-28</th>\n",
       "      <td>40.040001</td>\n",
       "      <td>238.899994</td>\n",
       "      <td>309.829987</td>\n",
       "      <td>40.130001</td>\n",
       "      <td>238.929993</td>\n",
       "      <td>314.799988</td>\n",
       "      <td>39.930000</td>\n",
       "      <td>237.929993</td>\n",
       "      <td>308.0</td>\n",
       "      <td>40.060001</td>\n",
       "      <td>238.080002</td>\n",
       "      <td>314.070007</td>\n",
       "      <td>39.279972</td>\n",
       "      <td>233.620026</td>\n",
       "      <td>314.070007</td>\n",
       "      <td>54519600.0</td>\n",
       "      <td>53247400.0</td>\n",
       "      <td>4463400.0</td>\n",
       "    </tr>\n",
       "  </tbody>\n",
       "</table>\n",
       "</div>"
      ],
      "text/plain": [
       "                 Open                               High              \\\n",
       "minor             EEM         SPY        TSLA        EEM         SPY   \n",
       "Date                                                                   \n",
       "2017-04-26  40.130001  238.509995  312.369995  40.250000  239.529999   \n",
       "2017-04-27  40.130001  238.770004  311.690002  40.139999  238.949997   \n",
       "2017-04-28  40.040001  238.899994  309.829987  40.130001  238.929993   \n",
       "\n",
       "                              Low                         Close              \\\n",
       "minor             TSLA        EEM         SPY   TSLA        EEM         SPY   \n",
       "Date                                                                          \n",
       "2017-04-26  314.500000  40.000000  238.350006  309.0  40.049999  238.399994   \n",
       "2017-04-27  313.089996  39.880001  237.979996  307.5  40.000000  238.600006   \n",
       "2017-04-28  314.799988  39.930000  237.929993  308.0  40.060001  238.080002   \n",
       "\n",
       "                        Adj Close                              Volume  \\\n",
       "minor             TSLA        EEM         SPY        TSLA         EEM   \n",
       "Date                                                                    \n",
       "2017-04-26  310.170013  39.270168  233.934036  310.170013  56452000.0   \n",
       "2017-04-27  308.630005  39.221142  234.130295  308.630005  42298100.0   \n",
       "2017-04-28  314.070007  39.279972  233.620026  314.070007  54519600.0   \n",
       "\n",
       "                                   \n",
       "minor              SPY       TSLA  \n",
       "Date                               \n",
       "2017-04-26  84702500.0  4695000.0  \n",
       "2017-04-27  57410300.0  3468600.0  \n",
       "2017-04-28  53247400.0  4463400.0  "
      ]
     },
     "execution_count": 50,
     "metadata": {},
     "output_type": "execute_result"
    }
   ],
   "source": [
    "newdf9.tail(n=3)"
   ]
  },
  {
   "cell_type": "code",
   "execution_count": 51,
   "metadata": {},
   "outputs": [
    {
     "name": "stdout",
     "output_type": "stream",
     "text": [
      "(81, 18)\n",
      "<class 'pandas.core.frame.DataFrame'>\n",
      "DatetimeIndex: 81 entries, 2017-01-03 to 2017-04-28\n",
      "Data columns (total 18 columns):\n",
      "(Open, EEM)          81 non-null float64\n",
      "(Open, SPY)          81 non-null float64\n",
      "(Open, TSLA)         81 non-null float64\n",
      "(High, EEM)          81 non-null float64\n",
      "(High, SPY)          81 non-null float64\n",
      "(High, TSLA)         81 non-null float64\n",
      "(Low, EEM)           81 non-null float64\n",
      "(Low, SPY)           81 non-null float64\n",
      "(Low, TSLA)          81 non-null float64\n",
      "(Close, EEM)         81 non-null float64\n",
      "(Close, SPY)         81 non-null float64\n",
      "(Close, TSLA)        81 non-null float64\n",
      "(Adj Close, EEM)     81 non-null float64\n",
      "(Adj Close, SPY)     81 non-null float64\n",
      "(Adj Close, TSLA)    81 non-null float64\n",
      "(Volume, EEM)        81 non-null float64\n",
      "(Volume, SPY)        81 non-null float64\n",
      "(Volume, TSLA)       81 non-null float64\n",
      "dtypes: float64(18)\n",
      "memory usage: 12.0 KB\n"
     ]
    }
   ],
   "source": [
    "print(newdf9.shape)\n",
    "newdf9.info()   #result is now hierarchical COLUMNS instead of INDEXES"
   ]
  },
  {
   "cell_type": "code",
   "execution_count": 52,
   "metadata": {},
   "outputs": [
    {
     "data": {
      "text/plain": [
       "Date\n",
       "2017-04-24    39.849998\n",
       "2017-04-25    40.200001\n",
       "2017-04-26    40.049999\n",
       "2017-04-27    40.000000\n",
       "2017-04-28    40.060001\n",
       "Name: EEM, dtype: float64"
      ]
     },
     "execution_count": 52,
     "metadata": {},
     "output_type": "execute_result"
    }
   ],
   "source": [
    "#now select just the column you want\n",
    "newdf9['Close']['EEM'].tail()  #order of arguments reversed from before\n"
   ]
  },
  {
   "cell_type": "code",
   "execution_count": 53,
   "metadata": {
    "collapsed": true
   },
   "outputs": [],
   "source": [
    "#df.info\n",
    "#df.columns"
   ]
  },
  {
   "cell_type": "code",
   "execution_count": 54,
   "metadata": {
    "collapsed": true
   },
   "outputs": [],
   "source": [
    "#df.dtypes   #data types of the columns"
   ]
  },
  {
   "cell_type": "code",
   "execution_count": 55,
   "metadata": {
    "collapsed": true
   },
   "outputs": [],
   "source": [
    "#df.iloc[0]\n",
    "#df['2017-04-27']"
   ]
  },
  {
   "cell_type": "markdown",
   "metadata": {},
   "source": [
    "<a href=\"#sections\">Top</a><br>\n",
    "### single security fetch"
   ]
  },
  {
   "cell_type": "code",
   "execution_count": 56,
   "metadata": {},
   "outputs": [
    {
     "name": "stdout",
     "output_type": "stream",
     "text": [
      "[*********************100%***********************]  1 of 1 downloaded\n"
     ]
    }
   ],
   "source": [
    "df = pdr.get_data_yahoo(\"SPY\", start=\"2017-01-01\", end=\"2017-04-30\")"
   ]
  },
  {
   "cell_type": "code",
   "execution_count": 57,
   "metadata": {},
   "outputs": [
    {
     "data": {
      "text/html": [
       "<div>\n",
       "<table border=\"1\" class=\"dataframe\">\n",
       "  <thead>\n",
       "    <tr style=\"text-align: right;\">\n",
       "      <th></th>\n",
       "      <th>Open</th>\n",
       "      <th>High</th>\n",
       "      <th>Low</th>\n",
       "      <th>Close</th>\n",
       "      <th>Adj Close</th>\n",
       "      <th>Volume</th>\n",
       "    </tr>\n",
       "    <tr>\n",
       "      <th>Date</th>\n",
       "      <th></th>\n",
       "      <th></th>\n",
       "      <th></th>\n",
       "      <th></th>\n",
       "      <th></th>\n",
       "      <th></th>\n",
       "    </tr>\n",
       "  </thead>\n",
       "  <tbody>\n",
       "    <tr>\n",
       "      <th>2017-01-03</th>\n",
       "      <td>225.039993</td>\n",
       "      <td>225.830002</td>\n",
       "      <td>223.880005</td>\n",
       "      <td>225.240005</td>\n",
       "      <td>220.063202</td>\n",
       "      <td>91366500</td>\n",
       "    </tr>\n",
       "    <tr>\n",
       "      <th>2017-01-04</th>\n",
       "      <td>225.619995</td>\n",
       "      <td>226.750000</td>\n",
       "      <td>225.610001</td>\n",
       "      <td>226.580002</td>\n",
       "      <td>221.372406</td>\n",
       "      <td>78744400</td>\n",
       "    </tr>\n",
       "    <tr>\n",
       "      <th>2017-01-05</th>\n",
       "      <td>226.270004</td>\n",
       "      <td>226.580002</td>\n",
       "      <td>225.479996</td>\n",
       "      <td>226.399994</td>\n",
       "      <td>221.196548</td>\n",
       "      <td>78379000</td>\n",
       "    </tr>\n",
       "    <tr>\n",
       "      <th>2017-01-06</th>\n",
       "      <td>226.529999</td>\n",
       "      <td>227.750000</td>\n",
       "      <td>225.899994</td>\n",
       "      <td>227.210007</td>\n",
       "      <td>221.987915</td>\n",
       "      <td>71559900</td>\n",
       "    </tr>\n",
       "    <tr>\n",
       "      <th>2017-01-09</th>\n",
       "      <td>226.910004</td>\n",
       "      <td>227.070007</td>\n",
       "      <td>226.419998</td>\n",
       "      <td>226.460007</td>\n",
       "      <td>221.255173</td>\n",
       "      <td>46265300</td>\n",
       "    </tr>\n",
       "  </tbody>\n",
       "</table>\n",
       "</div>"
      ],
      "text/plain": [
       "                  Open        High         Low       Close   Adj Close  \\\n",
       "Date                                                                     \n",
       "2017-01-03  225.039993  225.830002  223.880005  225.240005  220.063202   \n",
       "2017-01-04  225.619995  226.750000  225.610001  226.580002  221.372406   \n",
       "2017-01-05  226.270004  226.580002  225.479996  226.399994  221.196548   \n",
       "2017-01-06  226.529999  227.750000  225.899994  227.210007  221.987915   \n",
       "2017-01-09  226.910004  227.070007  226.419998  226.460007  221.255173   \n",
       "\n",
       "              Volume  \n",
       "Date                  \n",
       "2017-01-03  91366500  \n",
       "2017-01-04  78744400  \n",
       "2017-01-05  78379000  \n",
       "2017-01-06  71559900  \n",
       "2017-01-09  46265300  "
      ]
     },
     "execution_count": 57,
     "metadata": {},
     "output_type": "execute_result"
    }
   ],
   "source": [
    "df.head()"
   ]
  },
  {
   "cell_type": "markdown",
   "metadata": {},
   "source": [
    "<p><a name=\"finance3\"></a></p>\n",
    "### <font color=brown> Alternate Yahoo Fetch </font>\n",
    "<a href=\"#sections\">Top</a><br>"
   ]
  },
  {
   "cell_type": "code",
   "execution_count": 58,
   "metadata": {
    "collapsed": true
   },
   "outputs": [],
   "source": [
    "import fix_yahoo_finance as yf\n"
   ]
  },
  {
   "cell_type": "code",
   "execution_count": 59,
   "metadata": {},
   "outputs": [
    {
     "name": "stdout",
     "output_type": "stream",
     "text": [
      "[*********************100%***********************]  1 of 1 downloaded\n"
     ]
    }
   ],
   "source": [
    "#using yf directly  (not get_data_yahoo)\n",
    "data2 = yf.download(\"SPY\", start=\"2017-01-01\", end=\"2017-04-30\")"
   ]
  },
  {
   "cell_type": "code",
   "execution_count": 60,
   "metadata": {},
   "outputs": [
    {
     "data": {
      "text/html": [
       "<div>\n",
       "<table border=\"1\" class=\"dataframe\">\n",
       "  <thead>\n",
       "    <tr style=\"text-align: right;\">\n",
       "      <th></th>\n",
       "      <th>Open</th>\n",
       "      <th>High</th>\n",
       "      <th>Low</th>\n",
       "      <th>Close</th>\n",
       "      <th>Adj Close</th>\n",
       "      <th>Volume</th>\n",
       "    </tr>\n",
       "    <tr>\n",
       "      <th>Date</th>\n",
       "      <th></th>\n",
       "      <th></th>\n",
       "      <th></th>\n",
       "      <th></th>\n",
       "      <th></th>\n",
       "      <th></th>\n",
       "    </tr>\n",
       "  </thead>\n",
       "  <tbody>\n",
       "    <tr>\n",
       "      <th>2017-04-24</th>\n",
       "      <td>237.179993</td>\n",
       "      <td>237.410004</td>\n",
       "      <td>234.559998</td>\n",
       "      <td>237.169998</td>\n",
       "      <td>232.727081</td>\n",
       "      <td>119209900</td>\n",
       "    </tr>\n",
       "    <tr>\n",
       "      <th>2017-04-25</th>\n",
       "      <td>237.910004</td>\n",
       "      <td>238.949997</td>\n",
       "      <td>237.809998</td>\n",
       "      <td>238.550003</td>\n",
       "      <td>234.081223</td>\n",
       "      <td>76698300</td>\n",
       "    </tr>\n",
       "    <tr>\n",
       "      <th>2017-04-26</th>\n",
       "      <td>238.509995</td>\n",
       "      <td>239.529999</td>\n",
       "      <td>238.350006</td>\n",
       "      <td>238.399994</td>\n",
       "      <td>233.934036</td>\n",
       "      <td>84702500</td>\n",
       "    </tr>\n",
       "    <tr>\n",
       "      <th>2017-04-27</th>\n",
       "      <td>238.770004</td>\n",
       "      <td>238.949997</td>\n",
       "      <td>237.979996</td>\n",
       "      <td>238.600006</td>\n",
       "      <td>234.130295</td>\n",
       "      <td>57410300</td>\n",
       "    </tr>\n",
       "    <tr>\n",
       "      <th>2017-04-28</th>\n",
       "      <td>238.899994</td>\n",
       "      <td>238.929993</td>\n",
       "      <td>237.929993</td>\n",
       "      <td>238.080002</td>\n",
       "      <td>233.620026</td>\n",
       "      <td>53247400</td>\n",
       "    </tr>\n",
       "  </tbody>\n",
       "</table>\n",
       "</div>"
      ],
      "text/plain": [
       "                  Open        High         Low       Close   Adj Close  \\\n",
       "Date                                                                     \n",
       "2017-04-24  237.179993  237.410004  234.559998  237.169998  232.727081   \n",
       "2017-04-25  237.910004  238.949997  237.809998  238.550003  234.081223   \n",
       "2017-04-26  238.509995  239.529999  238.350006  238.399994  233.934036   \n",
       "2017-04-27  238.770004  238.949997  237.979996  238.600006  234.130295   \n",
       "2017-04-28  238.899994  238.929993  237.929993  238.080002  233.620026   \n",
       "\n",
       "               Volume  \n",
       "Date                   \n",
       "2017-04-24  119209900  \n",
       "2017-04-25   76698300  \n",
       "2017-04-26   84702500  \n",
       "2017-04-27   57410300  \n",
       "2017-04-28   53247400  "
      ]
     },
     "execution_count": 60,
     "metadata": {},
     "output_type": "execute_result"
    }
   ],
   "source": [
    "data2.tail()"
   ]
  },
  {
   "cell_type": "markdown",
   "metadata": {},
   "source": [
    "#### Plotting\n",
    "**Note :** `.plot()` on a `pd.Series` will plot the data against the index. On a `pd.DataFrame`, the `.plot()` method allows plotting of one column against another.\n",
    "\n",
    "By default, `.plot()` renders a line graph, but you can specify which type of plot you'd like - bar, line, histogram, area, scatter, etc..\n",
    "\n",
    "https://pandas.pydata.org/pandas-docs/stable/generated/pandas.Series.plot.html\n",
    "\n",
    "https://pandas.pydata.org/pandas-docs/stable/generated/pandas.DataFrame.plot.html"
   ]
  },
  {
   "cell_type": "code",
   "execution_count": 61,
   "metadata": {
    "collapsed": true
   },
   "outputs": [],
   "source": [
    "%matplotlib inline"
   ]
  },
  {
   "cell_type": "code",
   "execution_count": 62,
   "metadata": {},
   "outputs": [
    {
     "data": {
      "text/plain": [
       "<matplotlib.axes._subplots.AxesSubplot at 0x13f0c710>"
      ]
     },
     "execution_count": 62,
     "metadata": {},
     "output_type": "execute_result"
    },
    {
     "data": {
      "image/png": "[encoded data removed]",
      "text/plain": [
       "<matplotlib.figure.Figure at 0x11e3ab38>"
      ]
     },
     "metadata": {},
     "output_type": "display_data"
    }
   ],
   "source": [
    "#easy way to plot close prices\n",
    "data2[['Close']].plot()\n"
   ]
  },
  {
   "cell_type": "code",
   "execution_count": 63,
   "metadata": {
    "collapsed": true
   },
   "outputs": [],
   "source": [
    "#data2.plot.line('Date','Close')"
   ]
  },
  {
   "cell_type": "code",
   "execution_count": 64,
   "metadata": {},
   "outputs": [
    {
     "data": {
      "text/plain": [
       "<matplotlib.text.Text at 0x14003748>"
      ]
     },
     "execution_count": 64,
     "metadata": {},
     "output_type": "execute_result"
    },
    {
     "data": {
      "image/png": "[encoded data removed]",
      "text/plain": [
       "<matplotlib.figure.Figure at 0x13fb4e48>"
      ]
     },
     "metadata": {},
     "output_type": "display_data"
    }
   ],
   "source": [
    "# verbose way to plot\n",
    "data3 =data2[['Close']]  #standalone dataframe\n",
    "my_plot = data3.plot(figsize=(9, 7))\n",
    "my_plot.set_xlabel(\"Date\")\n",
    "my_plot.set_ylabel(\"Price\")\n",
    "my_plot.set_title('Line Chart of Close Prices')"
   ]
  },
  {
   "cell_type": "code",
   "execution_count": 65,
   "metadata": {
    "collapsed": true
   },
   "outputs": [],
   "source": [
    "#import pandas as pd"
   ]
  },
  {
   "cell_type": "markdown",
   "metadata": {},
   "source": [
    "<p><a name=\"finance4\"></a></p>\n",
    "### <font color=brown> Using Quandl </font>\n",
    "<a href=\"#sections\">Top</a><br>"
   ]
  },
  {
   "cell_type": "code",
   "execution_count": 66,
   "metadata": {
    "collapsed": true
   },
   "outputs": [],
   "source": [
    "import pandas_datareader.data as web"
   ]
  },
  {
   "cell_type": "code",
   "execution_count": 67,
   "metadata": {
    "collapsed": true
   },
   "outputs": [],
   "source": [
    "symbol = 'WIKI/AAPL'  # or 'AAPL.US'"
   ]
  },
  {
   "cell_type": "markdown",
   "metadata": {},
   "source": [
    "#### Quandl requires an account\n",
    "Quandl API Key: 1L88V8U-ex4nP21iCXpV"
   ]
  },
  {
   "cell_type": "code",
   "execution_count": 68,
   "metadata": {
    "collapsed": true
   },
   "outputs": [],
   "source": [
    "key = '1L88V8U-ex4nP21iCXpV'\n",
    "df = web.DataReader(symbol, 'quandl', '2018-01-01', '2018-01-05', access_key=key)"
   ]
  },
  {
   "cell_type": "code",
   "execution_count": 69,
   "metadata": {
    "scrolled": true
   },
   "outputs": [
    {
     "data": {
      "text/html": [
       "<div>\n",
       "<table border=\"1\" class=\"dataframe\">\n",
       "  <thead>\n",
       "    <tr style=\"text-align: right;\">\n",
       "      <th></th>\n",
       "      <th>Open</th>\n",
       "      <th>High</th>\n",
       "      <th>Low</th>\n",
       "      <th>Close</th>\n",
       "      <th>Volume</th>\n",
       "      <th>ExDividend</th>\n",
       "      <th>SplitRatio</th>\n",
       "      <th>AdjOpen</th>\n",
       "      <th>AdjHigh</th>\n",
       "      <th>AdjLow</th>\n",
       "      <th>AdjClose</th>\n",
       "      <th>AdjVolume</th>\n",
       "    </tr>\n",
       "    <tr>\n",
       "      <th>Date</th>\n",
       "      <th></th>\n",
       "      <th></th>\n",
       "      <th></th>\n",
       "      <th></th>\n",
       "      <th></th>\n",
       "      <th></th>\n",
       "      <th></th>\n",
       "      <th></th>\n",
       "      <th></th>\n",
       "      <th></th>\n",
       "      <th></th>\n",
       "      <th></th>\n",
       "    </tr>\n",
       "  </thead>\n",
       "  <tbody>\n",
       "    <tr>\n",
       "      <th>2018-01-05</th>\n",
       "      <td>173.44</td>\n",
       "      <td>175.37</td>\n",
       "      <td>173.05</td>\n",
       "      <td>175.00</td>\n",
       "      <td>23016177.0</td>\n",
       "      <td>0.0</td>\n",
       "      <td>1.0</td>\n",
       "      <td>173.44</td>\n",
       "      <td>175.37</td>\n",
       "      <td>173.05</td>\n",
       "      <td>175.00</td>\n",
       "      <td>23016177.0</td>\n",
       "    </tr>\n",
       "    <tr>\n",
       "      <th>2018-01-04</th>\n",
       "      <td>172.54</td>\n",
       "      <td>173.47</td>\n",
       "      <td>172.08</td>\n",
       "      <td>173.03</td>\n",
       "      <td>22211345.0</td>\n",
       "      <td>0.0</td>\n",
       "      <td>1.0</td>\n",
       "      <td>172.54</td>\n",
       "      <td>173.47</td>\n",
       "      <td>172.08</td>\n",
       "      <td>173.03</td>\n",
       "      <td>22211345.0</td>\n",
       "    </tr>\n",
       "    <tr>\n",
       "      <th>2018-01-03</th>\n",
       "      <td>172.53</td>\n",
       "      <td>174.55</td>\n",
       "      <td>171.96</td>\n",
       "      <td>172.23</td>\n",
       "      <td>28819653.0</td>\n",
       "      <td>0.0</td>\n",
       "      <td>1.0</td>\n",
       "      <td>172.53</td>\n",
       "      <td>174.55</td>\n",
       "      <td>171.96</td>\n",
       "      <td>172.23</td>\n",
       "      <td>28819653.0</td>\n",
       "    </tr>\n",
       "    <tr>\n",
       "      <th>2018-01-02</th>\n",
       "      <td>170.16</td>\n",
       "      <td>172.30</td>\n",
       "      <td>169.26</td>\n",
       "      <td>172.26</td>\n",
       "      <td>25048048.0</td>\n",
       "      <td>0.0</td>\n",
       "      <td>1.0</td>\n",
       "      <td>170.16</td>\n",
       "      <td>172.30</td>\n",
       "      <td>169.26</td>\n",
       "      <td>172.26</td>\n",
       "      <td>25048048.0</td>\n",
       "    </tr>\n",
       "  </tbody>\n",
       "</table>\n",
       "</div>"
      ],
      "text/plain": [
       "              Open    High     Low   Close      Volume  ExDividend  \\\n",
       "Date                                                                 \n",
       "2018-01-05  173.44  175.37  173.05  175.00  23016177.0         0.0   \n",
       "2018-01-04  172.54  173.47  172.08  173.03  22211345.0         0.0   \n",
       "2018-01-03  172.53  174.55  171.96  172.23  28819653.0         0.0   \n",
       "2018-01-02  170.16  172.30  169.26  172.26  25048048.0         0.0   \n",
       "\n",
       "            SplitRatio  AdjOpen  AdjHigh  AdjLow  AdjClose   AdjVolume  \n",
       "Date                                                                    \n",
       "2018-01-05         1.0   173.44   175.37  173.05    175.00  23016177.0  \n",
       "2018-01-04         1.0   172.54   173.47  172.08    173.03  22211345.0  \n",
       "2018-01-03         1.0   172.53   174.55  171.96    172.23  28819653.0  \n",
       "2018-01-02         1.0   170.16   172.30  169.26    172.26  25048048.0  "
      ]
     },
     "execution_count": 69,
     "metadata": {},
     "output_type": "execute_result"
    }
   ],
   "source": [
    "df.tail()"
   ]
  },
  {
   "cell_type": "markdown",
   "metadata": {},
   "source": [
    "## <font color=brown> Other Finance Sources & Libraries </font>"
   ]
  },
  {
   "cell_type": "code",
   "execution_count": null,
   "metadata": {
    "collapsed": true
   },
   "outputs": [],
   "source": []
  },
  {
   "cell_type": "markdown",
   "metadata": {},
   "source": [
    "<p><a name=\"finance5\"></a></p>\n",
    "\n",
    "## <font color=brown> Bloomberg Interaction </font>\n",
    "<a href=\"#sections\">Top</a><br>"
   ]
  },
  {
   "cell_type": "markdown",
   "metadata": {},
   "source": [
    "__INSTRUCTIONS FOR INSTALLING THE LIBRARY__\n",
    "1. https://www.bloomberg.com/professional/support/api-library/\n",
    "- download the Python Supported Release\n",
    "\n",
    "2. go to command line and run: pip install pdblp"
   ]
  },
  {
   "cell_type": "code",
   "execution_count": 1,
   "metadata": {
    "collapsed": true
   },
   "outputs": [],
   "source": [
    "import pdblp   #pandas wrapper to Bloomberg API"
   ]
  },
  {
   "cell_type": "code",
   "execution_count": 2,
   "metadata": {
    "collapsed": true
   },
   "outputs": [],
   "source": [
    "import pandas as pd"
   ]
  },
  {
   "cell_type": "code",
   "execution_count": 3,
   "metadata": {},
   "outputs": [],
   "source": [
    "con = pdblp.BCon(debug=True, port=8194)\n",
    "con.start()\n",
    "con.debug = False"
   ]
  },
  {
   "cell_type": "code",
   "execution_count": 4,
   "metadata": {
    "collapsed": true
   },
   "outputs": [],
   "source": [
    "#historical data via 'bdh'\n",
    "tickers = ['SPY US Equity', 'FB US Equity', 'EEM US Equity']\n",
    "fields = ['PX_LAST', 'VOLUME', 'VL158']\n",
    "start = '20170101'\n",
    "end = '20180430'"
   ]
  },
  {
   "cell_type": "code",
   "execution_count": 5,
   "metadata": {
    "collapsed": true
   },
   "outputs": [],
   "source": [
    "#response = con.bdh(['SPY US Equity', 'QCOM US Equity'], ['PX_LAST', 'VOLUME'], '20180101', '20180228')\n",
    "response = con.bdh(tickers, fields, start, end)\n",
    "#print(response)"
   ]
  },
  {
   "cell_type": "code",
   "execution_count": 6,
   "metadata": {},
   "outputs": [
    {
     "data": {
      "text/plain": [
       "pandas.core.frame.DataFrame"
      ]
     },
     "execution_count": 6,
     "metadata": {},
     "output_type": "execute_result"
    }
   ],
   "source": [
    "type(response)"
   ]
  },
  {
   "cell_type": "code",
   "execution_count": 7,
   "metadata": {},
   "outputs": [
    {
     "data": {
      "text/html": [
       "<div>\n",
       "<table border=\"1\" class=\"dataframe\">\n",
       "  <thead>\n",
       "    <tr>\n",
       "      <th>ticker</th>\n",
       "      <th colspan=\"3\" halign=\"left\">SPY US Equity</th>\n",
       "      <th colspan=\"3\" halign=\"left\">FB US Equity</th>\n",
       "      <th colspan=\"3\" halign=\"left\">EEM US Equity</th>\n",
       "    </tr>\n",
       "    <tr>\n",
       "      <th>field</th>\n",
       "      <th>PX_LAST</th>\n",
       "      <th>VOLUME</th>\n",
       "      <th>VL158</th>\n",
       "      <th>PX_LAST</th>\n",
       "      <th>VOLUME</th>\n",
       "      <th>VL158</th>\n",
       "      <th>PX_LAST</th>\n",
       "      <th>VOLUME</th>\n",
       "      <th>VL158</th>\n",
       "    </tr>\n",
       "  </thead>\n",
       "  <tbody>\n",
       "    <tr>\n",
       "      <th>count</th>\n",
       "      <td>333.000000</td>\n",
       "      <td>3.330000e+02</td>\n",
       "      <td>333.000000</td>\n",
       "      <td>333.000000</td>\n",
       "      <td>3.330000e+02</td>\n",
       "      <td>333.000000</td>\n",
       "      <td>333.000000</td>\n",
       "      <td>3.330000e+02</td>\n",
       "      <td>333.000000</td>\n",
       "    </tr>\n",
       "    <tr>\n",
       "      <th>mean</th>\n",
       "      <td>251.139429</td>\n",
       "      <td>8.093277e+07</td>\n",
       "      <td>11.369994</td>\n",
       "      <td>161.241021</td>\n",
       "      <td>2.094310e+07</td>\n",
       "      <td>25.041864</td>\n",
       "      <td>43.829174</td>\n",
       "      <td>5.634355e+07</td>\n",
       "      <td>17.020279</td>\n",
       "    </tr>\n",
       "    <tr>\n",
       "      <th>std</th>\n",
       "      <td>15.157127</td>\n",
       "      <td>3.776331e+07</td>\n",
       "      <td>2.422759</td>\n",
       "      <td>17.950038</td>\n",
       "      <td>1.554921e+07</td>\n",
       "      <td>3.079882</td>\n",
       "      <td>4.029793</td>\n",
       "      <td>2.282030e+07</td>\n",
       "      <td>2.290228</td>\n",
       "    </tr>\n",
       "    <tr>\n",
       "      <th>min</th>\n",
       "      <td>225.240000</td>\n",
       "      <td>2.785651e+07</td>\n",
       "      <td>8.390600</td>\n",
       "      <td>116.860000</td>\n",
       "      <td>8.190273e+06</td>\n",
       "      <td>19.235200</td>\n",
       "      <td>35.430000</td>\n",
       "      <td>2.379111e+07</td>\n",
       "      <td>14.017900</td>\n",
       "    </tr>\n",
       "    <tr>\n",
       "      <th>25%</th>\n",
       "      <td>238.680000</td>\n",
       "      <td>5.741033e+07</td>\n",
       "      <td>9.697500</td>\n",
       "      <td>148.070000</td>\n",
       "      <td>1.295401e+07</td>\n",
       "      <td>23.065000</td>\n",
       "      <td>40.200000</td>\n",
       "      <td>4.117102e+07</td>\n",
       "      <td>15.364300</td>\n",
       "    </tr>\n",
       "    <tr>\n",
       "      <th>50%</th>\n",
       "      <td>247.410000</td>\n",
       "      <td>7.192479e+07</td>\n",
       "      <td>10.630800</td>\n",
       "      <td>166.360000</td>\n",
       "      <td>1.637121e+07</td>\n",
       "      <td>24.444900</td>\n",
       "      <td>44.610000</td>\n",
       "      <td>5.148697e+07</td>\n",
       "      <td>16.230600</td>\n",
       "    </tr>\n",
       "    <tr>\n",
       "      <th>75%</th>\n",
       "      <td>264.140000</td>\n",
       "      <td>9.179602e+07</td>\n",
       "      <td>11.933300</td>\n",
       "      <td>176.460000</td>\n",
       "      <td>2.120492e+07</td>\n",
       "      <td>26.154900</td>\n",
       "      <td>46.900000</td>\n",
       "      <td>6.586346e+07</td>\n",
       "      <td>18.175000</td>\n",
       "    </tr>\n",
       "    <tr>\n",
       "      <th>max</th>\n",
       "      <td>286.580000</td>\n",
       "      <td>3.550268e+08</td>\n",
       "      <td>22.411600</td>\n",
       "      <td>193.090000</td>\n",
       "      <td>1.298518e+08</td>\n",
       "      <td>37.065200</td>\n",
       "      <td>52.080000</td>\n",
       "      <td>1.836503e+08</td>\n",
       "      <td>25.731700</td>\n",
       "    </tr>\n",
       "  </tbody>\n",
       "</table>\n",
       "</div>"
      ],
      "text/plain": [
       "ticker SPY US Equity                           FB US Equity                \\\n",
       "field        PX_LAST        VOLUME       VL158      PX_LAST        VOLUME   \n",
       "count     333.000000  3.330000e+02  333.000000   333.000000  3.330000e+02   \n",
       "mean      251.139429  8.093277e+07   11.369994   161.241021  2.094310e+07   \n",
       "std        15.157127  3.776331e+07    2.422759    17.950038  1.554921e+07   \n",
       "min       225.240000  2.785651e+07    8.390600   116.860000  8.190273e+06   \n",
       "25%       238.680000  5.741033e+07    9.697500   148.070000  1.295401e+07   \n",
       "50%       247.410000  7.192479e+07   10.630800   166.360000  1.637121e+07   \n",
       "75%       264.140000  9.179602e+07   11.933300   176.460000  2.120492e+07   \n",
       "max       286.580000  3.550268e+08   22.411600   193.090000  1.298518e+08   \n",
       "\n",
       "ticker             EEM US Equity                            \n",
       "field        VL158       PX_LAST        VOLUME       VL158  \n",
       "count   333.000000    333.000000  3.330000e+02  333.000000  \n",
       "mean     25.041864     43.829174  5.634355e+07   17.020279  \n",
       "std       3.079882      4.029793  2.282030e+07    2.290228  \n",
       "min      19.235200     35.430000  2.379111e+07   14.017900  \n",
       "25%      23.065000     40.200000  4.117102e+07   15.364300  \n",
       "50%      24.444900     44.610000  5.148697e+07   16.230600  \n",
       "75%      26.154900     46.900000  6.586346e+07   18.175000  \n",
       "max      37.065200     52.080000  1.836503e+08   25.731700  "
      ]
     },
     "execution_count": 7,
     "metadata": {},
     "output_type": "execute_result"
    }
   ],
   "source": [
    "response.describe()"
   ]
  },
  {
   "cell_type": "code",
   "execution_count": 8,
   "metadata": {},
   "outputs": [
    {
     "data": {
      "text/html": [
       "<div>\n",
       "<table border=\"1\" class=\"dataframe\">\n",
       "  <thead>\n",
       "    <tr>\n",
       "      <th>ticker</th>\n",
       "      <th colspan=\"3\" halign=\"left\">SPY US Equity</th>\n",
       "      <th colspan=\"3\" halign=\"left\">FB US Equity</th>\n",
       "      <th colspan=\"3\" halign=\"left\">EEM US Equity</th>\n",
       "    </tr>\n",
       "    <tr>\n",
       "      <th>field</th>\n",
       "      <th>PX_LAST</th>\n",
       "      <th>VOLUME</th>\n",
       "      <th>VL158</th>\n",
       "      <th>PX_LAST</th>\n",
       "      <th>VOLUME</th>\n",
       "      <th>VL158</th>\n",
       "      <th>PX_LAST</th>\n",
       "      <th>VOLUME</th>\n",
       "      <th>VL158</th>\n",
       "    </tr>\n",
       "    <tr>\n",
       "      <th>date</th>\n",
       "      <th></th>\n",
       "      <th></th>\n",
       "      <th></th>\n",
       "      <th></th>\n",
       "      <th></th>\n",
       "      <th></th>\n",
       "      <th></th>\n",
       "      <th></th>\n",
       "      <th></th>\n",
       "    </tr>\n",
       "  </thead>\n",
       "  <tbody>\n",
       "    <tr>\n",
       "      <th>2017-01-03</th>\n",
       "      <td>225.24</td>\n",
       "      <td>91366522.0</td>\n",
       "      <td>12.6489</td>\n",
       "      <td>116.86</td>\n",
       "      <td>20663912.0</td>\n",
       "      <td>27.5824</td>\n",
       "      <td>35.43</td>\n",
       "      <td>64483744.0</td>\n",
       "      <td>20.3693</td>\n",
       "    </tr>\n",
       "    <tr>\n",
       "      <th>2017-01-04</th>\n",
       "      <td>226.58</td>\n",
       "      <td>78744433.0</td>\n",
       "      <td>11.9513</td>\n",
       "      <td>118.69</td>\n",
       "      <td>19630932.0</td>\n",
       "      <td>26.3841</td>\n",
       "      <td>35.70</td>\n",
       "      <td>83072622.0</td>\n",
       "      <td>19.6414</td>\n",
       "    </tr>\n",
       "    <tr>\n",
       "      <th>2017-01-05</th>\n",
       "      <td>226.40</td>\n",
       "      <td>78379012.0</td>\n",
       "      <td>11.8749</td>\n",
       "      <td>120.67</td>\n",
       "      <td>19492150.0</td>\n",
       "      <td>26.3783</td>\n",
       "      <td>36.09</td>\n",
       "      <td>60303238.0</td>\n",
       "      <td>19.5214</td>\n",
       "    </tr>\n",
       "    <tr>\n",
       "      <th>2017-01-06</th>\n",
       "      <td>227.21</td>\n",
       "      <td>71559922.0</td>\n",
       "      <td>11.7152</td>\n",
       "      <td>123.41</td>\n",
       "      <td>28545263.0</td>\n",
       "      <td>26.0426</td>\n",
       "      <td>35.94</td>\n",
       "      <td>33132170.0</td>\n",
       "      <td>19.0745</td>\n",
       "    </tr>\n",
       "    <tr>\n",
       "      <th>2017-01-09</th>\n",
       "      <td>226.46</td>\n",
       "      <td>46939676.0</td>\n",
       "      <td>11.8828</td>\n",
       "      <td>124.90</td>\n",
       "      <td>22880360.0</td>\n",
       "      <td>26.1749</td>\n",
       "      <td>35.91</td>\n",
       "      <td>33950788.0</td>\n",
       "      <td>18.9375</td>\n",
       "    </tr>\n",
       "    <tr>\n",
       "      <th>2017-01-10</th>\n",
       "      <td>226.46</td>\n",
       "      <td>63771939.0</td>\n",
       "      <td>11.9427</td>\n",
       "      <td>124.35</td>\n",
       "      <td>17324590.0</td>\n",
       "      <td>26.2026</td>\n",
       "      <td>36.12</td>\n",
       "      <td>46621738.0</td>\n",
       "      <td>19.6006</td>\n",
       "    </tr>\n",
       "    <tr>\n",
       "      <th>2017-01-11</th>\n",
       "      <td>227.10</td>\n",
       "      <td>74650016.0</td>\n",
       "      <td>11.8075</td>\n",
       "      <td>126.09</td>\n",
       "      <td>18356523.0</td>\n",
       "      <td>25.8216</td>\n",
       "      <td>36.55</td>\n",
       "      <td>92509308.0</td>\n",
       "      <td>19.2050</td>\n",
       "    </tr>\n",
       "    <tr>\n",
       "      <th>2017-01-12</th>\n",
       "      <td>226.53</td>\n",
       "      <td>72113181.0</td>\n",
       "      <td>11.7974</td>\n",
       "      <td>126.62</td>\n",
       "      <td>18653914.0</td>\n",
       "      <td>25.8879</td>\n",
       "      <td>36.71</td>\n",
       "      <td>38318130.0</td>\n",
       "      <td>19.3000</td>\n",
       "    </tr>\n",
       "    <tr>\n",
       "      <th>2017-01-13</th>\n",
       "      <td>227.05</td>\n",
       "      <td>62717865.0</td>\n",
       "      <td>11.5742</td>\n",
       "      <td>128.34</td>\n",
       "      <td>24884325.0</td>\n",
       "      <td>25.4699</td>\n",
       "      <td>36.68</td>\n",
       "      <td>35241962.0</td>\n",
       "      <td>18.8793</td>\n",
       "    </tr>\n",
       "    <tr>\n",
       "      <th>2017-01-17</th>\n",
       "      <td>226.25</td>\n",
       "      <td>61240814.0</td>\n",
       "      <td>11.7180</td>\n",
       "      <td>127.87</td>\n",
       "      <td>15294460.0</td>\n",
       "      <td>25.8453</td>\n",
       "      <td>36.66</td>\n",
       "      <td>38367034.0</td>\n",
       "      <td>18.9365</td>\n",
       "    </tr>\n",
       "    <tr>\n",
       "      <th>2017-01-18</th>\n",
       "      <td>226.75</td>\n",
       "      <td>54793302.0</td>\n",
       "      <td>11.6039</td>\n",
       "      <td>127.92</td>\n",
       "      <td>13145852.0</td>\n",
       "      <td>25.1483</td>\n",
       "      <td>36.46</td>\n",
       "      <td>37054165.0</td>\n",
       "      <td>18.5437</td>\n",
       "    </tr>\n",
       "    <tr>\n",
       "      <th>2017-01-19</th>\n",
       "      <td>225.91</td>\n",
       "      <td>66608787.0</td>\n",
       "      <td>11.7508</td>\n",
       "      <td>127.55</td>\n",
       "      <td>12195465.0</td>\n",
       "      <td>25.1867</td>\n",
       "      <td>36.35</td>\n",
       "      <td>52877043.0</td>\n",
       "      <td>18.9447</td>\n",
       "    </tr>\n",
       "  </tbody>\n",
       "</table>\n",
       "</div>"
      ],
      "text/plain": [
       "ticker     SPY US Equity                      FB US Equity              \\\n",
       "field            PX_LAST      VOLUME    VL158      PX_LAST      VOLUME   \n",
       "date                                                                     \n",
       "2017-01-03        225.24  91366522.0  12.6489       116.86  20663912.0   \n",
       "2017-01-04        226.58  78744433.0  11.9513       118.69  19630932.0   \n",
       "2017-01-05        226.40  78379012.0  11.8749       120.67  19492150.0   \n",
       "2017-01-06        227.21  71559922.0  11.7152       123.41  28545263.0   \n",
       "2017-01-09        226.46  46939676.0  11.8828       124.90  22880360.0   \n",
       "2017-01-10        226.46  63771939.0  11.9427       124.35  17324590.0   \n",
       "2017-01-11        227.10  74650016.0  11.8075       126.09  18356523.0   \n",
       "2017-01-12        226.53  72113181.0  11.7974       126.62  18653914.0   \n",
       "2017-01-13        227.05  62717865.0  11.5742       128.34  24884325.0   \n",
       "2017-01-17        226.25  61240814.0  11.7180       127.87  15294460.0   \n",
       "2017-01-18        226.75  54793302.0  11.6039       127.92  13145852.0   \n",
       "2017-01-19        225.91  66608787.0  11.7508       127.55  12195465.0   \n",
       "\n",
       "ticker              EEM US Equity                       \n",
       "field         VL158       PX_LAST      VOLUME    VL158  \n",
       "date                                                    \n",
       "2017-01-03  27.5824         35.43  64483744.0  20.3693  \n",
       "2017-01-04  26.3841         35.70  83072622.0  19.6414  \n",
       "2017-01-05  26.3783         36.09  60303238.0  19.5214  \n",
       "2017-01-06  26.0426         35.94  33132170.0  19.0745  \n",
       "2017-01-09  26.1749         35.91  33950788.0  18.9375  \n",
       "2017-01-10  26.2026         36.12  46621738.0  19.6006  \n",
       "2017-01-11  25.8216         36.55  92509308.0  19.2050  \n",
       "2017-01-12  25.8879         36.71  38318130.0  19.3000  \n",
       "2017-01-13  25.4699         36.68  35241962.0  18.8793  \n",
       "2017-01-17  25.8453         36.66  38367034.0  18.9365  \n",
       "2017-01-18  25.1483         36.46  37054165.0  18.5437  \n",
       "2017-01-19  25.1867         36.35  52877043.0  18.9447  "
      ]
     },
     "execution_count": 8,
     "metadata": {},
     "output_type": "execute_result"
    }
   ],
   "source": [
    "response.head(n=12)"
   ]
  },
  {
   "cell_type": "code",
   "execution_count": 9,
   "metadata": {},
   "outputs": [
    {
     "data": {
      "text/plain": [
       "[('SPY US Equity', 'PX_LAST'),\n",
       " ('SPY US Equity', 'VOLUME'),\n",
       " ('SPY US Equity', 'VL158'),\n",
       " ('FB US Equity', 'PX_LAST'),\n",
       " ('FB US Equity', 'VOLUME'),\n",
       " ('FB US Equity', 'VL158'),\n",
       " ('EEM US Equity', 'PX_LAST'),\n",
       " ('EEM US Equity', 'VOLUME'),\n",
       " ('EEM US Equity', 'VL158')]"
      ]
     },
     "execution_count": 9,
     "metadata": {},
     "output_type": "execute_result"
    }
   ],
   "source": [
    "list(response.columns) #format for columns"
   ]
  },
  {
   "cell_type": "markdown",
   "metadata": {},
   "source": [
    "### Pandas Ninjitsu On Fetched Data\n",
    "(Bloomberg Format)"
   ]
  },
  {
   "cell_type": "markdown",
   "metadata": {},
   "source": [
    "### Slice by Date"
   ]
  },
  {
   "cell_type": "code",
   "execution_count": 10,
   "metadata": {},
   "outputs": [
    {
     "data": {
      "text/html": [
       "<div>\n",
       "<table border=\"1\" class=\"dataframe\">\n",
       "  <thead>\n",
       "    <tr>\n",
       "      <th>ticker</th>\n",
       "      <th colspan=\"3\" halign=\"left\">SPY US Equity</th>\n",
       "      <th colspan=\"3\" halign=\"left\">FB US Equity</th>\n",
       "      <th colspan=\"3\" halign=\"left\">EEM US Equity</th>\n",
       "    </tr>\n",
       "    <tr>\n",
       "      <th>field</th>\n",
       "      <th>PX_LAST</th>\n",
       "      <th>VOLUME</th>\n",
       "      <th>VL158</th>\n",
       "      <th>PX_LAST</th>\n",
       "      <th>VOLUME</th>\n",
       "      <th>VL158</th>\n",
       "      <th>PX_LAST</th>\n",
       "      <th>VOLUME</th>\n",
       "      <th>VL158</th>\n",
       "    </tr>\n",
       "    <tr>\n",
       "      <th>date</th>\n",
       "      <th></th>\n",
       "      <th></th>\n",
       "      <th></th>\n",
       "      <th></th>\n",
       "      <th></th>\n",
       "      <th></th>\n",
       "      <th></th>\n",
       "      <th></th>\n",
       "      <th></th>\n",
       "    </tr>\n",
       "  </thead>\n",
       "  <tbody>\n",
       "    <tr>\n",
       "      <th>2018-02-05</th>\n",
       "      <td>263.93</td>\n",
       "      <td>294681816.0</td>\n",
       "      <td>21.6878</td>\n",
       "      <td>181.26</td>\n",
       "      <td>33128206.0</td>\n",
       "      <td>31.4903</td>\n",
       "      <td>47.33</td>\n",
       "      <td>151202055.0</td>\n",
       "      <td>23.9446</td>\n",
       "    </tr>\n",
       "    <tr>\n",
       "      <th>2018-02-06</th>\n",
       "      <td>269.13</td>\n",
       "      <td>355026782.0</td>\n",
       "      <td>16.9463</td>\n",
       "      <td>185.31</td>\n",
       "      <td>37758505.0</td>\n",
       "      <td>29.6799</td>\n",
       "      <td>48.87</td>\n",
       "      <td>183650323.0</td>\n",
       "      <td>21.2745</td>\n",
       "    </tr>\n",
       "    <tr>\n",
       "      <th>2018-02-07</th>\n",
       "      <td>267.67</td>\n",
       "      <td>167376100.0</td>\n",
       "      <td>16.2380</td>\n",
       "      <td>180.18</td>\n",
       "      <td>27601886.0</td>\n",
       "      <td>30.5070</td>\n",
       "      <td>47.33</td>\n",
       "      <td>156301210.0</td>\n",
       "      <td>21.9161</td>\n",
       "    </tr>\n",
       "    <tr>\n",
       "      <th>2018-02-08</th>\n",
       "      <td>257.63</td>\n",
       "      <td>246449505.0</td>\n",
       "      <td>22.4116</td>\n",
       "      <td>171.58</td>\n",
       "      <td>38478321.0</td>\n",
       "      <td>34.4550</td>\n",
       "      <td>45.69</td>\n",
       "      <td>163250216.0</td>\n",
       "      <td>25.7317</td>\n",
       "    </tr>\n",
       "    <tr>\n",
       "      <th>2018-02-09</th>\n",
       "      <td>261.50</td>\n",
       "      <td>283565315.0</td>\n",
       "      <td>20.0997</td>\n",
       "      <td>176.11</td>\n",
       "      <td>39887626.0</td>\n",
       "      <td>34.8132</td>\n",
       "      <td>46.42</td>\n",
       "      <td>153419817.0</td>\n",
       "      <td>24.3873</td>\n",
       "    </tr>\n",
       "    <tr>\n",
       "      <th>2018-02-12</th>\n",
       "      <td>265.34</td>\n",
       "      <td>143735976.0</td>\n",
       "      <td>17.2592</td>\n",
       "      <td>176.41</td>\n",
       "      <td>32092133.0</td>\n",
       "      <td>32.2040</td>\n",
       "      <td>47.15</td>\n",
       "      <td>104447724.0</td>\n",
       "      <td>21.9786</td>\n",
       "    </tr>\n",
       "    <tr>\n",
       "      <th>2018-02-13</th>\n",
       "      <td>266.00</td>\n",
       "      <td>81223640.0</td>\n",
       "      <td>17.1364</td>\n",
       "      <td>173.15</td>\n",
       "      <td>21809350.0</td>\n",
       "      <td>31.7432</td>\n",
       "      <td>47.51</td>\n",
       "      <td>55739728.0</td>\n",
       "      <td>21.7754</td>\n",
       "    </tr>\n",
       "    <tr>\n",
       "      <th>2018-02-14</th>\n",
       "      <td>269.59</td>\n",
       "      <td>120735685.0</td>\n",
       "      <td>15.1465</td>\n",
       "      <td>179.52</td>\n",
       "      <td>28929704.0</td>\n",
       "      <td>29.1149</td>\n",
       "      <td>48.70</td>\n",
       "      <td>96491519.0</td>\n",
       "      <td>19.9949</td>\n",
       "    </tr>\n",
       "    <tr>\n",
       "      <th>2018-02-15</th>\n",
       "      <td>273.03</td>\n",
       "      <td>111200286.0</td>\n",
       "      <td>14.4587</td>\n",
       "      <td>179.96</td>\n",
       "      <td>20922120.0</td>\n",
       "      <td>28.7004</td>\n",
       "      <td>49.70</td>\n",
       "      <td>95168116.0</td>\n",
       "      <td>20.5124</td>\n",
       "    </tr>\n",
       "  </tbody>\n",
       "</table>\n",
       "</div>"
      ],
      "text/plain": [
       "ticker     SPY US Equity                       FB US Equity              \\\n",
       "field            PX_LAST       VOLUME    VL158      PX_LAST      VOLUME   \n",
       "date                                                                      \n",
       "2018-02-05        263.93  294681816.0  21.6878       181.26  33128206.0   \n",
       "2018-02-06        269.13  355026782.0  16.9463       185.31  37758505.0   \n",
       "2018-02-07        267.67  167376100.0  16.2380       180.18  27601886.0   \n",
       "2018-02-08        257.63  246449505.0  22.4116       171.58  38478321.0   \n",
       "2018-02-09        261.50  283565315.0  20.0997       176.11  39887626.0   \n",
       "2018-02-12        265.34  143735976.0  17.2592       176.41  32092133.0   \n",
       "2018-02-13        266.00   81223640.0  17.1364       173.15  21809350.0   \n",
       "2018-02-14        269.59  120735685.0  15.1465       179.52  28929704.0   \n",
       "2018-02-15        273.03  111200286.0  14.4587       179.96  20922120.0   \n",
       "\n",
       "ticker              EEM US Equity                        \n",
       "field         VL158       PX_LAST       VOLUME    VL158  \n",
       "date                                                     \n",
       "2018-02-05  31.4903         47.33  151202055.0  23.9446  \n",
       "2018-02-06  29.6799         48.87  183650323.0  21.2745  \n",
       "2018-02-07  30.5070         47.33  156301210.0  21.9161  \n",
       "2018-02-08  34.4550         45.69  163250216.0  25.7317  \n",
       "2018-02-09  34.8132         46.42  153419817.0  24.3873  \n",
       "2018-02-12  32.2040         47.15  104447724.0  21.9786  \n",
       "2018-02-13  31.7432         47.51   55739728.0  21.7754  \n",
       "2018-02-14  29.1149         48.70   96491519.0  19.9949  \n",
       "2018-02-15  28.7004         49.70   95168116.0  20.5124  "
      ]
     },
     "execution_count": 10,
     "metadata": {},
     "output_type": "execute_result"
    }
   ],
   "source": [
    "# View all observations that occured in Feb 5 thru 15\n",
    "response.loc['2/5/2018':'2/15/2018']"
   ]
  },
  {
   "cell_type": "code",
   "execution_count": 11,
   "metadata": {},
   "outputs": [
    {
     "data": {
      "text/html": [
       "<div>\n",
       "<table border=\"1\" class=\"dataframe\">\n",
       "  <thead>\n",
       "    <tr>\n",
       "      <th>ticker</th>\n",
       "      <th colspan=\"3\" halign=\"left\">SPY US Equity</th>\n",
       "      <th colspan=\"3\" halign=\"left\">FB US Equity</th>\n",
       "      <th colspan=\"3\" halign=\"left\">EEM US Equity</th>\n",
       "    </tr>\n",
       "    <tr>\n",
       "      <th>field</th>\n",
       "      <th>PX_LAST</th>\n",
       "      <th>VOLUME</th>\n",
       "      <th>VL158</th>\n",
       "      <th>PX_LAST</th>\n",
       "      <th>VOLUME</th>\n",
       "      <th>VL158</th>\n",
       "      <th>PX_LAST</th>\n",
       "      <th>VOLUME</th>\n",
       "      <th>VL158</th>\n",
       "    </tr>\n",
       "    <tr>\n",
       "      <th>date</th>\n",
       "      <th></th>\n",
       "      <th></th>\n",
       "      <th></th>\n",
       "      <th></th>\n",
       "      <th></th>\n",
       "      <th></th>\n",
       "      <th></th>\n",
       "      <th></th>\n",
       "      <th></th>\n",
       "    </tr>\n",
       "  </thead>\n",
       "  <tbody>\n",
       "    <tr>\n",
       "      <th>2017-05-01</th>\n",
       "      <td>238.68</td>\n",
       "      <td>66882521.0</td>\n",
       "      <td>10.0922</td>\n",
       "      <td>152.46</td>\n",
       "      <td>25218300.0</td>\n",
       "      <td>20.7949</td>\n",
       "      <td>40.29</td>\n",
       "      <td>41171016.0</td>\n",
       "      <td>14.6505</td>\n",
       "    </tr>\n",
       "    <tr>\n",
       "      <th>2017-05-02</th>\n",
       "      <td>238.77</td>\n",
       "      <td>57375732.0</td>\n",
       "      <td>10.1881</td>\n",
       "      <td>152.78</td>\n",
       "      <td>21870380.0</td>\n",
       "      <td>21.5177</td>\n",
       "      <td>40.58</td>\n",
       "      <td>55325459.0</td>\n",
       "      <td>14.6343</td>\n",
       "    </tr>\n",
       "    <tr>\n",
       "      <th>2017-05-03</th>\n",
       "      <td>238.48</td>\n",
       "      <td>73137731.0</td>\n",
       "      <td>10.3284</td>\n",
       "      <td>151.80</td>\n",
       "      <td>29782492.0</td>\n",
       "      <td>20.6565</td>\n",
       "      <td>40.31</td>\n",
       "      <td>58336148.0</td>\n",
       "      <td>14.9502</td>\n",
       "    </tr>\n",
       "    <tr>\n",
       "      <th>2017-05-04</th>\n",
       "      <td>238.76</td>\n",
       "      <td>61462732.0</td>\n",
       "      <td>10.0911</td>\n",
       "      <td>150.85</td>\n",
       "      <td>36225452.0</td>\n",
       "      <td>19.4210</td>\n",
       "      <td>39.86</td>\n",
       "      <td>81078255.0</td>\n",
       "      <td>16.0454</td>\n",
       "    </tr>\n",
       "    <tr>\n",
       "      <th>2017-05-05</th>\n",
       "      <td>239.70</td>\n",
       "      <td>62001269.0</td>\n",
       "      <td>10.1656</td>\n",
       "      <td>150.24</td>\n",
       "      <td>17148543.0</td>\n",
       "      <td>19.8523</td>\n",
       "      <td>40.19</td>\n",
       "      <td>52581021.0</td>\n",
       "      <td>15.4876</td>\n",
       "    </tr>\n",
       "    <tr>\n",
       "      <th>2017-05-08</th>\n",
       "      <td>239.66</td>\n",
       "      <td>48385730.0</td>\n",
       "      <td>9.9499</td>\n",
       "      <td>151.06</td>\n",
       "      <td>15827488.0</td>\n",
       "      <td>20.2854</td>\n",
       "      <td>40.18</td>\n",
       "      <td>35951542.0</td>\n",
       "      <td>15.4300</td>\n",
       "    </tr>\n",
       "    <tr>\n",
       "      <th>2017-05-09</th>\n",
       "      <td>239.44</td>\n",
       "      <td>51363200.0</td>\n",
       "      <td>10.0643</td>\n",
       "      <td>150.48</td>\n",
       "      <td>17453859.0</td>\n",
       "      <td>21.0939</td>\n",
       "      <td>40.69</td>\n",
       "      <td>70127299.0</td>\n",
       "      <td>15.2651</td>\n",
       "    </tr>\n",
       "    <tr>\n",
       "      <th>2017-05-10</th>\n",
       "      <td>239.87</td>\n",
       "      <td>54293799.0</td>\n",
       "      <td>10.0951</td>\n",
       "      <td>150.29</td>\n",
       "      <td>12080650.0</td>\n",
       "      <td>21.4357</td>\n",
       "      <td>40.96</td>\n",
       "      <td>47629112.0</td>\n",
       "      <td>14.8510</td>\n",
       "    </tr>\n",
       "    <tr>\n",
       "      <th>2017-05-11</th>\n",
       "      <td>239.38</td>\n",
       "      <td>62358346.0</td>\n",
       "      <td>10.3977</td>\n",
       "      <td>150.04</td>\n",
       "      <td>11841864.0</td>\n",
       "      <td>21.5410</td>\n",
       "      <td>41.05</td>\n",
       "      <td>37366092.0</td>\n",
       "      <td>15.3013</td>\n",
       "    </tr>\n",
       "    <tr>\n",
       "      <th>2017-05-12</th>\n",
       "      <td>238.98</td>\n",
       "      <td>53912730.0</td>\n",
       "      <td>10.4697</td>\n",
       "      <td>150.33</td>\n",
       "      <td>9598229.0</td>\n",
       "      <td>21.4861</td>\n",
       "      <td>41.22</td>\n",
       "      <td>65418202.0</td>\n",
       "      <td>15.3875</td>\n",
       "    </tr>\n",
       "    <tr>\n",
       "      <th>2017-05-15</th>\n",
       "      <td>240.30</td>\n",
       "      <td>61918937.0</td>\n",
       "      <td>10.1424</td>\n",
       "      <td>150.19</td>\n",
       "      <td>15064664.0</td>\n",
       "      <td>21.8436</td>\n",
       "      <td>41.64</td>\n",
       "      <td>52560962.0</td>\n",
       "      <td>15.1064</td>\n",
       "    </tr>\n",
       "    <tr>\n",
       "      <th>2017-05-16</th>\n",
       "      <td>240.08</td>\n",
       "      <td>51241791.0</td>\n",
       "      <td>9.9870</td>\n",
       "      <td>149.78</td>\n",
       "      <td>14550830.0</td>\n",
       "      <td>22.1479</td>\n",
       "      <td>41.68</td>\n",
       "      <td>41936342.0</td>\n",
       "      <td>15.0639</td>\n",
       "    </tr>\n",
       "    <tr>\n",
       "      <th>2017-05-17</th>\n",
       "      <td>235.82</td>\n",
       "      <td>172174107.0</td>\n",
       "      <td>12.4181</td>\n",
       "      <td>144.85</td>\n",
       "      <td>28300050.0</td>\n",
       "      <td>24.1534</td>\n",
       "      <td>40.97</td>\n",
       "      <td>63287347.0</td>\n",
       "      <td>16.8934</td>\n",
       "    </tr>\n",
       "    <tr>\n",
       "      <th>2017-05-18</th>\n",
       "      <td>236.77</td>\n",
       "      <td>107047656.0</td>\n",
       "      <td>11.6981</td>\n",
       "      <td>147.66</td>\n",
       "      <td>23031566.0</td>\n",
       "      <td>23.3414</td>\n",
       "      <td>40.29</td>\n",
       "      <td>121234696.0</td>\n",
       "      <td>17.0263</td>\n",
       "    </tr>\n",
       "    <tr>\n",
       "      <th>2017-05-19</th>\n",
       "      <td>238.31</td>\n",
       "      <td>115011373.0</td>\n",
       "      <td>10.6750</td>\n",
       "      <td>148.06</td>\n",
       "      <td>16187892.0</td>\n",
       "      <td>23.4364</td>\n",
       "      <td>41.15</td>\n",
       "      <td>63741950.0</td>\n",
       "      <td>15.8315</td>\n",
       "    </tr>\n",
       "    <tr>\n",
       "      <th>2017-05-22</th>\n",
       "      <td>239.52</td>\n",
       "      <td>61010602.0</td>\n",
       "      <td>10.2411</td>\n",
       "      <td>148.24</td>\n",
       "      <td>12586712.0</td>\n",
       "      <td>23.2322</td>\n",
       "      <td>41.19</td>\n",
       "      <td>46357544.0</td>\n",
       "      <td>15.4239</td>\n",
       "    </tr>\n",
       "    <tr>\n",
       "      <th>2017-05-23</th>\n",
       "      <td>240.05</td>\n",
       "      <td>48341683.0</td>\n",
       "      <td>10.0685</td>\n",
       "      <td>148.07</td>\n",
       "      <td>12817837.0</td>\n",
       "      <td>22.9405</td>\n",
       "      <td>41.23</td>\n",
       "      <td>39495566.0</td>\n",
       "      <td>15.2847</td>\n",
       "    </tr>\n",
       "    <tr>\n",
       "      <th>2017-05-24</th>\n",
       "      <td>240.61</td>\n",
       "      <td>49181099.0</td>\n",
       "      <td>9.8513</td>\n",
       "      <td>150.04</td>\n",
       "      <td>17940668.0</td>\n",
       "      <td>22.3077</td>\n",
       "      <td>41.39</td>\n",
       "      <td>49380823.0</td>\n",
       "      <td>15.0442</td>\n",
       "    </tr>\n",
       "    <tr>\n",
       "      <th>2017-05-25</th>\n",
       "      <td>241.76</td>\n",
       "      <td>64071661.0</td>\n",
       "      <td>9.5600</td>\n",
       "      <td>151.96</td>\n",
       "      <td>19891352.0</td>\n",
       "      <td>22.2210</td>\n",
       "      <td>41.59</td>\n",
       "      <td>39606853.0</td>\n",
       "      <td>15.0789</td>\n",
       "    </tr>\n",
       "    <tr>\n",
       "      <th>2017-05-26</th>\n",
       "      <td>241.71</td>\n",
       "      <td>46629905.0</td>\n",
       "      <td>9.6291</td>\n",
       "      <td>152.13</td>\n",
       "      <td>14996185.0</td>\n",
       "      <td>22.2120</td>\n",
       "      <td>41.74</td>\n",
       "      <td>31372722.0</td>\n",
       "      <td>15.4046</td>\n",
       "    </tr>\n",
       "    <tr>\n",
       "      <th>2017-05-30</th>\n",
       "      <td>241.50</td>\n",
       "      <td>35201897.0</td>\n",
       "      <td>9.8585</td>\n",
       "      <td>152.38</td>\n",
       "      <td>13226007.0</td>\n",
       "      <td>22.6068</td>\n",
       "      <td>41.52</td>\n",
       "      <td>35122845.0</td>\n",
       "      <td>15.8125</td>\n",
       "    </tr>\n",
       "    <tr>\n",
       "      <th>2017-05-31</th>\n",
       "      <td>241.44</td>\n",
       "      <td>91796016.0</td>\n",
       "      <td>9.8092</td>\n",
       "      <td>151.46</td>\n",
       "      <td>18023917.0</td>\n",
       "      <td>23.2833</td>\n",
       "      <td>41.20</td>\n",
       "      <td>80159450.0</td>\n",
       "      <td>16.2306</td>\n",
       "    </tr>\n",
       "  </tbody>\n",
       "</table>\n",
       "</div>"
      ],
      "text/plain": [
       "ticker     SPY US Equity                       FB US Equity              \\\n",
       "field            PX_LAST       VOLUME    VL158      PX_LAST      VOLUME   \n",
       "date                                                                      \n",
       "2017-05-01        238.68   66882521.0  10.0922       152.46  25218300.0   \n",
       "2017-05-02        238.77   57375732.0  10.1881       152.78  21870380.0   \n",
       "2017-05-03        238.48   73137731.0  10.3284       151.80  29782492.0   \n",
       "2017-05-04        238.76   61462732.0  10.0911       150.85  36225452.0   \n",
       "2017-05-05        239.70   62001269.0  10.1656       150.24  17148543.0   \n",
       "2017-05-08        239.66   48385730.0   9.9499       151.06  15827488.0   \n",
       "2017-05-09        239.44   51363200.0  10.0643       150.48  17453859.0   \n",
       "2017-05-10        239.87   54293799.0  10.0951       150.29  12080650.0   \n",
       "2017-05-11        239.38   62358346.0  10.3977       150.04  11841864.0   \n",
       "2017-05-12        238.98   53912730.0  10.4697       150.33   9598229.0   \n",
       "2017-05-15        240.30   61918937.0  10.1424       150.19  15064664.0   \n",
       "2017-05-16        240.08   51241791.0   9.9870       149.78  14550830.0   \n",
       "2017-05-17        235.82  172174107.0  12.4181       144.85  28300050.0   \n",
       "2017-05-18        236.77  107047656.0  11.6981       147.66  23031566.0   \n",
       "2017-05-19        238.31  115011373.0  10.6750       148.06  16187892.0   \n",
       "2017-05-22        239.52   61010602.0  10.2411       148.24  12586712.0   \n",
       "2017-05-23        240.05   48341683.0  10.0685       148.07  12817837.0   \n",
       "2017-05-24        240.61   49181099.0   9.8513       150.04  17940668.0   \n",
       "2017-05-25        241.76   64071661.0   9.5600       151.96  19891352.0   \n",
       "2017-05-26        241.71   46629905.0   9.6291       152.13  14996185.0   \n",
       "2017-05-30        241.50   35201897.0   9.8585       152.38  13226007.0   \n",
       "2017-05-31        241.44   91796016.0   9.8092       151.46  18023917.0   \n",
       "\n",
       "ticker              EEM US Equity                        \n",
       "field         VL158       PX_LAST       VOLUME    VL158  \n",
       "date                                                     \n",
       "2017-05-01  20.7949         40.29   41171016.0  14.6505  \n",
       "2017-05-02  21.5177         40.58   55325459.0  14.6343  \n",
       "2017-05-03  20.6565         40.31   58336148.0  14.9502  \n",
       "2017-05-04  19.4210         39.86   81078255.0  16.0454  \n",
       "2017-05-05  19.8523         40.19   52581021.0  15.4876  \n",
       "2017-05-08  20.2854         40.18   35951542.0  15.4300  \n",
       "2017-05-09  21.0939         40.69   70127299.0  15.2651  \n",
       "2017-05-10  21.4357         40.96   47629112.0  14.8510  \n",
       "2017-05-11  21.5410         41.05   37366092.0  15.3013  \n",
       "2017-05-12  21.4861         41.22   65418202.0  15.3875  \n",
       "2017-05-15  21.8436         41.64   52560962.0  15.1064  \n",
       "2017-05-16  22.1479         41.68   41936342.0  15.0639  \n",
       "2017-05-17  24.1534         40.97   63287347.0  16.8934  \n",
       "2017-05-18  23.3414         40.29  121234696.0  17.0263  \n",
       "2017-05-19  23.4364         41.15   63741950.0  15.8315  \n",
       "2017-05-22  23.2322         41.19   46357544.0  15.4239  \n",
       "2017-05-23  22.9405         41.23   39495566.0  15.2847  \n",
       "2017-05-24  22.3077         41.39   49380823.0  15.0442  \n",
       "2017-05-25  22.2210         41.59   39606853.0  15.0789  \n",
       "2017-05-26  22.2120         41.74   31372722.0  15.4046  \n",
       "2017-05-30  22.6068         41.52   35122845.0  15.8125  \n",
       "2017-05-31  23.2833         41.20   80159450.0  16.2306  "
      ]
     },
     "execution_count": 11,
     "metadata": {},
     "output_type": "execute_result"
    }
   ],
   "source": [
    "# View all observations that occured in all of Feb 2018\n",
    "response.loc['5/2017']"
   ]
  },
  {
   "cell_type": "markdown",
   "metadata": {},
   "source": [
    "### Slice Data to just get PX_Last for each stock"
   ]
  },
  {
   "cell_type": "code",
   "execution_count": 12,
   "metadata": {},
   "outputs": [
    {
     "data": {
      "text/html": [
       "<div>\n",
       "<table border=\"1\" class=\"dataframe\">\n",
       "  <thead>\n",
       "    <tr>\n",
       "      <th>ticker</th>\n",
       "      <th colspan=\"3\" halign=\"left\">EEM US Equity</th>\n",
       "      <th colspan=\"3\" halign=\"left\">FB US Equity</th>\n",
       "      <th colspan=\"3\" halign=\"left\">SPY US Equity</th>\n",
       "    </tr>\n",
       "    <tr>\n",
       "      <th>field</th>\n",
       "      <th>PX_LAST</th>\n",
       "      <th>VL158</th>\n",
       "      <th>VOLUME</th>\n",
       "      <th>PX_LAST</th>\n",
       "      <th>VL158</th>\n",
       "      <th>VOLUME</th>\n",
       "      <th>PX_LAST</th>\n",
       "      <th>VL158</th>\n",
       "      <th>VOLUME</th>\n",
       "    </tr>\n",
       "    <tr>\n",
       "      <th>date</th>\n",
       "      <th></th>\n",
       "      <th></th>\n",
       "      <th></th>\n",
       "      <th></th>\n",
       "      <th></th>\n",
       "      <th></th>\n",
       "      <th></th>\n",
       "      <th></th>\n",
       "      <th></th>\n",
       "    </tr>\n",
       "  </thead>\n",
       "  <tbody>\n",
       "    <tr>\n",
       "      <th>2017-01-03</th>\n",
       "      <td>35.43</td>\n",
       "      <td>20.3693</td>\n",
       "      <td>64483744.0</td>\n",
       "      <td>116.86</td>\n",
       "      <td>27.5824</td>\n",
       "      <td>20663912.0</td>\n",
       "      <td>225.24</td>\n",
       "      <td>12.6489</td>\n",
       "      <td>91366522.0</td>\n",
       "    </tr>\n",
       "    <tr>\n",
       "      <th>2017-01-04</th>\n",
       "      <td>35.70</td>\n",
       "      <td>19.6414</td>\n",
       "      <td>83072622.0</td>\n",
       "      <td>118.69</td>\n",
       "      <td>26.3841</td>\n",
       "      <td>19630932.0</td>\n",
       "      <td>226.58</td>\n",
       "      <td>11.9513</td>\n",
       "      <td>78744433.0</td>\n",
       "    </tr>\n",
       "    <tr>\n",
       "      <th>2017-01-05</th>\n",
       "      <td>36.09</td>\n",
       "      <td>19.5214</td>\n",
       "      <td>60303238.0</td>\n",
       "      <td>120.67</td>\n",
       "      <td>26.3783</td>\n",
       "      <td>19492150.0</td>\n",
       "      <td>226.40</td>\n",
       "      <td>11.8749</td>\n",
       "      <td>78379012.0</td>\n",
       "    </tr>\n",
       "    <tr>\n",
       "      <th>2017-01-06</th>\n",
       "      <td>35.94</td>\n",
       "      <td>19.0745</td>\n",
       "      <td>33132170.0</td>\n",
       "      <td>123.41</td>\n",
       "      <td>26.0426</td>\n",
       "      <td>28545263.0</td>\n",
       "      <td>227.21</td>\n",
       "      <td>11.7152</td>\n",
       "      <td>71559922.0</td>\n",
       "    </tr>\n",
       "    <tr>\n",
       "      <th>2017-01-09</th>\n",
       "      <td>35.91</td>\n",
       "      <td>18.9375</td>\n",
       "      <td>33950788.0</td>\n",
       "      <td>124.90</td>\n",
       "      <td>26.1749</td>\n",
       "      <td>22880360.0</td>\n",
       "      <td>226.46</td>\n",
       "      <td>11.8828</td>\n",
       "      <td>46939676.0</td>\n",
       "    </tr>\n",
       "  </tbody>\n",
       "</table>\n",
       "</div>"
      ],
      "text/plain": [
       "ticker     EEM US Equity                      FB US Equity           \\\n",
       "field            PX_LAST    VL158      VOLUME      PX_LAST    VL158   \n",
       "date                                                                  \n",
       "2017-01-03         35.43  20.3693  64483744.0       116.86  27.5824   \n",
       "2017-01-04         35.70  19.6414  83072622.0       118.69  26.3841   \n",
       "2017-01-05         36.09  19.5214  60303238.0       120.67  26.3783   \n",
       "2017-01-06         35.94  19.0745  33132170.0       123.41  26.0426   \n",
       "2017-01-09         35.91  18.9375  33950788.0       124.90  26.1749   \n",
       "\n",
       "ticker                 SPY US Equity                       \n",
       "field           VOLUME       PX_LAST    VL158      VOLUME  \n",
       "date                                                       \n",
       "2017-01-03  20663912.0        225.24  12.6489  91366522.0  \n",
       "2017-01-04  19630932.0        226.58  11.9513  78744433.0  \n",
       "2017-01-05  19492150.0        226.40  11.8749  78379012.0  \n",
       "2017-01-06  28545263.0        227.21  11.7152  71559922.0  \n",
       "2017-01-09  22880360.0        226.46  11.8828  46939676.0  "
      ]
     },
     "execution_count": 12,
     "metadata": {},
     "output_type": "execute_result"
    }
   ],
   "source": [
    "#sort list (required for IndexSlice)\n",
    "response = response[sorted(list(response.columns))]\n",
    "response.head()"
   ]
  },
  {
   "cell_type": "code",
   "execution_count": 13,
   "metadata": {},
   "outputs": [
    {
     "data": {
      "text/html": [
       "<div>\n",
       "<table border=\"1\" class=\"dataframe\">\n",
       "  <thead>\n",
       "    <tr>\n",
       "      <th>ticker</th>\n",
       "      <th>EEM US Equity</th>\n",
       "      <th>FB US Equity</th>\n",
       "      <th>SPY US Equity</th>\n",
       "    </tr>\n",
       "    <tr>\n",
       "      <th>field</th>\n",
       "      <th>PX_LAST</th>\n",
       "      <th>PX_LAST</th>\n",
       "      <th>PX_LAST</th>\n",
       "    </tr>\n",
       "    <tr>\n",
       "      <th>date</th>\n",
       "      <th></th>\n",
       "      <th></th>\n",
       "      <th></th>\n",
       "    </tr>\n",
       "  </thead>\n",
       "  <tbody>\n",
       "    <tr>\n",
       "      <th>2018-04-24</th>\n",
       "      <td>46.66</td>\n",
       "      <td>159.69</td>\n",
       "      <td>262.98</td>\n",
       "    </tr>\n",
       "    <tr>\n",
       "      <th>2018-04-25</th>\n",
       "      <td>46.30</td>\n",
       "      <td>159.69</td>\n",
       "      <td>263.63</td>\n",
       "    </tr>\n",
       "    <tr>\n",
       "      <th>2018-04-26</th>\n",
       "      <td>46.97</td>\n",
       "      <td>174.16</td>\n",
       "      <td>266.31</td>\n",
       "    </tr>\n",
       "    <tr>\n",
       "      <th>2018-04-27</th>\n",
       "      <td>47.26</td>\n",
       "      <td>173.59</td>\n",
       "      <td>266.56</td>\n",
       "    </tr>\n",
       "    <tr>\n",
       "      <th>2018-04-30</th>\n",
       "      <td>46.92</td>\n",
       "      <td>172.00</td>\n",
       "      <td>264.51</td>\n",
       "    </tr>\n",
       "  </tbody>\n",
       "</table>\n",
       "</div>"
      ],
      "text/plain": [
       "ticker     EEM US Equity FB US Equity SPY US Equity\n",
       "field            PX_LAST      PX_LAST       PX_LAST\n",
       "date                                               \n",
       "2018-04-24         46.66       159.69        262.98\n",
       "2018-04-25         46.30       159.69        263.63\n",
       "2018-04-26         46.97       174.16        266.31\n",
       "2018-04-27         47.26       173.59        266.56\n",
       "2018-04-30         46.92       172.00        264.51"
      ]
     },
     "execution_count": 13,
     "metadata": {},
     "output_type": "execute_result"
    }
   ],
   "source": [
    "#slice just the PX_Last columns for all securities\n",
    "idx = pd.IndexSlice\n",
    "allcloses = response.loc[:,idx[:,'PX_LAST']]\n",
    "\n",
    "allcloses.tail()"
   ]
  },
  {
   "cell_type": "code",
   "execution_count": null,
   "metadata": {
    "collapsed": true
   },
   "outputs": [],
   "source": [
    "#chart close prices of AAPL\n",
    "%matplotlib inline    \n",
    "allcloses.plot()\n",
    "\n",
    "#my_plot = df.plot(kind='bar',legend=True)\n",
    "#my_plot.set_xlabel(\"\")\n",
    "#my_plot.set_ylabel(\"Score Value\")"
   ]
  },
  {
   "cell_type": "code",
   "execution_count": null,
   "metadata": {
    "collapsed": true
   },
   "outputs": [],
   "source": [
    "###Alternative way \n",
    "\n",
    "#Use List Comprehension\n",
    "selected = [col for col in list(response.columns) if col[1] == 'PX_LAST']\n",
    "allclosesb = response[selected]\n",
    "allclosesb.tail()"
   ]
  },
  {
   "cell_type": "markdown",
   "metadata": {},
   "source": [
    "### extract one Series (column) from DataFrame"
   ]
  },
  {
   "cell_type": "code",
   "execution_count": null,
   "metadata": {
    "collapsed": true
   },
   "outputs": [],
   "source": [
    "spycloses = response[('SPY US Equity', 'PX_LAST')]  \n",
    "spycloses.tail()"
   ]
  },
  {
   "cell_type": "code",
   "execution_count": null,
   "metadata": {
    "collapsed": true,
    "scrolled": true
   },
   "outputs": [],
   "source": [
    "%matplotlib inline\n",
    "spycloses.plot()   #chart it"
   ]
  },
  {
   "cell_type": "code",
   "execution_count": null,
   "metadata": {
    "collapsed": true
   },
   "outputs": [],
   "source": [
    "type(spycloses)  #confirm dtype"
   ]
  },
  {
   "cell_type": "code",
   "execution_count": null,
   "metadata": {
    "collapsed": true
   },
   "outputs": [],
   "source": [
    "spx_df = pd.DataFrame(spycloses) #confirm to dataframe with dates as index"
   ]
  },
  {
   "cell_type": "code",
   "execution_count": null,
   "metadata": {
    "collapsed": true
   },
   "outputs": [],
   "source": [
    "spx_df.tail()"
   ]
  },
  {
   "cell_type": "code",
   "execution_count": null,
   "metadata": {
    "collapsed": true
   },
   "outputs": [],
   "source": [
    "# individual datapoint using 'ref' (similar to 'bdp')\n",
    "response2 = con.ref(['AUDUSD Curncy'], 'SETTLE_DT')\n",
    "print(response2)"
   ]
  },
  {
   "cell_type": "code",
   "execution_count": null,
   "metadata": {
    "collapsed": true
   },
   "outputs": [],
   "source": [
    "response3 = con.ref(['NDX Index'], 'VL137')\n",
    "print(response3)"
   ]
  },
  {
   "cell_type": "code",
   "execution_count": null,
   "metadata": {
    "collapsed": true
   },
   "outputs": [],
   "source": [
    "response3.value[0]"
   ]
  },
  {
   "cell_type": "markdown",
   "metadata": {},
   "source": [
    "<p><a name=\"os\"></a></p>\n",
    "## Directory Manipulation\n",
    "<a href=\"#sections\">Top</a><br>"
   ]
  },
  {
   "cell_type": "code",
   "execution_count": null,
   "metadata": {
    "collapsed": true
   },
   "outputs": [],
   "source": [
    "# magics and comand line statements\n",
    "#%pwd  #Use Magic command to get working directory\n",
    "!ls  #unix equivalent of 'dir'\n",
    "#!cat <filename>  #or !type <filename>\n"
   ]
  },
  {
   "cell_type": "code",
   "execution_count": null,
   "metadata": {
    "collapsed": true
   },
   "outputs": [],
   "source": [
    "import os\n",
    "wd = os.getcwd()    #Use code to get working directory"
   ]
  },
  {
   "cell_type": "code",
   "execution_count": null,
   "metadata": {
    "collapsed": true
   },
   "outputs": [],
   "source": [
    "wd  # double backslash (\\\\)  instead of single backslash (\\)for directories"
   ]
  },
  {
   "cell_type": "code",
   "execution_count": null,
   "metadata": {
    "collapsed": true,
    "scrolled": true
   },
   "outputs": [],
   "source": [
    "filenames = os.listdir(wd)  # list contents of the directory\n",
    "filenames"
   ]
  },
  {
   "cell_type": "code",
   "execution_count": null,
   "metadata": {
    "collapsed": true
   },
   "outputs": [],
   "source": [
    "type(filenames)"
   ]
  },
  {
   "cell_type": "code",
   "execution_count": null,
   "metadata": {
    "collapsed": true
   },
   "outputs": [],
   "source": [
    "newpath = \"C:\\\\Users\\\\traveler\\\\Documents\\\\Python Scripts\\\\py4fi-master\\\\jupyter36\""
   ]
  },
  {
   "cell_type": "code",
   "execution_count": null,
   "metadata": {
    "collapsed": true
   },
   "outputs": [],
   "source": [
    "os.chdir(newpath)"
   ]
  },
  {
   "cell_type": "code",
   "execution_count": null,
   "metadata": {
    "collapsed": true
   },
   "outputs": [],
   "source": [
    "os.getcwd()"
   ]
  },
  {
   "cell_type": "markdown",
   "metadata": {},
   "source": [
    "\n",
    "## File I/O"
   ]
  },
  {
   "cell_type": "code",
   "execution_count": null,
   "metadata": {
    "collapsed": true
   },
   "outputs": [],
   "source": [
    "import pandas\n",
    "import os\n",
    "\n",
    "%pwd\n",
    "    "
   ]
  },
  {
   "cell_type": "code",
   "execution_count": null,
   "metadata": {
    "collapsed": true
   },
   "outputs": [],
   "source": [
    "path = os.getcwd()\n",
    "#path = \"C:\\\\Users\\\\traveler\\\\Documents\\\\Python Scripts\"\n",
    "#os.chdir(path)\n",
    "filename = \"ETFbi.csv\"\n",
    "etf = pandas.read_csv(filename)\n"
   ]
  },
  {
   "cell_type": "code",
   "execution_count": null,
   "metadata": {
    "collapsed": true
   },
   "outputs": [],
   "source": [
    "etf.head()"
   ]
  },
  {
   "cell_type": "code",
   "execution_count": null,
   "metadata": {
    "collapsed": true
   },
   "outputs": [],
   "source": [
    "etf.describe()"
   ]
  },
  {
   "cell_type": "markdown",
   "metadata": {},
   "source": [
    "<p><a name=\"cleaning\"></a></p>\n",
    "## Data Cleaning\n",
    "<a href=\"#sections\">Top</a><br>"
   ]
  },
  {
   "cell_type": "markdown",
   "metadata": {
    "collapsed": true
   },
   "source": [
    "__Useful references__ <br>\n",
    "https://github.com/KarrieK/pandas_data_cleaning <br>\n",
    "https://realpython.com/python-data-cleaning-numpy-pandas/  <br>\n",
    "https://github.com/QCaudron/pydata_pandas/blob/master/coffee_analysis_solution.ipynb  \n"
   ]
  },
  {
   "cell_type": "code",
   "execution_count": null,
   "metadata": {
    "collapsed": true
   },
   "outputs": [],
   "source": [
    "#replace unwanted cell entries with 'null'  (do as a lambda function on an 'unwanted' list?)\n",
    "tmp = etf.replace('#N/A Real Time', '').replace('#N/A Field Not Applicable','').replace('#VALUE','')\\\n",
    ".replace('N.A.','').fillna('')\n",
    "\n",
    "tmp.head()"
   ]
  },
  {
   "cell_type": "code",
   "execution_count": null,
   "metadata": {
    "collapsed": true
   },
   "outputs": [],
   "source": [
    "#create two dataframes for 'goodata' and 'missing data'\n",
    "#missingdata= etf.loc[(tmp ==\"\").sum(axis=1) >0]\n",
    "#cleandata= etf.loc[(tmp ==\"\").sum(axis=1) ==0]\n",
    "\n",
    "#columns with null cells\n",
    "(tmp ==\"\").sum()"
   ]
  },
  {
   "cell_type": "code",
   "execution_count": null,
   "metadata": {
    "collapsed": true
   },
   "outputs": [],
   "source": [
    "#explore which a column with data missing\n",
    "tmp[tmp['Ret YTD Pct']==\"\"]"
   ]
  },
  {
   "cell_type": "code",
   "execution_count": null,
   "metadata": {
    "collapsed": true
   },
   "outputs": [],
   "source": [
    "#rows with missing data\n",
    "(tmp ==\"\").sum()\n",
    "#cleandata= etf.loc[(tmp ==\"\").sum(axis=1) ==0]\n",
    "\n",
    "#missingdata.shape\n",
    "#tmp"
   ]
  },
  {
   "cell_type": "code",
   "execution_count": null,
   "metadata": {
    "collapsed": true
   },
   "outputs": [],
   "source": [
    "#explore which a column with data missing\n",
    "tmp.iloc[421]"
   ]
  },
  {
   "cell_type": "code",
   "execution_count": null,
   "metadata": {
    "collapsed": true
   },
   "outputs": [],
   "source": []
  },
  {
   "cell_type": "code",
   "execution_count": null,
   "metadata": {
    "collapsed": true
   },
   "outputs": [],
   "source": [
    "missingdata"
   ]
  },
  {
   "cell_type": "code",
   "execution_count": null,
   "metadata": {
    "collapsed": true
   },
   "outputs": [],
   "source": [
    "cleandata"
   ]
  },
  {
   "cell_type": "code",
   "execution_count": null,
   "metadata": {
    "collapsed": true
   },
   "outputs": [],
   "source": [
    "#manual alternative\n",
    "etf_b = etf.replace('#N/A Real Time', '')\n",
    "etf_b = etf.replace('#N/A Field Not Applicable','')\n",
    "etf_b = etf.replace('#VALUE','')\n",
    "etf_b = etf.replace('N.A.','')\n",
    "etf_b = etf.fillna('')"
   ]
  },
  {
   "cell_type": "code",
   "execution_count": null,
   "metadata": {
    "collapsed": true
   },
   "outputs": [],
   "source": [
    "cleandata.describe()   #count should be the same now for all columns"
   ]
  },
  {
   "cell_type": "code",
   "execution_count": null,
   "metadata": {
    "collapsed": true
   },
   "outputs": [],
   "source": [
    "etf.isnull().sum()  #nulls are note necessarily bad"
   ]
  },
  {
   "cell_type": "code",
   "execution_count": null,
   "metadata": {
    "collapsed": true
   },
   "outputs": [],
   "source": [
    "#etf_b.isnull().sum()\n",
    "cleandata.isnull().sum()"
   ]
  },
  {
   "cell_type": "code",
   "execution_count": null,
   "metadata": {
    "collapsed": true
   },
   "outputs": [],
   "source": [
    "etf_b.dtypes"
   ]
  },
  {
   "cell_type": "code",
   "execution_count": null,
   "metadata": {
    "collapsed": true
   },
   "outputs": [],
   "source": []
  },
  {
   "cell_type": "code",
   "execution_count": null,
   "metadata": {
    "collapsed": true
   },
   "outputs": [],
   "source": [
    "etf_b.to_csv('ETFbi_clean.csv', index = False)   #save back to new filename\n",
    "missingdata.to_csv('ETFbi_missing.csv', index = False)   #save back to new filename\n"
   ]
  },
  {
   "cell_type": "markdown",
   "metadata": {},
   "source": [
    "Basic Analysis"
   ]
  },
  {
   "cell_type": "code",
   "execution_count": null,
   "metadata": {
    "collapsed": true
   },
   "outputs": [],
   "source": [
    "filename = 'ETFbi_clean.csv'\n",
    "newdf = pandas.read_csv(filename)\n",
    "newdf.dtypes"
   ]
  },
  {
   "cell_type": "code",
   "execution_count": null,
   "metadata": {
    "collapsed": true
   },
   "outputs": [],
   "source": [
    "import numpy as np\n"
   ]
  },
  {
   "cell_type": "code",
   "execution_count": null,
   "metadata": {
    "collapsed": true
   },
   "outputs": [],
   "source": [
    "agglist = [mean', 'count']\n",
    "newdf.pivot_table(index ='Fd Obj', aggfunc=agglist)\n",
    "#newdf.pivot_table(values='Ret YTD Pct', index ='Fd Obj', aggfunc=agglist)"
   ]
  },
  {
   "cell_type": "code",
   "execution_count": 9,
   "metadata": {
    "collapsed": true
   },
   "outputs": [],
   "source": [
    "#### More cleaning tricks\n",
    "\n",
    "def convert_currency(val):\n",
    "    \"\"\"\n",
    "    Convert the string number value to a float\n",
    "     - Remove $\n",
    "     - Remove commas\n",
    "     - Convert to float type\n",
    "    \"\"\"\n",
    "    new_val = val.replace(',','').replace('$', '')\n",
    "    return float(new_val)\n",
    "\n",
    "def convert_percent(val):\n",
    "    \"\"\"\n",
    "    Convert the percentage string to an actual floating point percent\n",
    "    \"\"\"\n",
    "    new_val = val.replace('%', '')\n",
    "    return float(new_val) / 100"
   ]
  },
  {
   "cell_type": "markdown",
   "metadata": {},
   "source": [
    "__example calls__  <br>\n",
    "`df['2016'].apply(convert_currency)`  <br>\n",
    "`df['2017'].apply(convert_currency)` <br>\n",
    "\n",
    "__alternative1:__ with lambda function <br>\n",
    "`df['2016'].apply(lambda x: x.replace('$', '').replace(',', '')).astype('float')`  <br>\n",
    "\n",
    "__alternative2:__ `to_numberic()` <br>\n",
    "`pd.to_numeric(df['Jan Units'], errors='coerce').fillna(0)`\n",
    "\n",
    "__Doing all frm `read_csv()` arg list__ <br>\n",
    "df_2 = pd.read_csv(\"https://github.com/chris1610/pbpython/blob/master/data/sales_data_types.csv?raw=True\", <br>\n",
    "                   dtype={'Customer Number':'int'},    <br>\n",
    "                   converters={'2016':convert_currency,  <br>\n",
    "                               '2017': convert_currency, <br>\n",
    "                               'Percent Growth': convert_percent,  <br>\n",
    "                               'Jan Units': lambda x: pd.to_numeric(x, errors='coerce'),  <br>\n",
    "                               'Active': lambda x: np.where(x == \"Y\", True, False)  <br>\n",
    "                              })"
   ]
  },
  {
   "cell_type": "markdown",
   "metadata": {},
   "source": [
    "<p><a name=\"pivot\"></a></p>\n",
    "## Pivot Tables and Excel-like manipulations\n",
    "<a href=\"#sections\">Top</a><br>"
   ]
  },
  {
   "cell_type": "code",
   "execution_count": 92,
   "metadata": {
    "collapsed": true
   },
   "outputs": [],
   "source": [
    "import pandas as pd\n",
    "import os\n",
    "wd = os.getcwd()"
   ]
  },
  {
   "cell_type": "code",
   "execution_count": 93,
   "metadata": {
    "collapsed": true,
    "scrolled": true
   },
   "outputs": [],
   "source": [
    "#wd"
   ]
  },
  {
   "cell_type": "code",
   "execution_count": 94,
   "metadata": {
    "collapsed": true
   },
   "outputs": [],
   "source": [
    "import seaborn as sns\n",
    "titanic = sns.load_dataset('titanic')\n",
    "\n",
    "#path = \"C:\\\\Users\\\\traveler\\\\Documents\\\\Python Scripts\"\n",
    "#os.chdir(path)\n",
    "#filestring = 'titanic2.csv'\n",
    "#titanic = pd.read_csv(filestring, sep='\\t')"
   ]
  },
  {
   "cell_type": "code",
   "execution_count": 95,
   "metadata": {},
   "outputs": [
    {
     "data": {
      "text/html": [
       "<div>\n",
       "<table border=\"1\" class=\"dataframe\">\n",
       "  <thead>\n",
       "    <tr style=\"text-align: right;\">\n",
       "      <th></th>\n",
       "      <th>survived</th>\n",
       "      <th>pclass</th>\n",
       "      <th>sex</th>\n",
       "      <th>age</th>\n",
       "      <th>sibsp</th>\n",
       "      <th>parch</th>\n",
       "      <th>fare</th>\n",
       "      <th>embarked</th>\n",
       "      <th>class</th>\n",
       "      <th>who</th>\n",
       "      <th>adult_male</th>\n",
       "      <th>deck</th>\n",
       "      <th>embark_town</th>\n",
       "      <th>alive</th>\n",
       "      <th>alone</th>\n",
       "    </tr>\n",
       "  </thead>\n",
       "  <tbody>\n",
       "    <tr>\n",
       "      <th>0</th>\n",
       "      <td>0</td>\n",
       "      <td>3</td>\n",
       "      <td>male</td>\n",
       "      <td>22.0</td>\n",
       "      <td>1</td>\n",
       "      <td>0</td>\n",
       "      <td>7.2500</td>\n",
       "      <td>S</td>\n",
       "      <td>Third</td>\n",
       "      <td>man</td>\n",
       "      <td>True</td>\n",
       "      <td>NaN</td>\n",
       "      <td>Southampton</td>\n",
       "      <td>no</td>\n",
       "      <td>False</td>\n",
       "    </tr>\n",
       "    <tr>\n",
       "      <th>1</th>\n",
       "      <td>1</td>\n",
       "      <td>1</td>\n",
       "      <td>female</td>\n",
       "      <td>38.0</td>\n",
       "      <td>1</td>\n",
       "      <td>0</td>\n",
       "      <td>71.2833</td>\n",
       "      <td>C</td>\n",
       "      <td>First</td>\n",
       "      <td>woman</td>\n",
       "      <td>False</td>\n",
       "      <td>C</td>\n",
       "      <td>Cherbourg</td>\n",
       "      <td>yes</td>\n",
       "      <td>False</td>\n",
       "    </tr>\n",
       "    <tr>\n",
       "      <th>2</th>\n",
       "      <td>1</td>\n",
       "      <td>3</td>\n",
       "      <td>female</td>\n",
       "      <td>26.0</td>\n",
       "      <td>0</td>\n",
       "      <td>0</td>\n",
       "      <td>7.9250</td>\n",
       "      <td>S</td>\n",
       "      <td>Third</td>\n",
       "      <td>woman</td>\n",
       "      <td>False</td>\n",
       "      <td>NaN</td>\n",
       "      <td>Southampton</td>\n",
       "      <td>yes</td>\n",
       "      <td>True</td>\n",
       "    </tr>\n",
       "    <tr>\n",
       "      <th>3</th>\n",
       "      <td>1</td>\n",
       "      <td>1</td>\n",
       "      <td>female</td>\n",
       "      <td>35.0</td>\n",
       "      <td>1</td>\n",
       "      <td>0</td>\n",
       "      <td>53.1000</td>\n",
       "      <td>S</td>\n",
       "      <td>First</td>\n",
       "      <td>woman</td>\n",
       "      <td>False</td>\n",
       "      <td>C</td>\n",
       "      <td>Southampton</td>\n",
       "      <td>yes</td>\n",
       "      <td>False</td>\n",
       "    </tr>\n",
       "    <tr>\n",
       "      <th>4</th>\n",
       "      <td>0</td>\n",
       "      <td>3</td>\n",
       "      <td>male</td>\n",
       "      <td>35.0</td>\n",
       "      <td>0</td>\n",
       "      <td>0</td>\n",
       "      <td>8.0500</td>\n",
       "      <td>S</td>\n",
       "      <td>Third</td>\n",
       "      <td>man</td>\n",
       "      <td>True</td>\n",
       "      <td>NaN</td>\n",
       "      <td>Southampton</td>\n",
       "      <td>no</td>\n",
       "      <td>True</td>\n",
       "    </tr>\n",
       "  </tbody>\n",
       "</table>\n",
       "</div>"
      ],
      "text/plain": [
       "   survived  pclass     sex   age  sibsp  parch     fare embarked  class  \\\n",
       "0         0       3    male  22.0      1      0   7.2500        S  Third   \n",
       "1         1       1  female  38.0      1      0  71.2833        C  First   \n",
       "2         1       3  female  26.0      0      0   7.9250        S  Third   \n",
       "3         1       1  female  35.0      1      0  53.1000        S  First   \n",
       "4         0       3    male  35.0      0      0   8.0500        S  Third   \n",
       "\n",
       "     who adult_male deck  embark_town alive  alone  \n",
       "0    man       True  NaN  Southampton    no  False  \n",
       "1  woman      False    C    Cherbourg   yes  False  \n",
       "2  woman      False  NaN  Southampton   yes   True  \n",
       "3  woman      False    C  Southampton   yes  False  \n",
       "4    man       True  NaN  Southampton    no   True  "
      ]
     },
     "execution_count": 95,
     "metadata": {},
     "output_type": "execute_result"
    }
   ],
   "source": [
    "titanic.head()"
   ]
  },
  {
   "cell_type": "code",
   "execution_count": 98,
   "metadata": {},
   "outputs": [
    {
     "data": {
      "image/png": "[encoded data removed]",
      "text/plain": [
       "<matplotlib.figure.Figure at 0x16a294a8>"
      ]
     },
     "metadata": {},
     "output_type": "display_data"
    }
   ],
   "source": [
    "import matplotlib.pyplot as plt\n",
    "\n",
    "#chart using plt.scatter\n",
    "plt.scatter(titanic['age'], titanic['fare'])\n",
    "\n",
    "plt.xlabel(\"age\")\n",
    "plt.ylabel('fare');"
   ]
  },
  {
   "cell_type": "code",
   "execution_count": 99,
   "metadata": {},
   "outputs": [
    {
     "data": {
      "image/png": "[encoded data removed]",
      "text/plain": [
       "<matplotlib.figure.Figure at 0x160a7be0>"
      ]
     },
     "metadata": {},
     "output_type": "display_data"
    }
   ],
   "source": [
    "\n",
    "#chart using plt.plot\n",
    "plt.plot(titanic['age'], titanic['fare'], 'o')\n",
    "\n",
    "plt.xlabel(\"age\")\n",
    "plt.ylabel('fare');"
   ]
  },
  {
   "cell_type": "code",
   "execution_count": 87,
   "metadata": {},
   "outputs": [
    {
     "data": {
      "image/png": "[encoded data removed]",
      "text/plain": [
       "<matplotlib.figure.Figure at 0x15955518>"
      ]
     },
     "metadata": {},
     "output_type": "display_data"
    }
   ],
   "source": [
    "import seaborn as sns\n",
    "import matplotlib.pyplot as plt\n",
    "import numpy as np\n",
    "\n",
    "sns.set()\n",
    "#grid = sns.FacetGrid(tips, row=\"sex\", col=\"time\", margin_titles=True)\n",
    "#grid.map(plt.hist, \"tip_pct\", bins=np.linspace(0, 40, 15));\n",
    "\n",
    "\n",
    "grid = sns.FacetGrid(titanic, row=\"sex\", col=\"survived\", margin_titles=True)\n",
    "grid.map(plt.hist, \"age\", bins=np.linspace(0, 80, 5));"
   ]
  },
  {
   "cell_type": "code",
   "execution_count": 80,
   "metadata": {
    "scrolled": true
   },
   "outputs": [
    {
     "data": {
      "text/plain": [
       "Index(['survived', 'pclass', 'sex', 'age', 'sibsp', 'parch', 'fare',\n",
       "       'embarked', 'class', 'who', 'adult_male', 'deck', 'embark_town',\n",
       "       'alive', 'alone'],\n",
       "      dtype='object')"
      ]
     },
     "execution_count": 80,
     "metadata": {},
     "output_type": "execute_result"
    }
   ],
   "source": [
    "titanic.columns = titanic.columns.str.lower()\n",
    "titanic.columns"
   ]
  },
  {
   "cell_type": "markdown",
   "metadata": {},
   "source": [
    "Use <font color='blue'>pivot_table()</font> to sort/aggregate"
   ]
  },
  {
   "cell_type": "code",
   "execution_count": null,
   "metadata": {
    "collapsed": true,
    "scrolled": true
   },
   "outputs": [],
   "source": [
    "titanic.pivot_table('survived', index='sex', columns='pclass', aggfunc= 'max')\n",
    "#titanic.pivot_table('survived', index='sex', columns='pclass')"
   ]
  },
  {
   "cell_type": "markdown",
   "metadata": {},
   "source": [
    "<font color='red'>Alternative</font> to 'pivot_table'"
   ]
  },
  {
   "cell_type": "code",
   "execution_count": null,
   "metadata": {
    "collapsed": true
   },
   "outputs": [],
   "source": [
    "newdf=titanic.groupby(['sex','pclass'])[['survived']].mean()\n",
    "newdf=newdf.unstack()\n",
    "newdf"
   ]
  },
  {
   "cell_type": "code",
   "execution_count": null,
   "metadata": {
    "collapsed": true
   },
   "outputs": [],
   "source": [
    "# this is the same as...\n",
    "#newdf=pd.DataFrame(titanic.groupby(['sex','pclass']).mean()['age'])\n",
    "\n",
    "#newdf=titanic.groupby(['sex','pclass']).mean()[['age']]   #double bracket\n",
    "newdf=titanic.groupby(['sex','pclass'])[['age']].mean()   #double bracket\n",
    "newdf"
   ]
  },
  {
   "cell_type": "code",
   "execution_count": null,
   "metadata": {
    "collapsed": true
   },
   "outputs": [],
   "source": [
    "#type(titanic.groupby(['sex','pclass'])['survived'].mean())"
   ]
  },
  {
   "cell_type": "code",
   "execution_count": null,
   "metadata": {
    "collapsed": true
   },
   "outputs": [],
   "source": [
    "#titanic.groupby(['sex','pclass'])['survived'].mean().index"
   ]
  },
  {
   "cell_type": "code",
   "execution_count": null,
   "metadata": {
    "collapsed": true
   },
   "outputs": [],
   "source": [
    "age = pd.cut(titanic['age'], [0, 18, 80])\n",
    "titanic.pivot_table('survived', ['sex', age], 'pclass')"
   ]
  },
  {
   "cell_type": "code",
   "execution_count": null,
   "metadata": {
    "collapsed": true
   },
   "outputs": [],
   "source": [
    "#alternative using groupby\n",
    "newdf=titanic.groupby(['sex', age, 'pclass'])[['survived']].mean()\n",
    "newdf=newdf.unstack()\n",
    "newdf"
   ]
  },
  {
   "cell_type": "code",
   "execution_count": null,
   "metadata": {
    "collapsed": true
   },
   "outputs": [],
   "source": [
    "fare = pd.qcut(titanic['fare'], 2)\n",
    "titanic.pivot_table('survived', ['sex', age], [fare, 'pclass'])"
   ]
  },
  {
   "cell_type": "markdown",
   "metadata": {},
   "source": [
    "#### Additional pivot table options\n",
    "\n",
    "The full call signature of the ``pivot_table`` method of ``DataFrame``s is as follows:\n",
    "\n",
    "```python\n",
    "# call signature as of Pandas 0.18\n",
    "DataFrame.pivot_table(data, values=None, index=None, columns=None,\n",
    "                      aggfunc='mean', fill_value=None, margins=False,\n",
    "                      dropna=True, margins_name='All')\n",
    "```\n",
    "\n",
    "We've already seen examples of the first three arguments; here we'll take a quick look at the remaining ones.\n",
    "Two of the options, ``fill_value`` and ``dropna``, have to do with missing data and are fairly straightforward; we will not show examples of them here.\n",
    "\n",
    "The ``aggfunc`` keyword controls what type of aggregation is applied, which is a mean by default.\n",
    "As in the GroupBy, the aggregation specification can be a string representing one of several common choices (e.g., ``'sum'``, ``'mean'``, ``'count'``, ``'min'``, ``'max'``, etc.) or a function that implements an aggregation (e.g., ``np.sum()``, ``min()``, ``sum()``, etc.).\n",
    "Additionally, it can be specified as a dictionary mapping a column to any of the above desired options:"
   ]
  },
  {
   "cell_type": "markdown",
   "metadata": {},
   "source": [
    "### Group & Aggregate"
   ]
  },
  {
   "cell_type": "markdown",
   "metadata": {},
   "source": [
    "#### Aggregate"
   ]
  },
  {
   "cell_type": "code",
   "execution_count": null,
   "metadata": {
    "collapsed": true
   },
   "outputs": [],
   "source": [
    "grouped=titanic.groupby(['sex', 'pclass'])[['age']]   #retruns a 'groupby' object\n",
    "newdf= grouped.agg(['max', 'min', 'mean'])   #returns a df\n",
    "newdf"
   ]
  },
  {
   "cell_type": "markdown",
   "metadata": {
    "collapsed": true
   },
   "source": [
    "<p><a name=\"embed\"></a></p>\n",
    "## Embedding\n",
    "<a href=\"#sections\">Top</a><br>"
   ]
  },
  {
   "cell_type": "code",
   "execution_count": 16,
   "metadata": {},
   "outputs": [
    {
     "data": {
      "image/jpeg": "[encoded data removed]",
      "text/html": [
       "\n",
       "        <iframe\n",
       "            width=\"400\"\n",
       "            height=\"300\"\n",
       "            src=\"https://www.youtube.com/embed/Iwg6su4p3Z0\"\n",
       "            frameborder=\"0\"\n",
       "            allowfullscreen\n",
       "        ></iframe>\n",
       "        "
      ],
      "text/plain": [
       "<IPython.lib.display.YouTubeVideo at 0x144ccc88>"
      ]
     },
     "execution_count": 16,
     "metadata": {},
     "output_type": "execute_result"
    }
   ],
   "source": [
    "#Embed a Youtube Video\n",
    "from IPython.display import YouTubeVideo\n",
    "YouTubeVideo('Iwg6su4p3Z0')"
   ]
  },
  {
   "cell_type": "code",
   "execution_count": null,
   "metadata": {
    "collapsed": true
   },
   "outputs": [],
   "source": []
  },
  {
   "cell_type": "code",
   "execution_count": 17,
   "metadata": {
    "scrolled": true
   },
   "outputs": [
    {
     "data": {
      "text/html": [
       "<iframe src=https://www.techatbloomberg.com/ width=800 height=350></iframe>"
      ],
      "text/plain": [
       "<IPython.core.display.HTML object>"
      ]
     },
     "execution_count": 17,
     "metadata": {},
     "output_type": "execute_result"
    }
   ],
   "source": [
    "# Embed HTML\n",
    "from IPython.core.display import HTML\n",
    "HTML(\"<iframe src=https://www.techatbloomberg.com/ width=800 height=350></iframe>\")"
   ]
  },
  {
   "cell_type": "markdown",
   "metadata": {},
   "source": [
    "#### Display picture files in a directory"
   ]
  },
  {
   "cell_type": "code",
   "execution_count": null,
   "metadata": {
    "collapsed": true
   },
   "outputs": [],
   "source": [
    "import os\n",
    "from IPython.display import display, Image\n",
    "wd = os.getcwd()"
   ]
  },
  {
   "cell_type": "code",
   "execution_count": null,
   "metadata": {
    "collapsed": true
   },
   "outputs": [],
   "source": [
    "filenames = os.listdir(os.getcwd())   #read the directory\n",
    "pictures = [f for f in filenames if f.endswith('.jpg')]\n",
    "pictures"
   ]
  },
  {
   "cell_type": "code",
   "execution_count": 7,
   "metadata": {},
   "outputs": [
    {
     "data": {
      "text/plain": [
       "['m_amgGT.jpg', 'mb_2.jpg']"
      ]
     },
     "execution_count": 7,
     "metadata": {},
     "output_type": "execute_result"
    }
   ],
   "source": [
    "#alternate way using magic commands\n",
    "pictures2= !ls *.jpg\n",
    "pictures2"
   ]
  },
  {
   "cell_type": "code",
   "execution_count": null,
   "metadata": {
    "collapsed": true
   },
   "outputs": [],
   "source": [
    "for filename in pictures:\n",
    "    display(Image(wd + \"/\"+ filename, width=300))"
   ]
  },
  {
   "cell_type": "markdown",
   "metadata": {},
   "source": [
    "<p><a name=\"math\"></a></p>\n",
    "## Stats Stuff\n",
    "<a href=\"#sections\">Top</a><br>"
   ]
  },
  {
   "cell_type": "code",
   "execution_count": null,
   "metadata": {
    "collapsed": true
   },
   "outputs": [],
   "source": [
    "import pandas as pd\n",
    "import numpy as np"
   ]
  },
  {
   "cell_type": "code",
   "execution_count": null,
   "metadata": {
    "collapsed": true
   },
   "outputs": [],
   "source": [
    "rng = np.random.RandomState(42)   #generate some random data\n",
    "\n",
    "#map random data to a dataframe\n",
    "df = pd.DataFrame(rng.randint(0, 10, (3, 4)),\n",
    "                  columns=['A', 'B', 'C', 'D'])\n",
    "df"
   ]
  },
  {
   "cell_type": "markdown",
   "metadata": {},
   "source": [
    "#### Load Built-In Dataset"
   ]
  },
  {
   "cell_type": "code",
   "execution_count": null,
   "metadata": {
    "collapsed": true
   },
   "outputs": [],
   "source": [
    "from sklearn import datasets\n",
    "iris = datasets.load_iris()"
   ]
  },
  {
   "cell_type": "code",
   "execution_count": null,
   "metadata": {
    "collapsed": true
   },
   "outputs": [],
   "source": [
    "type(iris)"
   ]
  },
  {
   "cell_type": "code",
   "execution_count": null,
   "metadata": {
    "collapsed": true
   },
   "outputs": [],
   "source": [
    "iris.data.shape"
   ]
  },
  {
   "cell_type": "code",
   "execution_count": null,
   "metadata": {
    "collapsed": true
   },
   "outputs": [],
   "source": [
    "#iris.data.columns"
   ]
  },
  {
   "cell_type": "code",
   "execution_count": null,
   "metadata": {
    "collapsed": true
   },
   "outputs": [],
   "source": [
    "import pandas as pd\n",
    "import os"
   ]
  },
  {
   "cell_type": "code",
   "execution_count": null,
   "metadata": {
    "collapsed": true
   },
   "outputs": [],
   "source": [
    "wd = os.getcwd()\n",
    "wd"
   ]
  },
  {
   "cell_type": "code",
   "execution_count": null,
   "metadata": {
    "collapsed": true
   },
   "outputs": [],
   "source": [
    "filestring = 'titanic2.csv'\n",
    "mydata = pd.read_csv(filestring, sep='\\t')"
   ]
  },
  {
   "cell_type": "code",
   "execution_count": null,
   "metadata": {
    "collapsed": true
   },
   "outputs": [],
   "source": [
    "mydata"
   ]
  },
  {
   "cell_type": "markdown",
   "metadata": {
    "collapsed": true
   },
   "source": [
    "## Map & Filter"
   ]
  },
  {
   "cell_type": "code",
   "execution_count": null,
   "metadata": {
    "collapsed": true
   },
   "outputs": [],
   "source": [
    "import math"
   ]
  },
  {
   "cell_type": "code",
   "execution_count": null,
   "metadata": {
    "collapsed": true
   },
   "outputs": [],
   "source": [
    "func_lst = [math.sin, math.cos, math.exp]\n",
    "\n",
    "# execute each function in list with an argument of '0'\n",
    "list(map(lambda f: f(0), func_lst))"
   ]
  },
  {
   "cell_type": "code",
   "execution_count": null,
   "metadata": {
    "collapsed": true
   },
   "outputs": [],
   "source": [
    "# Define a function using filter to return all the lists whose length is 3 from a nested list. \n",
    "\n",
    "def ex_4(L):\n",
    "    # Your code here\n",
    "    #map(len,L)\n",
    "    return filter(lambda x: len(x)==3, L)\n",
    "\n",
    "L = [[2, 5, 4, 9], [2, 2], [3, 4, 5]]\n",
    "list(ex_4(L))"
   ]
  },
  {
   "cell_type": "code",
   "execution_count": null,
   "metadata": {
    "collapsed": true
   },
   "outputs": [],
   "source": [
    "#For the list, Lst, below, square all its elements.\n",
    "\n",
    "Lst = [4,6,9]\n",
    "list(map(lambda x: x**2, Lst))"
   ]
  },
  {
   "cell_type": "code",
   "execution_count": null,
   "metadata": {
    "collapsed": true
   },
   "outputs": [],
   "source": [
    "#For the nested list, Lst, below, square all the elements in each inner list.\n",
    "\n",
    "Lst = [[1,2,3],[2,3,4],[3,4,5]]\n",
    "\n",
    "f = [[x**2 for x in lst] for lst in Lst]\n",
    "f"
   ]
  },
  {
   "cell_type": "code",
   "execution_count": null,
   "metadata": {
    "collapsed": true
   },
   "outputs": [],
   "source": []
  },
  {
   "cell_type": "markdown",
   "metadata": {},
   "source": [
    "<p><a name=\"misc\"></a></p>\n",
    "# Miscellaneous\n",
    "<a href=\"#sections\">Top</a><br>"
   ]
  },
  {
   "cell_type": "markdown",
   "metadata": {},
   "source": [
    "### Selection and Indexing"
   ]
  },
  {
   "cell_type": "code",
   "execution_count": null,
   "metadata": {
    "collapsed": true
   },
   "outputs": [],
   "source": [
    "import numpy as np\n",
    "#help(np.sort)"
   ]
  },
  {
   "cell_type": "code",
   "execution_count": null,
   "metadata": {
    "collapsed": true
   },
   "outputs": [],
   "source": [
    "x2 = np.random.randint(10, size=(3, 4))  # Two-dimensional array\n",
    "x2"
   ]
  },
  {
   "cell_type": "code",
   "execution_count": null,
   "metadata": {
    "collapsed": true
   },
   "outputs": [],
   "source": [
    "print(x2[:2, :3])  # two rows, three columns\n",
    "print('---'*4)\n",
    "print(x2[::-1, ::-1])\n"
   ]
  },
  {
   "cell_type": "code",
   "execution_count": null,
   "metadata": {
    "collapsed": true
   },
   "outputs": [],
   "source": [
    "print(x2[:, 0])  # first column of x2\n",
    "print(x2[0, :])  # first row of x2"
   ]
  },
  {
   "cell_type": "code",
   "execution_count": null,
   "metadata": {
    "collapsed": true
   },
   "outputs": [],
   "source": [
    "x2_sub_copy = x2[:2, :2].copy()\n",
    "print(x2_sub_copy)"
   ]
  },
  {
   "cell_type": "code",
   "execution_count": null,
   "metadata": {
    "collapsed": true
   },
   "outputs": [],
   "source": [
    "import numpy as np\n",
    "import pandas as pd\n",
    "df1 = pd.DataFrame(np.arange(9).reshape((3, 3)), \n",
    "                   columns=['a', 'b', 'c'],\n",
    "                   index=['One', 'two', 'three'])\n",
    "df1"
   ]
  },
  {
   "cell_type": "code",
   "execution_count": null,
   "metadata": {
    "collapsed": true
   },
   "outputs": [],
   "source": [
    "#select a specific value  (loc only accepts labels)\n",
    "print(df1.loc['two', 'b'])\n",
    "print(df1['b'][1])"
   ]
  },
  {
   "cell_type": "code",
   "execution_count": null,
   "metadata": {
    "collapsed": true
   },
   "outputs": [],
   "source": [
    "df1.loc['two'] # the row that has index two"
   ]
  },
  {
   "cell_type": "code",
   "execution_count": null,
   "metadata": {
    "collapsed": true
   },
   "outputs": [],
   "source": [
    "df1.loc[['two']] # the row that has index two"
   ]
  },
  {
   "cell_type": "code",
   "execution_count": null,
   "metadata": {
    "collapsed": true
   },
   "outputs": [],
   "source": [
    "#fancy indexing (aka conditional selection)\n",
    "df1.loc[df1.a==0,:]"
   ]
  },
  {
   "cell_type": "code",
   "execution_count": null,
   "metadata": {
    "collapsed": true
   },
   "outputs": [],
   "source": [
    "#The code below returns all rows for the columns in which row 'one' is zero.\n",
    "df1.loc[:, df1.loc['One']==0]"
   ]
  },
  {
   "cell_type": "code",
   "execution_count": null,
   "metadata": {
    "collapsed": true
   },
   "outputs": [],
   "source": [
    "#axis =1 means 'columns' not rows\n",
    "df1.drop('b', axis=1)"
   ]
  },
  {
   "cell_type": "markdown",
   "metadata": {},
   "source": [
    "### Dictionary Tricks"
   ]
  },
  {
   "cell_type": "code",
   "execution_count": null,
   "metadata": {
    "collapsed": true
   },
   "outputs": [],
   "source": [
    "#create a dict\n",
    "mydict = {'name': 'david', 'ssn': '213-15-9999', 'rank': 'Colonel'}\n",
    "print(mydict)"
   ]
  },
  {
   "cell_type": "code",
   "execution_count": null,
   "metadata": {
    "collapsed": true
   },
   "outputs": [],
   "source": [
    "#cycle thru dict using a list comprehension\n",
    "keys = sorted(mydict.keys())  #needs to be in a progressive order\n",
    "for key in keys:\n",
    "    print(key, \":\", mydict[key])\n",
    "    "
   ]
  },
  {
   "cell_type": "code",
   "execution_count": null,
   "metadata": {
    "collapsed": true
   },
   "outputs": [],
   "source": [
    "rint(type(kwargs))\n",
    "    keys = sorted(kwargs.keys())\n",
    "    for kw in keys:\n",
    "        print(kw, \":\", kwargs[kw])"
   ]
  },
  {
   "cell_type": "markdown",
   "metadata": {},
   "source": [
    "### Class Objects"
   ]
  },
  {
   "cell_type": "code",
   "execution_count": null,
   "metadata": {
    "collapsed": true
   },
   "outputs": [],
   "source": [
    "class BankAccount(object):\n",
    "    # Your code here\n",
    "    def __init__(self, name, balance):\n",
    "        self.__name = name\n",
    "        self.__balance = balance\n",
    "    \n",
    "    def deposit(self, n):\n",
    "        self.__balance += n\n",
    "        \n",
    "    def withdraw(self, n):\n",
    "        if n > self.__balance:\n",
    "            raise ValueError(\"You don't have enough money!\")\n",
    "        self.__balance -= n\n",
    "        \n",
    "    def check_balance(self):\n",
    "        print('Your current balance is {}'.format(self.__balance))\n",
    "\n",
    "account = BankAccount('Test', 2000)\n",
    "account.check_balance() # 2000        "
   ]
  },
  {
   "cell_type": "code",
   "execution_count": null,
   "metadata": {
    "collapsed": true
   },
   "outputs": [],
   "source": [
    "#### More cleaning tricks\n",
    "\n",
    "def convert_currency(val):\n",
    "    \"\"\"\n",
    "    Convert the string number value to a float\n",
    "     - Remove $\n",
    "     - Remove commas\n",
    "     - Convert to float type\n",
    "    \"\"\"\n",
    "    new_val = val.replace(',','').replace('$', '')\n",
    "    return float(new_val)\n",
    "\n",
    "def convert_percent(val):\n",
    "    \"\"\"\n",
    "    Convert the percentage string to an actual floating point percent\n",
    "    \"\"\"\n",
    "    new_val = val.replace('%', '')\n",
    "    return float(new_val) / 100"
   ]
  },
  {
   "cell_type": "markdown",
   "metadata": {},
   "source": [
    "df['2016'].apply(convert_currency)\n",
    "\n",
    "df['2017'].apply(convert_currency)\n",
    "\n",
    "#alternative with lambda function\n",
    "df['2016'].apply(lambda x: x.replace('$', '').replace(',', '')).astype('float')\n",
    "\n",
    "pd.to_numeric(df['Jan Units'], errors='coerce').fillna(0)\n"
   ]
  },
  {
   "cell_type": "markdown",
   "metadata": {},
   "source": [
    "### List Comprehension\n",
    "\n",
    "- List comprehensions are another notation for defining lists. They mimic the mathematical notation of “set comprehensions” and have a concise syntax.  In one step, list comprehensions can perform the combined operation of any filter and map.\n",
    "- A list comprehension has the form: \n",
    "```\n",
    "[ <expresion> for <element> in <list> if <boolean> ]\n",
    "```\n",
    "- A list comprehension can also use if/else statements.  These types of list comprehensions have a slightly different syntax.\n",
    "\n",
    "- A list comprehension with an if/else statements has the form: \n",
    "```\n",
    "[ <expr1> if <boolean> else <expr2> for <element> in <list> ]\n",
    "```"
   ]
  },
  {
   "cell_type": "code",
   "execution_count": null,
   "metadata": {
    "collapsed": true
   },
   "outputs": [],
   "source": []
  },
  {
   "cell_type": "markdown",
   "metadata": {},
   "source": [
    "<p><a name=\"viz\"></a></p>\n",
    "## Data Vis\n",
    "<a href=\"#sections\">Top</a><br>"
   ]
  },
  {
   "cell_type": "code",
   "execution_count": 14,
   "metadata": {},
   "outputs": [
    {
     "name": "stdout",
     "output_type": "stream",
     "text": [
      "<class 'pandas.core.frame.DataFrame'>\n"
     ]
    },
    {
     "data": {
      "text/html": [
       "<div>\n",
       "<table border=\"1\" class=\"dataframe\">\n",
       "  <thead>\n",
       "    <tr style=\"text-align: right;\">\n",
       "      <th></th>\n",
       "      <th>sepal_length</th>\n",
       "      <th>sepal_width</th>\n",
       "      <th>petal_length</th>\n",
       "      <th>petal_width</th>\n",
       "      <th>species</th>\n",
       "    </tr>\n",
       "  </thead>\n",
       "  <tbody>\n",
       "    <tr>\n",
       "      <th>0</th>\n",
       "      <td>5.1</td>\n",
       "      <td>3.5</td>\n",
       "      <td>1.4</td>\n",
       "      <td>0.2</td>\n",
       "      <td>setosa</td>\n",
       "    </tr>\n",
       "    <tr>\n",
       "      <th>1</th>\n",
       "      <td>4.9</td>\n",
       "      <td>3.0</td>\n",
       "      <td>1.4</td>\n",
       "      <td>0.2</td>\n",
       "      <td>setosa</td>\n",
       "    </tr>\n",
       "    <tr>\n",
       "      <th>2</th>\n",
       "      <td>4.7</td>\n",
       "      <td>3.2</td>\n",
       "      <td>1.3</td>\n",
       "      <td>0.2</td>\n",
       "      <td>setosa</td>\n",
       "    </tr>\n",
       "    <tr>\n",
       "      <th>3</th>\n",
       "      <td>4.6</td>\n",
       "      <td>3.1</td>\n",
       "      <td>1.5</td>\n",
       "      <td>0.2</td>\n",
       "      <td>setosa</td>\n",
       "    </tr>\n",
       "    <tr>\n",
       "      <th>4</th>\n",
       "      <td>5.0</td>\n",
       "      <td>3.6</td>\n",
       "      <td>1.4</td>\n",
       "      <td>0.2</td>\n",
       "      <td>setosa</td>\n",
       "    </tr>\n",
       "  </tbody>\n",
       "</table>\n",
       "</div>"
      ],
      "text/plain": [
       "   sepal_length  sepal_width  petal_length  petal_width species\n",
       "0           5.1          3.5           1.4          0.2  setosa\n",
       "1           4.9          3.0           1.4          0.2  setosa\n",
       "2           4.7          3.2           1.3          0.2  setosa\n",
       "3           4.6          3.1           1.5          0.2  setosa\n",
       "4           5.0          3.6           1.4          0.2  setosa"
      ]
     },
     "execution_count": 14,
     "metadata": {},
     "output_type": "execute_result"
    }
   ],
   "source": [
    "import seaborn as sns\n",
    "\n",
    "iris = sns.load_dataset(\"iris\")\n",
    "print(type(iris))\n",
    "iris.head()"
   ]
  },
  {
   "cell_type": "markdown",
   "metadata": {},
   "source": [
    "### Pair Plots\n",
    "When you generalize joint plots to datasets of larger dimensions, you end up with *pair plots*. This is very useful for exploring correlations between multidimensional data, when you'd like to plot all pairs of values against each other.\n"
   ]
  },
  {
   "cell_type": "code",
   "execution_count": 15,
   "metadata": {},
   "outputs": [],
   "source": [
    "sns.pairplot(iris, hue='species', size=2.5);"
   ]
  },
  {
   "cell_type": "markdown",
   "metadata": {},
   "source": [
    "### Facet Grid\n",
    "Sometimes the best way to view data is via histograms of subsets. Seaborn's ``FacetGrid`` makes this extremely simple.\n",
    "We'll take a look at some data that shows the amount that restaurant staff receive in tips based on various indicator data:"
   ]
  },
  {
   "cell_type": "code",
   "execution_count": 5,
   "metadata": {},
   "outputs": [
    {
     "data": {
      "image/png": "[encoded data removed]",
      "text/plain": [
       "<matplotlib.figure.Figure at 0x7bdc7fe54588>"
      ]
     },
     "metadata": {},
     "output_type": "display_data"
    }
   ],
   "source": [
    "tips = sns.load_dataset('tips')\n",
    "#tips.head()\n",
    "\n",
    "tips['tip_pct'] = 100 * tips['tip'] / tips['total_bill']\n",
    "\n",
    "grid = sns.FacetGrid(tips, row=\"sex\", col=\"time\", margin_titles=True)\n",
    "grid.map(plt.hist, \"tip_pct\", bins=np.linspace(0, 40, 15));"
   ]
  },
  {
   "cell_type": "markdown",
   "metadata": {
    "collapsed": true
   },
   "source": [
    "### Histogram\n",
    "\n",
    "purchase_plot = purchase_patterns['ext price'].hist(bins=20) <br>\n",
    "purchase_plot.set_title(\"Purchase Patterns\") <br>\n",
    "purchase_plot.set_xlabel(\"Order Amount($)\") <br>\n",
    "purchase_plot.set_ylabel(\"Number of orders\") <br>"
   ]
  },
  {
   "cell_type": "markdown",
   "metadata": {},
   "source": [
    "### Setup Basics"
   ]
  },
  {
   "cell_type": "code",
   "execution_count": 2,
   "metadata": {},
   "outputs": [
    {
     "name": "stdout",
     "output_type": "stream",
     "text": [
      "['seaborn-colorblind', 'seaborn', 'seaborn-whitegrid', 'seaborn-darkgrid', 'classic', 'fivethirtyeight', 'seaborn-ticks', 'seaborn-bright', 'seaborn-muted', 'bmh', 'seaborn-poster', 'ggplot', 'dark_background', 'fast', 'seaborn-dark-palette', 'grayscale', 'seaborn-dark', 'seaborn-talk', '_classic_test', 'seaborn-pastel', 'seaborn-deep', 'seaborn-notebook', 'seaborn-paper', 'seaborn-white', 'Solarize_Light2']\n"
     ]
    }
   ],
   "source": [
    "#setup\n",
    "import numpy as np\n",
    "import pandas as pd\n",
    "import matplotlib.pyplot as plt\n",
    "\n",
    "%matplotlib inline\n",
    "print(plt.style.available)\n",
    "plt.style.use('ggplot')"
   ]
  },
  {
   "cell_type": "markdown",
   "metadata": {},
   "source": [
    "<p><a name=\"scrape\"></a></p>\n",
    "## Scraping\n",
    "<a href=\"#sections\">Top</a><br>"
   ]
  },
  {
   "cell_type": "code",
   "execution_count": 1,
   "metadata": {
    "collapsed": true
   },
   "outputs": [],
   "source": [
    "import requests\n",
    "import pandas as pd\n",
    "from bs4 import BeautifulSoup"
   ]
  },
  {
   "cell_type": "code",
   "execution_count": 2,
   "metadata": {},
   "outputs": [
    {
     "data": {
      "text/plain": [
       "'http://h1bdata.info/index.php?em=&job=Data+Scientis&city=&year=All+Years'"
      ]
     },
     "execution_count": 2,
     "metadata": {},
     "output_type": "execute_result"
    }
   ],
   "source": [
    "url = 'http://h1bdata.info/index.php?em=&job=Data+Scientis&city=&year=All+Years'\n",
    "url"
   ]
  },
  {
   "cell_type": "code",
   "execution_count": 3,
   "metadata": {
    "collapsed": true
   },
   "outputs": [],
   "source": [
    "# access website, populate form, get results as html\n",
    "content = requests.get(url).text\n",
    "\n",
    "#type(content)\n",
    "#content"
   ]
  },
  {
   "cell_type": "code",
   "execution_count": 4,
   "metadata": {
    "collapsed": true
   },
   "outputs": [],
   "source": [
    "#process the html code\n",
    "soup = BeautifulSoup(content, \"html.parser\")\n",
    "#type(soup)\n",
    "\n",
    "#go to table body\n",
    "table = soup.find(\"tbody\")"
   ]
  },
  {
   "cell_type": "code",
   "execution_count": 5,
   "metadata": {
    "collapsed": true
   },
   "outputs": [],
   "source": [
    "#fetch Column headers\n",
    "colnames = [tag.text for tag in soup.find(\"thead\").find_all(\"th\")]  \n",
    "\n",
    "#cycle through tags and populate df with contents\n",
    "df = pd.DataFrame(\n",
    "        ((tag.text for tag in lst.find_all(\"td\")) for lst in table.find_all(\"tr\")),\n",
    "        columns = colnames\n",
    "    )\n",
    "  "
   ]
  },
  {
   "cell_type": "code",
   "execution_count": 6,
   "metadata": {},
   "outputs": [
    {
     "data": {
      "text/html": [
       "<div>\n",
       "<style scoped>\n",
       "    .dataframe tbody tr th:only-of-type {\n",
       "        vertical-align: middle;\n",
       "    }\n",
       "\n",
       "    .dataframe tbody tr th {\n",
       "        vertical-align: top;\n",
       "    }\n",
       "\n",
       "    .dataframe thead th {\n",
       "        text-align: right;\n",
       "    }\n",
       "</style>\n",
       "<table border=\"1\" class=\"dataframe\">\n",
       "  <thead>\n",
       "    <tr style=\"text-align: right;\">\n",
       "      <th></th>\n",
       "      <th>EMPLOYER</th>\n",
       "      <th>JOB TITLE</th>\n",
       "      <th>BASE SALARY</th>\n",
       "      <th>LOCATION</th>\n",
       "      <th>SUBMIT DATE</th>\n",
       "      <th>START DATE</th>\n",
       "      <th>CASE STATUS</th>\n",
       "    </tr>\n",
       "  </thead>\n",
       "  <tbody>\n",
       "    <tr>\n",
       "      <th>count</th>\n",
       "      <td>5325</td>\n",
       "      <td>5325</td>\n",
       "      <td>5325</td>\n",
       "      <td>5325</td>\n",
       "      <td>5325</td>\n",
       "      <td>5325</td>\n",
       "      <td>5325</td>\n",
       "    </tr>\n",
       "    <tr>\n",
       "      <th>unique</th>\n",
       "      <td>1789</td>\n",
       "      <td>307</td>\n",
       "      <td>1241</td>\n",
       "      <td>507</td>\n",
       "      <td>946</td>\n",
       "      <td>973</td>\n",
       "      <td>3</td>\n",
       "    </tr>\n",
       "    <tr>\n",
       "      <th>top</th>\n",
       "      <td>MICROSOFT CORPORATION</td>\n",
       "      <td>DATA SCIENTIST</td>\n",
       "      <td>100,000</td>\n",
       "      <td>SAN FRANCISCO, CA</td>\n",
       "      <td>03/14/2018</td>\n",
       "      <td>09/01/2018</td>\n",
       "      <td>CERTIFIED</td>\n",
       "    </tr>\n",
       "    <tr>\n",
       "      <th>freq</th>\n",
       "      <td>312</td>\n",
       "      <td>4512</td>\n",
       "      <td>217</td>\n",
       "      <td>702</td>\n",
       "      <td>82</td>\n",
       "      <td>113</td>\n",
       "      <td>5076</td>\n",
       "    </tr>\n",
       "  </tbody>\n",
       "</table>\n",
       "</div>"
      ],
      "text/plain": [
       "                     EMPLOYER       JOB TITLE BASE SALARY           LOCATION  \\\n",
       "count                    5325            5325        5325               5325   \n",
       "unique                   1789             307        1241                507   \n",
       "top     MICROSOFT CORPORATION  DATA SCIENTIST     100,000  SAN FRANCISCO, CA   \n",
       "freq                      312            4512         217                702   \n",
       "\n",
       "       SUBMIT DATE  START DATE CASE STATUS  \n",
       "count         5325        5325        5325  \n",
       "unique         946         973           3  \n",
       "top     03/14/2018  09/01/2018   CERTIFIED  \n",
       "freq            82         113        5076  "
      ]
     },
     "execution_count": 6,
     "metadata": {},
     "output_type": "execute_result"
    }
   ],
   "source": [
    "df.describe()"
   ]
  },
  {
   "cell_type": "markdown",
   "metadata": {},
   "source": [
    "<p><a name=\"end\"></a></p>\n",
    "\n",
    "<a href=\"#sections\">Top</a><br>\n",
    "------new code here------"
   ]
  },
  {
   "cell_type": "code",
   "execution_count": null,
   "metadata": {
    "collapsed": true
   },
   "outputs": [],
   "source": []
  }
 ],
 "metadata": {
  "kernelspec": {
   "display_name": "Python 3",
   "language": "python",
   "name": "python3"
  },
  "language_info": {
   "codemirror_mode": {
    "name": "ipython",
    "version": 3
   },
   "file_extension": ".py",
   "mimetype": "text/x-python",
   "name": "python",
   "nbconvert_exporter": "python",
   "pygments_lexer": "ipython3",
   "version": "3.5.3"
  }
 },
 "nbformat": 4,
 "nbformat_minor": 2
}
