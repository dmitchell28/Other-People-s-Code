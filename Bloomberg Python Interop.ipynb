{
 "cells": [
  {
   "cell_type": "code",
   "execution_count": null,
   "metadata": {},
   "outputs": [],
   "source": []
  },
  {
   "cell_type": "markdown",
   "metadata": {},
   "source": [
    "<p><a name=\"basic\"></a></p>\n",
    "## What Packages do I have Installed"
   ]
  },
  {
   "cell_type": "code",
   "execution_count": 1,
   "metadata": {},
   "outputs": [],
   "source": [
    "import pip"
   ]
  },
  {
   "cell_type": "code",
   "execution_count": 2,
   "metadata": {},
   "outputs": [
    {
     "name": "stdout",
     "output_type": "stream",
     "text": [
      "alabaster==0.7.10\n",
      "anaconda-client==1.6.9\n",
      "anaconda-navigator==1.7.0\n",
      "anaconda-project==0.8.2\n",
      "asn1crypto==0.24.0\n",
      "astroid==1.6.1\n",
      "astropy==2.0.3\n",
      "attrs==17.4.0\n",
      "Babel==2.5.3\n",
      "backports.shutil-get-terminal-size==1.0.0\n",
      "beautifulsoup4==4.6.0\n",
      "bitarray==0.8.1\n",
      "bkcharts==0.2\n",
      "blaze==0.11.3\n",
      "bleach==2.1.2\n",
      "blpapi==3.9.1\n",
      "bokeh==0.12.13\n",
      "boto==2.48.0\n",
      "Bottleneck==1.2.1\n",
      "bqplot==0.11.6\n",
      "certifi==2018.1.18\n",
      "cffi==1.11.4\n",
      "chardet==3.0.4\n",
      "click==6.7\n",
      "cloudpickle==0.5.2\n",
      "clyent==1.2.2\n",
      "colorama==0.3.9\n",
      "comtypes==1.1.4\n",
      "conda==4.4.10\n",
      "conda-build==3.4.1\n",
      "conda-verify==2.0.0\n",
      "contextlib2==0.5.5\n",
      "cryptography==2.1.4\n",
      "cycler==0.10.0\n",
      "Cython==0.27.3\n",
      "cytoolz==0.9.0\n",
      "dask==0.16.1\n",
      "datashape==0.5.4\n",
      "decorator==4.2.1\n",
      "distributed==1.20.2\n",
      "docutils==0.14\n",
      "entrypoints==0.2.3\n",
      "et-xmlfile==1.0.1\n",
      "fastcache==1.0.2\n",
      "filelock==2.0.13\n",
      "Flask==0.12.2\n",
      "Flask-Cors==3.0.3\n",
      "gevent==1.2.2\n",
      "glob2==0.6\n",
      "greenlet==0.4.12\n",
      "h5py==2.7.1\n",
      "heapdict==1.0.0\n",
      "html5lib==1.0.1\n",
      "idna==2.6\n",
      "imageio==2.2.0\n",
      "imagesize==0.7.1\n",
      "ipython==6.2.1\n",
      "ipython-genutils==0.2.0\n",
      "ipywidgets==7.1.1\n",
      "isort==4.2.15\n",
      "itsdangerous==0.24\n",
      "jdcal==1.3\n",
      "jedi==0.11.1\n",
      "Jinja2==2.10\n",
      "jsonschema==2.6.0\n",
      "jupyter==1.0.0\n",
      "jupyter-client==5.2.2\n",
      "jupyter-console==5.2.0\n",
      "jupyter-contrib-core==0.3.3\n",
      "jupyter-contrib-nbextensions==0.5.1\n",
      "jupyter-core==4.4.0\n",
      "jupyter-highlight-selected-word==0.2.0\n",
      "jupyter-latex-envs==1.4.6\n",
      "jupyter-nbextensions-configurator==0.4.1\n",
      "jupyterlab==0.31.4\n",
      "jupyterlab-launcher==0.10.2\n",
      "lazy-object-proxy==1.3.1\n",
      "llvmlite==0.21.0\n",
      "locket==0.2.0\n",
      "lxml==4.1.1\n",
      "MarkupSafe==1.0\n",
      "matplotlib==2.1.2\n",
      "mccabe==0.6.1\n",
      "menuinst==1.4.11\n",
      "mistune==0.8.3\n",
      "mpmath==1.0.0\n",
      "msgpack-python==0.5.1\n",
      "multipledispatch==0.4.9\n",
      "navigator-updater==0.1.0\n",
      "nbconvert==5.3.1\n",
      "nbformat==4.4.0\n",
      "networkx==2.1\n",
      "nltk==3.2.5\n",
      "nose==1.3.7\n",
      "notebook==5.4.0\n",
      "numba==0.36.2\n",
      "numexpr==2.6.4\n",
      "numpy==1.14.0\n",
      "numpydoc==0.7.0\n",
      "odo==0.5.1\n",
      "olefile==0.45.1\n",
      "openpyxl==2.4.10\n",
      "packaging==16.8\n",
      "pandas==0.22.0\n",
      "pandocfilters==1.4.2\n",
      "parso==0.1.1\n",
      "partd==0.3.8\n",
      "path.py==10.5\n",
      "pathlib2==2.3.0\n",
      "patsy==0.5.0\n",
      "pdblp==0.1.8\n",
      "pep8==1.7.1\n",
      "pickleshare==0.7.4\n",
      "Pillow==5.0.0\n",
      "pkginfo==1.4.1\n",
      "pluggy==0.6.0\n",
      "ply==3.10\n",
      "prompt-toolkit==1.0.15\n",
      "psutil==5.4.3\n",
      "py==1.5.2\n",
      "pycodestyle==2.3.1\n",
      "pycosat==0.6.3\n",
      "pycparser==2.18\n",
      "pycrypto==2.6.1\n",
      "pycurl==7.43.0.1\n",
      "pyflakes==1.6.0\n",
      "Pygments==2.2.0\n",
      "pylint==1.8.2\n",
      "pyodbc==4.0.22\n",
      "pyOpenSSL==17.5.0\n",
      "pyparsing==2.2.0\n",
      "PySocks==1.6.7\n",
      "pytest==3.3.2\n",
      "python-dateutil==2.6.1\n",
      "pytz==2017.3\n",
      "PyWavelets==0.5.2\n",
      "pywin32==222\n",
      "pywinpty==0.5\n",
      "PyYAML==3.12\n",
      "pyzmq==16.0.3\n",
      "QtAwesome==0.4.4\n",
      "qtconsole==4.3.1\n",
      "QtPy==1.3.1\n",
      "requests==2.18.4\n",
      "rope==0.10.7\n",
      "ruamel-yaml==0.15.35\n",
      "scikit-image==0.13.1\n",
      "scikit-learn==0.19.1\n",
      "scipy==1.0.0\n",
      "seaborn==0.8.1\n",
      "Send2Trash==1.4.2\n",
      "simplegeneric==0.8.1\n",
      "singledispatch==3.4.0.3\n",
      "six==1.11.0\n",
      "snowballstemmer==1.2.1\n",
      "sortedcollections==0.5.3\n",
      "sortedcontainers==1.5.9\n",
      "Sphinx==1.6.6\n",
      "sphinxcontrib-websupport==1.0.1\n",
      "spyder==3.2.6\n",
      "SQLAlchemy==1.2.1\n",
      "statsmodels==0.8.0\n",
      "sympy==1.1.1\n",
      "tables==3.4.2\n",
      "tblib==1.3.2\n",
      "terminado==0.8.1\n",
      "testpath==0.3.1\n",
      "toolz==0.9.0\n",
      "tornado==4.5.3\n",
      "traitlets==4.3.2\n",
      "traittypes==0.2.1\n",
      "typing==3.6.2\n",
      "unicodecsv==0.14.1\n",
      "urllib3==1.22\n",
      "wcwidth==0.1.7\n",
      "webencodings==0.5.1\n",
      "Werkzeug==0.14.1\n",
      "widgetsnbextension==3.1.0\n",
      "win-inet-pton==1.0.1\n",
      "win-unicode-console==0.5\n",
      "wincertstore==0.2\n",
      "wrapt==1.10.11\n",
      "xlrd==1.1.0\n",
      "XlsxWriter==1.0.2\n",
      "xlwings==0.11.5\n",
      "xlwt==1.3.0\n",
      "zict==0.1.3\n"
     ]
    },
    {
     "name": "stderr",
     "output_type": "stream",
     "text": [
      "You are using pip version 9.0.1, however version 20.3.3 is available.\n",
      "You should consider upgrading via the 'python -m pip install --upgrade pip' command.\n"
     ]
    }
   ],
   "source": [
    "!pip freeze"
   ]
  },
  {
   "cell_type": "code",
   "execution_count": null,
   "metadata": {},
   "outputs": [],
   "source": []
  },
  {
   "cell_type": "markdown",
   "metadata": {},
   "source": [
    "<p><a name=\"explore\"></a></p>\n",
    "## Bloomberg Interop via python wrapper\n",
    "#### Accessing Bloomberg Desktop API directly"
   ]
  },
  {
   "cell_type": "markdown",
   "metadata": {},
   "source": [
    "INSTRUCTIONS FOR INSTALLING THE LIBRARY\n",
    "1. https://www.bloomberg.com/professional/support/api-library/\n",
    "- download the Python Supported Release\n",
    "\n",
    "2. go to command line and run: pip install pdblp"
   ]
  },
  {
   "cell_type": "code",
   "execution_count": 3,
   "metadata": {},
   "outputs": [],
   "source": [
    "import pandas as pd\n",
    "import pdblp #pandas wrapper to Bloomberg API. also xbbg & pybbg are popular"
   ]
  },
  {
   "cell_type": "code",
   "execution_count": 4,
   "metadata": {},
   "outputs": [
    {
     "name": "stderr",
     "output_type": "stream",
     "text": [
      "pdblp.pdblp:INFO:Event Type: 'SESSION_STATUS'\n",
      "pdblp.pdblp:INFO:Message Received:\n",
      "SessionConnectionUp = {\n",
      "    server = \"localhost:8194\"\n",
      "    encryptionStatus = \"Clear\"\n",
      "    compressionStatus = \"Uncompressed\"\n",
      "}\n",
      "\n",
      "pdblp.pdblp:INFO:Event Type: 'SESSION_STATUS'\n",
      "pdblp.pdblp:INFO:Message Received:\n",
      "SessionStarted = {\n",
      "    initialEndpoints[] = {\n",
      "        initialEndpoints = {\n",
      "            address = \"localhost:8194\"\n",
      "        }\n",
      "    }\n",
      "}\n",
      "\n",
      "pdblp.pdblp:INFO:Event Type: 'SERVICE_STATUS'\n",
      "pdblp.pdblp:INFO:Message Received:\n",
      "ServiceOpened = {\n",
      "    serviceName = \"//blp/refdata\"\n",
      "}\n",
      "\n",
      "pdblp.pdblp:INFO:Event Type: 'SERVICE_STATUS'\n",
      "pdblp.pdblp:INFO:Message Received:\n",
      "ServiceOpened = {\n",
      "    serviceName = \"//blp/exrsvc\"\n",
      "}\n",
      "\n"
     ]
    },
    {
     "data": {
      "text/plain": [
       "<pdblp.pdblp.BCon at 0x18168585a20>"
      ]
     },
     "execution_count": 4,
     "metadata": {},
     "output_type": "execute_result"
    }
   ],
   "source": [
    "con = pdblp.BCon(debug=True, port=8194)\n",
    "con.start()"
   ]
  },
  {
   "cell_type": "code",
   "execution_count": 5,
   "metadata": {},
   "outputs": [],
   "source": [
    "con.debug = False  #turn off 'verbose' mode"
   ]
  },
  {
   "cell_type": "code",
   "execution_count": 14,
   "metadata": {},
   "outputs": [],
   "source": [
    "#historical data via 'bdh'\n",
    "tickers = ['QCOM US Equity', 'AAPL US Equity', 'XIU CN Equity']\n",
    "fields = ['PX_LAST', 'DX_SAF', 'VL158']  #borrow cost p/a and 3mo IVOL\n",
    "start = '20200105'\n",
    "end = '20200805'"
   ]
  },
  {
   "cell_type": "code",
   "execution_count": 15,
   "metadata": {},
   "outputs": [],
   "source": [
    "response = con.bdh(tickers, fields, start, end)"
   ]
  },
  {
   "cell_type": "code",
   "execution_count": 16,
   "metadata": {},
   "outputs": [
    {
     "data": {
      "text/plain": [
       "pandas.core.frame.DataFrame"
      ]
     },
     "execution_count": 16,
     "metadata": {},
     "output_type": "execute_result"
    }
   ],
   "source": [
    "type(response)"
   ]
  },
  {
   "cell_type": "code",
   "execution_count": 17,
   "metadata": {
    "scrolled": true
   },
   "outputs": [
    {
     "data": {
      "text/html": [
       "<div>\n",
       "<style scoped>\n",
       "    .dataframe tbody tr th:only-of-type {\n",
       "        vertical-align: middle;\n",
       "    }\n",
       "\n",
       "    .dataframe tbody tr th {\n",
       "        vertical-align: top;\n",
       "    }\n",
       "\n",
       "    .dataframe thead tr th {\n",
       "        text-align: left;\n",
       "    }\n",
       "\n",
       "    .dataframe thead tr:last-of-type th {\n",
       "        text-align: right;\n",
       "    }\n",
       "</style>\n",
       "<table border=\"1\" class=\"dataframe\">\n",
       "  <thead>\n",
       "    <tr>\n",
       "      <th>ticker</th>\n",
       "      <th colspan=\"3\" halign=\"left\">QCOM US Equity</th>\n",
       "      <th colspan=\"3\" halign=\"left\">AAPL US Equity</th>\n",
       "      <th colspan=\"3\" halign=\"left\">XIU CN Equity</th>\n",
       "    </tr>\n",
       "    <tr>\n",
       "      <th>field</th>\n",
       "      <th>PX_LAST</th>\n",
       "      <th>DX_SAF</th>\n",
       "      <th>VL158</th>\n",
       "      <th>PX_LAST</th>\n",
       "      <th>DX_SAF</th>\n",
       "      <th>VL158</th>\n",
       "      <th>PX_LAST</th>\n",
       "      <th>DX_SAF</th>\n",
       "      <th>VL158</th>\n",
       "    </tr>\n",
       "    <tr>\n",
       "      <th>date</th>\n",
       "      <th></th>\n",
       "      <th></th>\n",
       "      <th></th>\n",
       "      <th></th>\n",
       "      <th></th>\n",
       "      <th></th>\n",
       "      <th></th>\n",
       "      <th></th>\n",
       "      <th></th>\n",
       "    </tr>\n",
       "  </thead>\n",
       "  <tbody>\n",
       "    <tr>\n",
       "      <th>2020-07-30</th>\n",
       "      <td>107.19</td>\n",
       "      <td>24.974</td>\n",
       "      <td>37.0650</td>\n",
       "      <td>96.190</td>\n",
       "      <td>112.592</td>\n",
       "      <td>31.4088</td>\n",
       "      <td>24.7280</td>\n",
       "      <td>75.0</td>\n",
       "      <td>29.6814</td>\n",
       "    </tr>\n",
       "    <tr>\n",
       "      <th>2020-07-31</th>\n",
       "      <td>105.61</td>\n",
       "      <td>25.143</td>\n",
       "      <td>36.6846</td>\n",
       "      <td>106.260</td>\n",
       "      <td>110.736</td>\n",
       "      <td>30.8887</td>\n",
       "      <td>24.5200</td>\n",
       "      <td>75.0</td>\n",
       "      <td>21.3565</td>\n",
       "    </tr>\n",
       "    <tr>\n",
       "      <th>2020-08-03</th>\n",
       "      <td>109.59</td>\n",
       "      <td>23.884</td>\n",
       "      <td>38.1381</td>\n",
       "      <td>108.938</td>\n",
       "      <td>114.368</td>\n",
       "      <td>34.3100</td>\n",
       "      <td>NaN</td>\n",
       "      <td>75.0</td>\n",
       "      <td>NaN</td>\n",
       "    </tr>\n",
       "    <tr>\n",
       "      <th>2020-08-04</th>\n",
       "      <td>110.95</td>\n",
       "      <td>23.205</td>\n",
       "      <td>37.6730</td>\n",
       "      <td>109.665</td>\n",
       "      <td>104.396</td>\n",
       "      <td>33.8754</td>\n",
       "      <td>24.7900</td>\n",
       "      <td>75.0</td>\n",
       "      <td>20.8693</td>\n",
       "    </tr>\n",
       "    <tr>\n",
       "      <th>2020-08-05</th>\n",
       "      <td>111.39</td>\n",
       "      <td>24.396</td>\n",
       "      <td>37.2934</td>\n",
       "      <td>110.063</td>\n",
       "      <td>108.932</td>\n",
       "      <td>32.9420</td>\n",
       "      <td>24.9977</td>\n",
       "      <td>75.0</td>\n",
       "      <td>19.4612</td>\n",
       "    </tr>\n",
       "  </tbody>\n",
       "</table>\n",
       "</div>"
      ],
      "text/plain": [
       "ticker     QCOM US Equity                  AAPL US Equity                    \\\n",
       "field             PX_LAST  DX_SAF    VL158        PX_LAST   DX_SAF    VL158   \n",
       "date                                                                          \n",
       "2020-07-30         107.19  24.974  37.0650         96.190  112.592  31.4088   \n",
       "2020-07-31         105.61  25.143  36.6846        106.260  110.736  30.8887   \n",
       "2020-08-03         109.59  23.884  38.1381        108.938  114.368  34.3100   \n",
       "2020-08-04         110.95  23.205  37.6730        109.665  104.396  33.8754   \n",
       "2020-08-05         111.39  24.396  37.2934        110.063  108.932  32.9420   \n",
       "\n",
       "ticker     XIU CN Equity                  \n",
       "field            PX_LAST DX_SAF    VL158  \n",
       "date                                      \n",
       "2020-07-30       24.7280   75.0  29.6814  \n",
       "2020-07-31       24.5200   75.0  21.3565  \n",
       "2020-08-03           NaN   75.0      NaN  \n",
       "2020-08-04       24.7900   75.0  20.8693  \n",
       "2020-08-05       24.9977   75.0  19.4612  "
      ]
     },
     "execution_count": 17,
     "metadata": {},
     "output_type": "execute_result"
    }
   ],
   "source": [
    "response.tail()"
   ]
  },
  {
   "cell_type": "markdown",
   "metadata": {},
   "source": [
    "#### Chart Prices (same axis)"
   ]
  },
  {
   "cell_type": "code",
   "execution_count": 18,
   "metadata": {},
   "outputs": [],
   "source": [
    "%matplotlib inline"
   ]
  },
  {
   "cell_type": "code",
   "execution_count": 19,
   "metadata": {
    "scrolled": false
   },
   "outputs": [
    {
     "data": {
      "text/plain": [
       "<matplotlib.axes._subplots.AxesSubplot at 0x1816a17d710>"
      ]
     },
     "execution_count": 19,
     "metadata": {},
     "output_type": "execute_result"
    },
    {
     "data": {
      "image/png": "[encoded data removed]",
      "text/plain": [
       "<matplotlib.figure.Figure at 0x1816a17dfd0>"
      ]
     },
     "metadata": {},
     "output_type": "display_data"
    }
   ],
   "source": [
    "response.filter(like=\"PX_LAST\").plot()"
   ]
  },
  {
   "cell_type": "code",
   "execution_count": 13,
   "metadata": {},
   "outputs": [
    {
     "data": {
      "text/plain": [
       "[('QCOM US Equity', 'PX_LAST'),\n",
       " ('QCOM US Equity', 'DX_SAF'),\n",
       " ('QCOM US Equity', 'VL158'),\n",
       " ('AAPL US Equity', 'PX_LAST'),\n",
       " ('AAPL US Equity', 'DX_SAF'),\n",
       " ('AAPL US Equity', 'VL158'),\n",
       " ('XIU CN Equity', 'PX_LAST'),\n",
       " ('XIU CN Equity', 'DX_SAF'),\n",
       " ('XIU CN Equity', 'VL158')]"
      ]
     },
     "execution_count": 13,
     "metadata": {},
     "output_type": "execute_result"
    }
   ],
   "source": [
    "list(response.columns) #format for columns"
   ]
  },
  {
   "cell_type": "markdown",
   "metadata": {},
   "source": [
    "### extract one Series (column) from DataFrame"
   ]
  },
  {
   "cell_type": "code",
   "execution_count": 27,
   "metadata": {},
   "outputs": [
    {
     "data": {
      "text/plain": [
       "date\n",
       "2020-07-30    24.7280\n",
       "2020-07-31    24.5200\n",
       "2020-08-03        NaN\n",
       "2020-08-04    24.7900\n",
       "2020-08-05    24.9977\n",
       "Name: (XIU CN Equity, PX_LAST), dtype: float64"
      ]
     },
     "execution_count": 27,
     "metadata": {},
     "output_type": "execute_result"
    }
   ],
   "source": [
    "spycloses = response[('XIU CN Equity', 'PX_LAST')]  \n",
    "spycloses.tail()"
   ]
  },
  {
   "cell_type": "code",
   "execution_count": 28,
   "metadata": {
    "scrolled": true
   },
   "outputs": [
    {
     "data": {
      "text/plain": [
       "<matplotlib.axes._subplots.AxesSubplot at 0x1816a3925f8>"
      ]
     },
     "execution_count": 28,
     "metadata": {},
     "output_type": "execute_result"
    },
    {
     "data": {
      "image/png": "[encoded data removed]",
      "text/plain": [
       "<matplotlib.figure.Figure at 0x1816a3ad7f0>"
      ]
     },
     "metadata": {},
     "output_type": "display_data"
    }
   ],
   "source": [
    "%matplotlib inline\n",
    "spycloses.plot()   #chart it"
   ]
  },
  {
   "cell_type": "code",
   "execution_count": 29,
   "metadata": {},
   "outputs": [
    {
     "data": {
      "text/plain": [
       "pandas.core.series.Series"
      ]
     },
     "execution_count": 29,
     "metadata": {},
     "output_type": "execute_result"
    }
   ],
   "source": [
    "type(spycloses)  #confirm dtype"
   ]
  },
  {
   "cell_type": "code",
   "execution_count": 30,
   "metadata": {},
   "outputs": [],
   "source": [
    "spx_df = pd.DataFrame(spycloses) #confirm to dataframe with dates as index"
   ]
  },
  {
   "cell_type": "code",
   "execution_count": 31,
   "metadata": {},
   "outputs": [
    {
     "data": {
      "text/html": [
       "<div>\n",
       "<style scoped>\n",
       "    .dataframe tbody tr th:only-of-type {\n",
       "        vertical-align: middle;\n",
       "    }\n",
       "\n",
       "    .dataframe tbody tr th {\n",
       "        vertical-align: top;\n",
       "    }\n",
       "\n",
       "    .dataframe thead tr th {\n",
       "        text-align: left;\n",
       "    }\n",
       "\n",
       "    .dataframe thead tr:last-of-type th {\n",
       "        text-align: right;\n",
       "    }\n",
       "</style>\n",
       "<table border=\"1\" class=\"dataframe\">\n",
       "  <thead>\n",
       "    <tr>\n",
       "      <th></th>\n",
       "      <th>XIU CN Equity</th>\n",
       "    </tr>\n",
       "    <tr>\n",
       "      <th></th>\n",
       "      <th>PX_LAST</th>\n",
       "    </tr>\n",
       "    <tr>\n",
       "      <th>date</th>\n",
       "      <th></th>\n",
       "    </tr>\n",
       "  </thead>\n",
       "  <tbody>\n",
       "    <tr>\n",
       "      <th>2020-07-30</th>\n",
       "      <td>24.7280</td>\n",
       "    </tr>\n",
       "    <tr>\n",
       "      <th>2020-07-31</th>\n",
       "      <td>24.5200</td>\n",
       "    </tr>\n",
       "    <tr>\n",
       "      <th>2020-08-03</th>\n",
       "      <td>NaN</td>\n",
       "    </tr>\n",
       "    <tr>\n",
       "      <th>2020-08-04</th>\n",
       "      <td>24.7900</td>\n",
       "    </tr>\n",
       "    <tr>\n",
       "      <th>2020-08-05</th>\n",
       "      <td>24.9977</td>\n",
       "    </tr>\n",
       "  </tbody>\n",
       "</table>\n",
       "</div>"
      ],
      "text/plain": [
       "           XIU CN Equity\n",
       "                 PX_LAST\n",
       "date                    \n",
       "2020-07-30       24.7280\n",
       "2020-07-31       24.5200\n",
       "2020-08-03           NaN\n",
       "2020-08-04       24.7900\n",
       "2020-08-05       24.9977"
      ]
     },
     "execution_count": 31,
     "metadata": {},
     "output_type": "execute_result"
    }
   ],
   "source": [
    "spx_df.tail()"
   ]
  },
  {
   "cell_type": "markdown",
   "metadata": {},
   "source": [
    "# Non-Equity Examples"
   ]
  },
  {
   "cell_type": "code",
   "execution_count": 32,
   "metadata": {},
   "outputs": [
    {
     "name": "stdout",
     "output_type": "stream",
     "text": [
      "          ticker      field       value\n",
      "0  AUDUSD Curncy  SETTLE_DT  2021-01-27\n"
     ]
    }
   ],
   "source": [
    "# individual datapoint using 'ref' (similar to 'bdp')\n",
    "response2 = con.ref(['AUDUSD Curncy'], 'SETTLE_DT')\n",
    "print(response2)"
   ]
  },
  {
   "cell_type": "code",
   "execution_count": 33,
   "metadata": {},
   "outputs": [
    {
     "name": "stdout",
     "output_type": "stream",
     "text": [
      "      ticker  field    value\n",
      "0  NDX Index  VL137  22.7313\n"
     ]
    }
   ],
   "source": [
    "response3 = con.ref(['NDX Index'], 'VL137')\n",
    "print(response3)"
   ]
  },
  {
   "cell_type": "code",
   "execution_count": 34,
   "metadata": {},
   "outputs": [
    {
     "data": {
      "text/plain": [
       "22.7313"
      ]
     },
     "execution_count": 34,
     "metadata": {},
     "output_type": "execute_result"
    }
   ],
   "source": [
    "response3.value[0]"
   ]
  },
  {
   "cell_type": "code",
   "execution_count": null,
   "metadata": {},
   "outputs": [],
   "source": []
  },
  {
   "cell_type": "code",
   "execution_count": 35,
   "metadata": {},
   "outputs": [],
   "source": [
    "response = con.bsrch(\"FI:ytd_green\")"
   ]
  },
  {
   "cell_type": "code",
   "execution_count": 36,
   "metadata": {},
   "outputs": [
    {
     "data": {
      "text/html": [
       "<div>\n",
       "<style scoped>\n",
       "    .dataframe tbody tr th:only-of-type {\n",
       "        vertical-align: middle;\n",
       "    }\n",
       "\n",
       "    .dataframe tbody tr th {\n",
       "        vertical-align: top;\n",
       "    }\n",
       "\n",
       "    .dataframe thead th {\n",
       "        text-align: right;\n",
       "    }\n",
       "</style>\n",
       "<table border=\"1\" class=\"dataframe\">\n",
       "  <thead>\n",
       "    <tr style=\"text-align: right;\">\n",
       "      <th></th>\n",
       "      <th>0</th>\n",
       "    </tr>\n",
       "  </thead>\n",
       "  <tbody>\n",
       "    <tr>\n",
       "      <th>0</th>\n",
       "      <td>BK814876 Corp</td>\n",
       "    </tr>\n",
       "    <tr>\n",
       "      <th>1</th>\n",
       "      <td>BM910716 Corp</td>\n",
       "    </tr>\n",
       "    <tr>\n",
       "      <th>2</th>\n",
       "      <td>ZO309983 Corp</td>\n",
       "    </tr>\n",
       "    <tr>\n",
       "      <th>3</th>\n",
       "      <td>BK398989 Corp</td>\n",
       "    </tr>\n",
       "    <tr>\n",
       "      <th>4</th>\n",
       "      <td>BK883764 Corp</td>\n",
       "    </tr>\n",
       "    <tr>\n",
       "      <th>5</th>\n",
       "      <td>BM404455 Corp</td>\n",
       "    </tr>\n",
       "    <tr>\n",
       "      <th>6</th>\n",
       "      <td>BK499158 Corp</td>\n",
       "    </tr>\n",
       "    <tr>\n",
       "      <th>7</th>\n",
       "      <td>BM664134 Corp</td>\n",
       "    </tr>\n",
       "    <tr>\n",
       "      <th>8</th>\n",
       "      <td>BG345649 Corp</td>\n",
       "    </tr>\n",
       "    <tr>\n",
       "      <th>9</th>\n",
       "      <td>BM722615 Corp</td>\n",
       "    </tr>\n",
       "    <tr>\n",
       "      <th>10</th>\n",
       "      <td>ZO514532 Corp</td>\n",
       "    </tr>\n",
       "    <tr>\n",
       "      <th>11</th>\n",
       "      <td>ZO813518 Corp</td>\n",
       "    </tr>\n",
       "    <tr>\n",
       "      <th>12</th>\n",
       "      <td>BJ482331 Corp</td>\n",
       "    </tr>\n",
       "    <tr>\n",
       "      <th>13</th>\n",
       "      <td>BK312429 Corp</td>\n",
       "    </tr>\n",
       "    <tr>\n",
       "      <th>14</th>\n",
       "      <td>BN015528 Corp</td>\n",
       "    </tr>\n",
       "    <tr>\n",
       "      <th>15</th>\n",
       "      <td>BM627998 Corp</td>\n",
       "    </tr>\n",
       "    <tr>\n",
       "      <th>16</th>\n",
       "      <td>ZO473417 Corp</td>\n",
       "    </tr>\n",
       "    <tr>\n",
       "      <th>17</th>\n",
       "      <td>ZP605250 Corp</td>\n",
       "    </tr>\n",
       "    <tr>\n",
       "      <th>18</th>\n",
       "      <td>BG680220 Corp</td>\n",
       "    </tr>\n",
       "    <tr>\n",
       "      <th>19</th>\n",
       "      <td>ZO703743 Corp</td>\n",
       "    </tr>\n",
       "    <tr>\n",
       "      <th>20</th>\n",
       "      <td>ZO425474 Corp</td>\n",
       "    </tr>\n",
       "    <tr>\n",
       "      <th>21</th>\n",
       "      <td>ZO037312 Corp</td>\n",
       "    </tr>\n",
       "    <tr>\n",
       "      <th>22</th>\n",
       "      <td>BG011532 Corp</td>\n",
       "    </tr>\n",
       "    <tr>\n",
       "      <th>23</th>\n",
       "      <td>BK877754 Corp</td>\n",
       "    </tr>\n",
       "    <tr>\n",
       "      <th>24</th>\n",
       "      <td>BM341884 Corp</td>\n",
       "    </tr>\n",
       "    <tr>\n",
       "      <th>25</th>\n",
       "      <td>BK892754 Corp</td>\n",
       "    </tr>\n",
       "    <tr>\n",
       "      <th>26</th>\n",
       "      <td>ZO621438 Corp</td>\n",
       "    </tr>\n",
       "    <tr>\n",
       "      <th>27</th>\n",
       "      <td>BM664110 Corp</td>\n",
       "    </tr>\n",
       "    <tr>\n",
       "      <th>28</th>\n",
       "      <td>ZO531975 Corp</td>\n",
       "    </tr>\n",
       "    <tr>\n",
       "      <th>29</th>\n",
       "      <td>ZO479457 Corp</td>\n",
       "    </tr>\n",
       "    <tr>\n",
       "      <th>...</th>\n",
       "      <td>...</td>\n",
       "    </tr>\n",
       "    <tr>\n",
       "      <th>128</th>\n",
       "      <td>BJ920124 Corp</td>\n",
       "    </tr>\n",
       "    <tr>\n",
       "      <th>129</th>\n",
       "      <td>BK290940 Corp</td>\n",
       "    </tr>\n",
       "    <tr>\n",
       "      <th>130</th>\n",
       "      <td>BM235753 Corp</td>\n",
       "    </tr>\n",
       "    <tr>\n",
       "      <th>131</th>\n",
       "      <td>BK508613 Corp</td>\n",
       "    </tr>\n",
       "    <tr>\n",
       "      <th>132</th>\n",
       "      <td>BJ263136 Corp</td>\n",
       "    </tr>\n",
       "    <tr>\n",
       "      <th>133</th>\n",
       "      <td>BJ820609 Corp</td>\n",
       "    </tr>\n",
       "    <tr>\n",
       "      <th>134</th>\n",
       "      <td>BK678579 Corp</td>\n",
       "    </tr>\n",
       "    <tr>\n",
       "      <th>135</th>\n",
       "      <td>BJ374602 Corp</td>\n",
       "    </tr>\n",
       "    <tr>\n",
       "      <th>136</th>\n",
       "      <td>BJ604202 Corp</td>\n",
       "    </tr>\n",
       "    <tr>\n",
       "      <th>137</th>\n",
       "      <td>BH844759 Corp</td>\n",
       "    </tr>\n",
       "    <tr>\n",
       "      <th>138</th>\n",
       "      <td>ZO515061 Corp</td>\n",
       "    </tr>\n",
       "    <tr>\n",
       "      <th>139</th>\n",
       "      <td>ZP761067 Corp</td>\n",
       "    </tr>\n",
       "    <tr>\n",
       "      <th>140</th>\n",
       "      <td>BM607027 Corp</td>\n",
       "    </tr>\n",
       "    <tr>\n",
       "      <th>141</th>\n",
       "      <td>BK409403 Corp</td>\n",
       "    </tr>\n",
       "    <tr>\n",
       "      <th>142</th>\n",
       "      <td>BK880743 Corp</td>\n",
       "    </tr>\n",
       "    <tr>\n",
       "      <th>143</th>\n",
       "      <td>ZP479931 Corp</td>\n",
       "    </tr>\n",
       "    <tr>\n",
       "      <th>144</th>\n",
       "      <td>ZP480146 Corp</td>\n",
       "    </tr>\n",
       "    <tr>\n",
       "      <th>145</th>\n",
       "      <td>ZO064972 Corp</td>\n",
       "    </tr>\n",
       "    <tr>\n",
       "      <th>146</th>\n",
       "      <td>ZO957837 Corp</td>\n",
       "    </tr>\n",
       "    <tr>\n",
       "      <th>147</th>\n",
       "      <td>ZO404037 Corp</td>\n",
       "    </tr>\n",
       "    <tr>\n",
       "      <th>148</th>\n",
       "      <td>BM422439 Corp</td>\n",
       "    </tr>\n",
       "    <tr>\n",
       "      <th>149</th>\n",
       "      <td>BH811629 Corp</td>\n",
       "    </tr>\n",
       "    <tr>\n",
       "      <th>150</th>\n",
       "      <td>BM027057 Corp</td>\n",
       "    </tr>\n",
       "    <tr>\n",
       "      <th>151</th>\n",
       "      <td>ZO858908 Corp</td>\n",
       "    </tr>\n",
       "    <tr>\n",
       "      <th>152</th>\n",
       "      <td>BH810514 Corp</td>\n",
       "    </tr>\n",
       "    <tr>\n",
       "      <th>153</th>\n",
       "      <td>BK318383 Corp</td>\n",
       "    </tr>\n",
       "    <tr>\n",
       "      <th>154</th>\n",
       "      <td>BG070047 Corp</td>\n",
       "    </tr>\n",
       "    <tr>\n",
       "      <th>155</th>\n",
       "      <td>BJ676884 Corp</td>\n",
       "    </tr>\n",
       "    <tr>\n",
       "      <th>156</th>\n",
       "      <td>BJ691049 Corp</td>\n",
       "    </tr>\n",
       "    <tr>\n",
       "      <th>157</th>\n",
       "      <td>ZP631688 Corp</td>\n",
       "    </tr>\n",
       "  </tbody>\n",
       "</table>\n",
       "<p>158 rows × 1 columns</p>\n",
       "</div>"
      ],
      "text/plain": [
       "                 0\n",
       "0    BK814876 Corp\n",
       "1    BM910716 Corp\n",
       "2    ZO309983 Corp\n",
       "3    BK398989 Corp\n",
       "4    BK883764 Corp\n",
       "5    BM404455 Corp\n",
       "6    BK499158 Corp\n",
       "7    BM664134 Corp\n",
       "8    BG345649 Corp\n",
       "9    BM722615 Corp\n",
       "10   ZO514532 Corp\n",
       "11   ZO813518 Corp\n",
       "12   BJ482331 Corp\n",
       "13   BK312429 Corp\n",
       "14   BN015528 Corp\n",
       "15   BM627998 Corp\n",
       "16   ZO473417 Corp\n",
       "17   ZP605250 Corp\n",
       "18   BG680220 Corp\n",
       "19   ZO703743 Corp\n",
       "20   ZO425474 Corp\n",
       "21   ZO037312 Corp\n",
       "22   BG011532 Corp\n",
       "23   BK877754 Corp\n",
       "24   BM341884 Corp\n",
       "25   BK892754 Corp\n",
       "26   ZO621438 Corp\n",
       "27   BM664110 Corp\n",
       "28   ZO531975 Corp\n",
       "29   ZO479457 Corp\n",
       "..             ...\n",
       "128  BJ920124 Corp\n",
       "129  BK290940 Corp\n",
       "130  BM235753 Corp\n",
       "131  BK508613 Corp\n",
       "132  BJ263136 Corp\n",
       "133  BJ820609 Corp\n",
       "134  BK678579 Corp\n",
       "135  BJ374602 Corp\n",
       "136  BJ604202 Corp\n",
       "137  BH844759 Corp\n",
       "138  ZO515061 Corp\n",
       "139  ZP761067 Corp\n",
       "140  BM607027 Corp\n",
       "141  BK409403 Corp\n",
       "142  BK880743 Corp\n",
       "143  ZP479931 Corp\n",
       "144  ZP480146 Corp\n",
       "145  ZO064972 Corp\n",
       "146  ZO957837 Corp\n",
       "147  ZO404037 Corp\n",
       "148  BM422439 Corp\n",
       "149  BH811629 Corp\n",
       "150  BM027057 Corp\n",
       "151  ZO858908 Corp\n",
       "152  BH810514 Corp\n",
       "153  BK318383 Corp\n",
       "154  BG070047 Corp\n",
       "155  BJ676884 Corp\n",
       "156  BJ691049 Corp\n",
       "157  ZP631688 Corp\n",
       "\n",
       "[158 rows x 1 columns]"
      ]
     },
     "execution_count": 36,
     "metadata": {},
     "output_type": "execute_result"
    }
   ],
   "source": [
    "response"
   ]
  },
  {
   "cell_type": "code",
   "execution_count": null,
   "metadata": {},
   "outputs": [],
   "source": []
  }
 ],
 "metadata": {
  "kernelspec": {
   "display_name": "Python 3",
   "language": "python",
   "name": "python3"
  },
  "language_info": {
   "codemirror_mode": {
    "name": "ipython",
    "version": 3
   },
   "file_extension": ".py",
   "mimetype": "text/x-python",
   "name": "python",
   "nbconvert_exporter": "python",
   "pygments_lexer": "ipython3",
   "version": "3.6.4"
  }
 },
 "nbformat": 4,
 "nbformat_minor": 2
}
