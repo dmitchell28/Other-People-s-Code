{
 "cells": [
  {
   "cell_type": "markdown",
   "metadata": {},
   "source": [
    "<img src=https://www.factset.com/hubfs/Assets/images/factset-logo.svg width=\"300\" align=\"left\">\n"
   ]
  },
  {
   "cell_type": "markdown",
   "metadata": {},
   "source": [
    "# Content API - FactSet Fundamentals - Getting Started\n",
    "This notebook demonstrates basic features of the FactSet Fundamentals API by walking through the following steps:\n",
    "\n",
    "1. Import Python packages \n",
    "\n",
    "2. Enter your Username and API Key for authorization\n",
    "\n",
    "3. For each Fundamentals API endpoint, create request objects and display the results in a Pandas DataFrame\n",
    "\n",
    "Additional Materials:  \n",
    " \n",
    "* [Open:FactSet Marketplace Card](https://open.factset.com/products/factset-fundamentals-api/en-us) \n",
    "* [FactSet Developer Portal](https://developer.factset.com/api-catalog/factset-fundamentals-api)\n"
   ]
  },
  {
   "cell_type": "markdown",
   "metadata": {},
   "source": [
    "## 1. Import the required packages"
   ]
  },
  {
   "cell_type": "code",
   "execution_count": null,
   "metadata": {},
   "outputs": [],
   "source": [
    "import requests\n",
    "import json\n",
    "import pandas as pd\n",
    "from requests.packages.urllib3.exceptions import InsecureRequestWarning\n",
    "requests.packages.urllib3.disable_warnings(InsecureRequestWarning)\n",
    "from pandas.io.json import json_normalize"
   ]
  },
  {
   "cell_type": "markdown",
   "metadata": {},
   "source": [
    "## 2. Create a connection object\n",
    "\n",
    "Enter your credentials for 'Username' and 'API Key' variables below.\n",
    "\n",
    "To generate an API key, visit  **[Manage API Keys](https://developer.factset.com/factset/api-key-listing)**. Click [here](https://developer.factset.com/authentication) for more details on Authentication.\n",
    "\n",
    "Place your Username and API key in the following authorization scheme or in a file named **fds_setup.py**:\n"
   ]
  },
  {
   "cell_type": "code",
   "execution_count": null,
   "metadata": {},
   "outputs": [],
   "source": [
    "authorization = ('USERNAME','API-KEY')\n",
    "#from fds_setup import authorization"
   ]
  },
  {
   "cell_type": "markdown",
   "metadata": {},
   "source": [
    "# 3.0 Fundamentals API Endpoint Details\n",
    "Section 3 includes detail for each FactSet Fundamentals API endpoint.  \n",
    "\n",
    "The notebook creates a requests object and displays a dataframe for each of the following Fundamentals API endpoints:\n",
    "\n",
    "1. **Fundamentals Metrics** - [/factset-fundamentals/v1/metrics](#metrics_endpoint)\n",
    "2. **Fundamentals**- [/factset-fundamentals/v1/fundamentals](#fundamentals_endpoint)\n",
    "3. **Income Statement** - [/factset-fundamentals/v1/income-statement](#income_statement_endpoint)\n",
    "\n",
    "For additional details regarding each endpoint's request parameters or response models, visit the [FactSet Fundamentals](https://developer.factset.com/api-catalog/factset-fundamentals-api) specification page."
   ]
  },
  {
   "cell_type": "markdown",
   "metadata": {},
   "source": [
    "<a id='metrics_endpoint'></a>\n",
    "## 3.1 Fundamentals Data Items\n",
    "For a list of available FF_* metrics that can be used in the metrics parameter of related endpoints."
   ]
  },
  {
   "cell_type": "markdown",
   "metadata": {},
   "source": [
    "### 3.1a `/factset-fundamentals/v1/metrics` - Create a request object and set the parameters"
   ]
  },
  {
   "cell_type": "code",
   "execution_count": null,
   "metadata": {},
   "outputs": [],
   "source": [
    "metrics_endpoint = 'https://api.factset.com/content/factset-fundamentals/v1/metrics'\n",
    "\n",
    "metrics_request = {\n",
    "  \"category\": \"BALANCE_SHEET\",\n",
    "  \"subcategory\": \"LIABILITIES\"\n",
    "}\n",
    "headers = {'Accept': 'application/json','Content-Type': 'application/json'}"
   ]
  },
  {
   "cell_type": "markdown",
   "metadata": {},
   "source": [
    "### 3.1b `/factset-fundamentals/v1/metrics` - Pull data, display datafame properties, show initial records"
   ]
  },
  {
   "cell_type": "markdown",
   "metadata": {},
   "source": [
    "#### Create a POST Request"
   ]
  },
  {
   "cell_type": "code",
   "execution_count": null,
   "metadata": {},
   "outputs": [],
   "source": [
    "#create a post request\n",
    "metrics_post = json.dumps(metrics_request)\n",
    "metrics_response = requests.post(url = metrics_endpoint, data=metrics_post, auth = authorization, headers = headers, verify= False )\n",
    "print('HTTP Status: {}'.format(metrics_response.status_code))"
   ]
  },
  {
   "cell_type": "markdown",
   "metadata": {},
   "source": [
    "#### Generate a URL for a GET Request"
   ]
  },
  {
   "cell_type": "code",
   "execution_count": null,
   "metadata": {},
   "outputs": [],
   "source": [
    "#genreate a url for a GET request \n",
    "#click on URL to display data response in broswer. For request with large ids, use POST method.\n",
    "get_metrics_url = metrics_endpoint + \"?\"\n",
    "for p,v in metrics_request.items():\n",
    "    if isinstance(v,list):\n",
    "        get_metrics_url += p + '=' + ','.join(v) + '&'\n",
    "    else:\n",
    "        get_metrics_url += p + '=' + str(v) + '&'\n",
    "print(get_metrics_url)"
   ]
  },
  {
   "cell_type": "markdown",
   "metadata": {},
   "source": [
    "#### Create a Dataframe from POST"
   ]
  },
  {
   "cell_type": "code",
   "execution_count": null,
   "metadata": {},
   "outputs": [],
   "source": [
    "#create a dataframe from POST request, show dataframe properties\n",
    "metrics_data = json.loads(metrics_response.text)\n",
    "metrics_df = json_normalize(metrics_data['data'])\n",
    "print('COLUMNS:')\n",
    "print('')\n",
    "print(metrics_df.dtypes)\n",
    "print('')\n",
    "print('RECORDS:',len(metrics_df))"
   ]
  },
  {
   "cell_type": "markdown",
   "metadata": {},
   "source": [
    "#### Display the Records"
   ]
  },
  {
   "cell_type": "code",
   "execution_count": null,
   "metadata": {},
   "outputs": [],
   "source": [
    "#show the last 5 records for select columns\n",
    "metrics_df.tail()"
   ]
  },
  {
   "cell_type": "markdown",
   "metadata": {},
   "source": [
    "<a id='fundamentals_endpoint'></a>\n",
    "## 3.2 Fundamentals\n",
    "For a list of ids, return fundamentals data for a requested metric, date range, reporting interval, and currency. We can get the metric (ex:FF_PAY_ACCT) from the above end point."
   ]
  },
  {
   "cell_type": "markdown",
   "metadata": {},
   "source": [
    "### 3.2a `/factset-fundamentals/v1/fundamentals` - Create a request object and set the parameters"
   ]
  },
  {
   "cell_type": "code",
   "execution_count": null,
   "metadata": {},
   "outputs": [],
   "source": [
    "fundamentals_endpoint = 'https://api.factset.com/content/factset-fundamentals/v1/fundamentals'\n",
    "fundamentals_request={\n",
    "  \"ids\": [\n",
    "    \"FDS-US\"\n",
    "  ],\n",
    "  \"periodicity\": \"QTR\",\n",
    "  \"fiscalPeriodStart\": \"2017-09-01\",\n",
    "  \"fiscalPeriodEnd\": \"2019-03-01\",\n",
    "  \"metrics\": [\n",
    "    \"FF_PAY_ACCT\"\n",
    "  ],\n",
    "  \"currency\": \"USD\",\n",
    "  \"restated\": \"RP\"\n",
    "}\n",
    "\n",
    "headers = {'Accept': 'application/json','Content-Type': 'application/json'}"
   ]
  },
  {
   "cell_type": "markdown",
   "metadata": {},
   "source": [
    "### 3.2b `/factset-fundamentals/v1/fundamentals` - Pull data, display datafame properties, show initial records"
   ]
  },
  {
   "cell_type": "markdown",
   "metadata": {},
   "source": [
    "#### Create a POST Request"
   ]
  },
  {
   "cell_type": "code",
   "execution_count": null,
   "metadata": {},
   "outputs": [],
   "source": [
    "#create a post request\n",
    "fundamentals_post = json.dumps(fundamentals_request)\n",
    "fundamentals_response = requests.post(url = fundamentals_endpoint, data=fundamentals_post, auth = authorization, headers = headers, verify= False )\n",
    "print('HTTP Status: {}'.format(fundamentals_response.status_code))"
   ]
  },
  {
   "cell_type": "markdown",
   "metadata": {},
   "source": [
    "#### Generate a URL for a GET Request"
   ]
  },
  {
   "cell_type": "code",
   "execution_count": null,
   "metadata": {},
   "outputs": [],
   "source": [
    "#genreate a url for a GET request \n",
    "#click on URL to display data response in broswer. For request with large ids, use POST method.\n",
    "get_fundamentals_url = fundamentals_endpoint + \"?\"\n",
    "for p,v in fundamentals_request.items():\n",
    "    if isinstance(v,list):\n",
    "        get_fundamentals_url += p + '=' + ','.join(v) + '&'\n",
    "    else:\n",
    "        get_fundamentals_url += p + '=' + str(v) + '&'\n",
    "print(get_fundamentals_url)"
   ]
  },
  {
   "cell_type": "markdown",
   "metadata": {},
   "source": [
    "#### Create a Dataframe from POST"
   ]
  },
  {
   "cell_type": "code",
   "execution_count": null,
   "metadata": {},
   "outputs": [],
   "source": [
    "#create a dataframe from POST request, show dataframe properties\n",
    "fundamentals_data = json.loads(fundamentals_response.text)\n",
    "fundamentals_df = json_normalize(fundamentals_data['data'])\n",
    "print('COLUMNS:')\n",
    "print('')\n",
    "print(fundamentals_df.dtypes)\n",
    "print('')\n",
    "print('RECORDS:',len(fundamentals_df))"
   ]
  },
  {
   "cell_type": "markdown",
   "metadata": {},
   "source": [
    "#### Display the Records"
   ]
  },
  {
   "cell_type": "code",
   "execution_count": null,
   "metadata": {},
   "outputs": [],
   "source": [
    "#show the last 5 records for select columns\n",
    "fundamentals_df[['fsymId','requestId','metric','currency','reportDate','periodicity','epsReportDate','fiscalEndDate','fiscalPeriod','fiscalPeriodLength','fiscalYear','updateStatus','updateType','value']].tail()"
   ]
  },
  {
   "cell_type": "markdown",
   "metadata": {},
   "source": [
    "  \n",
    "## Next Steps\n",
    "\n",
    "\n",
    "* **Documentation for the APIs discussed above can be found within the**\n",
    "    * [Developer Portal](https://developer.factset.com/api-catalog/factset-fundamentals-api) \n",
    "    * [Open:FactSet Marketplace](https://open.factset.com/products/factset-fundamentals-api/en-us) \n",
    "\n",
    "\n",
    "* **Please direct any requests or questions to your CTS Specialist or file an [Issue Tracker](issuetracker.factset.com) under the \"Juypter Notebook\" sub-category.**\n",
    "\n",
    "\n",
    "\n",
    "\n",
    "\n",
    "\n",
    "\n"
   ]
  },
  {
   "cell_type": "markdown",
   "metadata": {},
   "source": [
    "> Disclaimer: *The data in this Notebook is proprietary to FactSet Research Systems Inc. and its affiliates (\"FactSet\") and its third-party data suppliers (\"Suppliers\").  The data is provided \"as is,\" for internal use in accordance with the terms of the license agreement or trial agreement in place between you and FactSet, and FactSet and its Suppliers disclaim all express and implied warranties, including, without limitation, any express or implied warranty of accuracy, satisfactory quality, or fitness for a particular purpose.*\n"
   ]
  }
 ],
 "metadata": {
  "kernelspec": {
   "display_name": "Python 3",
   "language": "python",
   "name": "python3"
  },
  "language_info": {
   "codemirror_mode": {
    "name": "ipython",
    "version": 3
   },
   "file_extension": ".py",
   "mimetype": "text/x-python",
   "name": "python",
   "nbconvert_exporter": "python",
   "pygments_lexer": "ipython3",
   "version": "3.7.3"
  }
 },
 "nbformat": 4,
 "nbformat_minor": 2
}
